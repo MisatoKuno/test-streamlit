{
 "cells": [
  {
   "cell_type": "code",
   "execution_count": 1,
   "id": "901d88f6",
   "metadata": {},
   "outputs": [
    {
     "name": "stdout",
     "output_type": "stream",
     "text": [
      "a 0 D 20\n"
     ]
    }
   ],
   "source": [
    "import tkinter\n",
    "from tkinter import ttk\n",
    "\n",
    "def button_function():\n",
    "    input_text=input_box.get()\n",
    "    radio=var.get()\n",
    "    list_select=listbox.get(listbox.curselection())\n",
    "    combo_select=combobox.get()\n",
    "    print(input_text,radio,list_select,combo_select)\n",
    "\n",
    "window=tkinter.Tk()\n",
    "window.title(\"タイトル\")\n",
    "window.geometry(\"800x500+100+100\")\n",
    "window.attributes(\"-topmost\",True)\n",
    "\n",
    "label=tkinter.Label(window,text=\"これはラベルです。\")\n",
    "label.place(x=100,y=100)\n",
    "\n",
    "input_box=tkinter.Entry(window)\n",
    "input_box.place(x=100,y=200)\n",
    "\n",
    "button=tkinter.Button(window,text=\"ボタン\",command=button_function)\n",
    "button.place(x=100,y=300)\n",
    "\n",
    "var=tkinter.IntVar()\n",
    "radio_button1=tkinter.Radiobutton(window,text=\"ラジオボタン1\",value=1,variable=1)\n",
    "radio_button1.place(x=100,y=350)\n",
    "radio_button2=tkinter.Radiobutton(window,text=\"ラジオボタン2\",value=2,variable=2)\n",
    "radio_button2.place(x=100,y=400)\n",
    "\n",
    "List=[\"A\",\"B\",\"C\",\"D\",\"E\"]\n",
    "list_var=tkinter.StringVar(value=List)\n",
    "listbox=tkinter.Listbox(window,height=10,listvariable=list_var,exportselection=False)\n",
    "listbox.place(x=300,y=200)\n",
    "\n",
    "combo=(10,20,30,40)\n",
    "combobox=ttk.Combobox(window,values=combo,state=\"readonly\")\n",
    "combobox.place(x=500,y=200)\n",
    "\n",
    "window.mainloop()"
   ]
  },
  {
   "cell_type": "code",
   "execution_count": 18,
   "id": "ca06fd5e",
   "metadata": {},
   "outputs": [],
   "source": [
    "def hello():\n",
    "    print(\"こんにちは。\")\n",
    "\n",
    "hello()"
   ]
  },
  {
   "cell_type": "code",
   "execution_count": 22,
   "id": "ffa4ce1b",
   "metadata": {},
   "outputs": [],
   "source": [
    "def hello_to(name=\"kuno\"):\n",
    "    print(\"こんにちは。{}さん。\".format(name))"
   ]
  },
  {
   "cell_type": "code",
   "execution_count": 23,
   "id": "4474db25",
   "metadata": {},
   "outputs": [
    {
     "name": "stdout",
     "output_type": "stream",
     "text": [
      "こんにちは。misatoさん。\n"
     ]
    }
   ],
   "source": [
    "hello_to(\"misato\")"
   ]
  },
  {
   "cell_type": "code",
   "execution_count": 24,
   "id": "3741a587",
   "metadata": {},
   "outputs": [
    {
     "name": "stdout",
     "output_type": "stream",
     "text": [
      "こんにちは。kunoさん。\n"
     ]
    }
   ],
   "source": [
    "hello_to()"
   ]
  },
  {
   "cell_type": "code",
   "execution_count": 25,
   "id": "3bba4ba1",
   "metadata": {},
   "outputs": [],
   "source": [
    "def plus(a,b):\n",
    "    return a+b"
   ]
  },
  {
   "cell_type": "code",
   "execution_count": 27,
   "id": "096bb1da",
   "metadata": {},
   "outputs": [],
   "source": [
    "c=plus(2,3)"
   ]
  },
  {
   "cell_type": "code",
   "execution_count": 28,
   "id": "e7dcc29e",
   "metadata": {},
   "outputs": [
    {
     "data": {
      "text/plain": [
       "8"
      ]
     },
     "execution_count": 28,
     "metadata": {},
     "output_type": "execute_result"
    }
   ],
   "source": [
    "c+3"
   ]
  },
  {
   "cell_type": "code",
   "execution_count": null,
   "id": "b658924d",
   "metadata": {},
   "outputs": [],
   "source": []
  }
 ],
 "metadata": {
  "kernelspec": {
   "display_name": "Python 3 (ipykernel)",
   "language": "python",
   "name": "python3"
  },
  "language_info": {
   "codemirror_mode": {
    "name": "ipython",
    "version": 3
   },
   "file_extension": ".py",
   "mimetype": "text/x-python",
   "name": "python",
   "nbconvert_exporter": "python",
   "pygments_lexer": "ipython3",
   "version": "3.11.0"
  }
 },
 "nbformat": 4,
 "nbformat_minor": 5
}
