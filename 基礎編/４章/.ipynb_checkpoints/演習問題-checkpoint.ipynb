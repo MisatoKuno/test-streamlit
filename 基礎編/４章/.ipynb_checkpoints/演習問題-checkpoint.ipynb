{
 "cells": [
  {
   "cell_type": "markdown",
   "id": "f3deb502",
   "metadata": {},
   "source": [
    "#### 問１．変数xと変数yを使って、xをyで割った余りをzという名前の変数に代入してください。　※回答は1行で書くこと"
   ]
  },
  {
   "cell_type": "code",
   "execution_count": 2,
   "id": "b9fd9ac9",
   "metadata": {},
   "outputs": [],
   "source": [
    "#このセルを実行した上で回答してください。\n",
    "x=\"78\"\n",
    "y=\"9\""
   ]
  },
  {
   "cell_type": "code",
   "execution_count": 8,
   "id": "9e363d03",
   "metadata": {},
   "outputs": [],
   "source": [
    "z=int(x)%int(y)"
   ]
  },
  {
   "cell_type": "markdown",
   "id": "441f8fee",
   "metadata": {},
   "source": [
    "#### 問２．x,y,zを使って、「78を9で割った余りは6です。」という文字列をprintしてください。　※回答は1行で書くこと"
   ]
  },
  {
   "cell_type": "code",
   "execution_count": 9,
   "id": "e13b5ac4",
   "metadata": {},
   "outputs": [
    {
     "name": "stdout",
     "output_type": "stream",
     "text": [
      "78を9で割った余りは6です。\n"
     ]
    }
   ],
   "source": [
    "print(\"{}を{}で割った余りは{}です。\".format(x,y,z))\n"
   ]
  },
  {
   "cell_type": "markdown",
   "id": "d41e4e92",
   "metadata": {},
   "source": [
    "#### 問３．list_aから、6と10をそれぞれ抽出してください。"
   ]
  },
  {
   "cell_type": "code",
   "execution_count": 23,
   "id": "3661aca5",
   "metadata": {},
   "outputs": [],
   "source": [
    "list_a=[1,2,3,4,5,6,7,8,9,10]"
   ]
  },
  {
   "cell_type": "code",
   "execution_count": 24,
   "id": "45cda8e1",
   "metadata": {},
   "outputs": [
    {
     "name": "stdout",
     "output_type": "stream",
     "text": [
      "6\n"
     ]
    },
    {
     "data": {
      "text/plain": [
       "10"
      ]
     },
     "execution_count": 24,
     "metadata": {},
     "output_type": "execute_result"
    }
   ],
   "source": [
    "print(list_a[5])\n",
    "list_a[-1]\n"
   ]
  },
  {
   "cell_type": "markdown",
   "id": "9dac4085",
   "metadata": {},
   "source": [
    "#### 問４．list_aの最後に、11を追加してください。"
   ]
  },
  {
   "cell_type": "code",
   "execution_count": 25,
   "id": "b140ca88",
   "metadata": {},
   "outputs": [],
   "source": [
    "list_a.append(11)"
   ]
  },
  {
   "cell_type": "markdown",
   "id": "3f95a2ac",
   "metadata": {},
   "source": [
    "#### 問５．for文を使って、list_aの各要素を2倍したlist_bを作成してください。"
   ]
  },
  {
   "cell_type": "code",
   "execution_count": 33,
   "id": "e37dca5e",
   "metadata": {},
   "outputs": [
    {
     "data": {
      "text/plain": [
       "[2, 4, 6, 8, 10, 12, 14, 16, 18, 20, 22]"
      ]
     },
     "execution_count": 33,
     "metadata": {},
     "output_type": "execute_result"
    }
   ],
   "source": [
    "list_b=[]\n",
    "for i in list_a:\n",
    "    list_b.append(i*2)\n",
    "list_b\n"
   ]
  },
  {
   "cell_type": "markdown",
   "id": "ac7a1649",
   "metadata": {},
   "source": [
    "#### 問６．for文とif文を使って、list_bから3の倍数のみを抽出したlist_cを作成してください。"
   ]
  },
  {
   "cell_type": "code",
   "execution_count": 32,
   "id": "b0d7db6d",
   "metadata": {},
   "outputs": [
    {
     "data": {
      "text/plain": [
       "[6, 12, 18]"
      ]
     },
     "execution_count": 32,
     "metadata": {},
     "output_type": "execute_result"
    }
   ],
   "source": [
    "list_c=[]\n",
    "for i in list_b:\n",
    "    if i%3 == 0:\n",
    "        list_c.append(i)\n",
    "list_c"
   ]
  },
  {
   "cell_type": "markdown",
   "id": "a7756202",
   "metadata": {},
   "source": [
    "#### 問７．list_cとenumerateを使って、  \n",
    "　　　0番目の要素は6です。  \n",
    "　　　1番目の要素は12です。  \n",
    "　　　2番目の要素は18です。  \n",
    "#### 　　　とprintしてください。"
   ]
  },
  {
   "cell_type": "code",
   "execution_count": 35,
   "id": "408f53f1",
   "metadata": {},
   "outputs": [
    {
     "name": "stdout",
     "output_type": "stream",
     "text": [
      "0番目の要素は6です。\n",
      "1番目の要素は12です。\n",
      "2番目の要素は18です。\n"
     ]
    }
   ],
   "source": [
    "for i,j in enumerate(list_c):\n",
    "    print(\"{}番目の要素は{}です。\".format(i,j))\n"
   ]
  },
  {
   "cell_type": "markdown",
   "id": "c2d0b49b",
   "metadata": {},
   "source": [
    "#### 問８．変数filenameから、「ver」の後の数字部分を抽出して、versionという変数に代入してください。"
   ]
  },
  {
   "cell_type": "code",
   "execution_count": 36,
   "id": "a336332e",
   "metadata": {},
   "outputs": [],
   "source": [
    "filename=\"資料_ver1.0.2\""
   ]
  },
  {
   "cell_type": "code",
   "execution_count": 39,
   "id": "0270cf33",
   "metadata": {},
   "outputs": [
    {
     "data": {
      "text/plain": [
       "'1.0.2'"
      ]
     },
     "execution_count": 39,
     "metadata": {},
     "output_type": "execute_result"
    }
   ],
   "source": [
    "version=filename[-5:]\n",
    "version\n"
   ]
  },
  {
   "cell_type": "markdown",
   "id": "9302c75f",
   "metadata": {},
   "source": [
    "#### 問９．このjupyterファイル（演習問題.ipynb）の絶対パスを取得し、変数pathに代入してください。"
   ]
  },
  {
   "cell_type": "code",
   "execution_count": 41,
   "id": "c37fe868",
   "metadata": {},
   "outputs": [
    {
     "data": {
      "text/plain": [
       "'C:\\\\Users\\\\mkuno5808\\\\Desktop\\\\基礎\\\\Udemy\\\\Python\\\\４章'"
      ]
     },
     "execution_count": 41,
     "metadata": {},
     "output_type": "execute_result"
    }
   ],
   "source": [
    "import os\n",
    "path=os.getcwd()\n",
    "path"
   ]
  },
  {
   "cell_type": "markdown",
   "id": "c0351c78",
   "metadata": {},
   "source": [
    "#### 問１０．timeというライブラリとfor文を使って、実行後1秒ごとに「○秒経過」、5秒経過後に「処理終了」とprintするプログラムを作ってください。"
   ]
  },
  {
   "cell_type": "code",
   "execution_count": 45,
   "id": "0722cd2d",
   "metadata": {},
   "outputs": [
    {
     "data": {
      "text/plain": [
       "1684371565.2272737"
      ]
     },
     "execution_count": 45,
     "metadata": {},
     "output_type": "execute_result"
    }
   ],
   "source": [
    "import time\n",
    "time.time()\n"
   ]
  },
  {
   "cell_type": "code",
   "execution_count": 48,
   "id": "11640c2b",
   "metadata": {},
   "outputs": [
    {
     "name": "stdout",
     "output_type": "stream",
     "text": [
      "1秒経過\n",
      "2秒経過\n",
      "3秒経過\n",
      "4秒経過\n",
      "処理終了\n"
     ]
    }
   ],
   "source": [
    "for i in range(1,5):\n",
    "    time.sleep(1)\n",
    "    print(\"{}秒経過\".format(i))\n",
    "time.sleep(1)\n",
    "print(\"処理終了\")\n",
    "    "
   ]
  }
 ],
 "metadata": {
  "kernelspec": {
   "display_name": "Python 3 (ipykernel)",
   "language": "python",
   "name": "python3"
  },
  "language_info": {
   "codemirror_mode": {
    "name": "ipython",
    "version": 3
   },
   "file_extension": ".py",
   "mimetype": "text/x-python",
   "name": "python",
   "nbconvert_exporter": "python",
   "pygments_lexer": "ipython3",
   "version": "3.11.0"
  },
  "varInspector": {
   "cols": {
    "lenName": 16,
    "lenType": 16,
    "lenVar": 40
   },
   "kernels_config": {
    "python": {
     "delete_cmd_postfix": "",
     "delete_cmd_prefix": "del ",
     "library": "var_list.py",
     "varRefreshCmd": "print(var_dic_list())"
    },
    "r": {
     "delete_cmd_postfix": ") ",
     "delete_cmd_prefix": "rm(",
     "library": "var_list.r",
     "varRefreshCmd": "cat(var_dic_list()) "
    }
   },
   "types_to_exclude": [
    "module",
    "function",
    "builtin_function_or_method",
    "instance",
    "_Feature"
   ],
   "window_display": false
  }
 },
 "nbformat": 4,
 "nbformat_minor": 5
}
