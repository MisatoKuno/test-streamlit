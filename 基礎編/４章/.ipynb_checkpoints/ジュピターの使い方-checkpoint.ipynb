{
 "cells": [
  {
   "cell_type": "markdown",
   "id": "3202cfd3",
   "metadata": {},
   "source": [
    "テスト"
   ]
  },
  {
   "cell_type": "markdown",
   "id": "ac3fd4aa",
   "metadata": {},
   "source": [
    "**#test  \n",
    "a"
   ]
  },
  {
   "cell_type": "markdown",
   "id": "316c80a1",
   "metadata": {},
   "source": [
    "- １行目\n",
    "- 2行目"
   ]
  },
  {
   "cell_type": "markdown",
   "id": "c68a16ce",
   "metadata": {},
   "source": [
    "#テスト"
   ]
  },
  {
   "cell_type": "markdown",
   "id": "1ea502d8",
   "metadata": {},
   "source": [
    "#test"
   ]
  },
  {
   "cell_type": "markdown",
   "id": "9abbb2fd",
   "metadata": {},
   "source": [
    "# test"
   ]
  },
  {
   "cell_type": "markdown",
   "id": "6e675bbb",
   "metadata": {},
   "source": [
    "## TEST"
   ]
  },
  {
   "cell_type": "markdown",
   "id": "36228b8e",
   "metadata": {},
   "source": [
    "### test"
   ]
  },
  {
   "cell_type": "code",
   "execution_count": null,
   "id": "e0f380c5",
   "metadata": {},
   "outputs": [],
   "source": []
  }
 ],
 "metadata": {
  "kernelspec": {
   "display_name": "Python 3 (ipykernel)",
   "language": "python",
   "name": "python3"
  },
  "language_info": {
   "codemirror_mode": {
    "name": "ipython",
    "version": 3
   },
   "file_extension": ".py",
   "mimetype": "text/x-python",
   "name": "python",
   "nbconvert_exporter": "python",
   "pygments_lexer": "ipython3",
   "version": "3.11.0"
  }
 },
 "nbformat": 4,
 "nbformat_minor": 5
}
