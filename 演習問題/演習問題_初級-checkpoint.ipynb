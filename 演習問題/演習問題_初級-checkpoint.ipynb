{
 "cells": [
  {
   "cell_type": "markdown",
   "id": "9b59fa75",
   "metadata": {},
   "source": [
    "**問１．  \n",
    "変数xに10を、変数yに20を代入し、xとyを掛け合わせた数値をprintしてください。**"
   ]
  },
  {
   "cell_type": "code",
   "execution_count": 1,
   "id": "712480e8",
   "metadata": {},
   "outputs": [
    {
     "name": "stdout",
     "output_type": "stream",
     "text": [
      "200\n"
     ]
    }
   ],
   "source": [
    "x=10\n",
    "y=20\n",
    "print(x*y)"
   ]
  },
  {
   "cell_type": "markdown",
   "id": "a1b06ae0",
   "metadata": {},
   "source": [
    "**問２．  \n",
    "変数word1に「演習」という文字列を、変数word2に「問題」という文字列を代入し、それらの変数を使って「演習問題」という文字列をprintしてください。**"
   ]
  },
  {
   "cell_type": "code",
   "execution_count": 2,
   "id": "9ee58606",
   "metadata": {},
   "outputs": [
    {
     "name": "stdout",
     "output_type": "stream",
     "text": [
      "演習問題\n"
     ]
    }
   ],
   "source": [
    "word1=\"演習\"\n",
    "word2=\"問題\"\n",
    "print(word1+word2)\n"
   ]
  },
  {
   "cell_type": "markdown",
   "id": "c58073f0",
   "metadata": {},
   "source": [
    "**問３．  \n",
    "変数nameにご自身のお名前を、変数ageにご自身の年齢を代入し、それらの変数を使って「私は〇〇です。△△歳です。」という文字列をprintしてください。**"
   ]
  },
  {
   "cell_type": "code",
   "execution_count": 3,
   "id": "9815fa4e",
   "metadata": {},
   "outputs": [
    {
     "name": "stdout",
     "output_type": "stream",
     "text": [
      "私はmisatoです。26歳です。\n"
     ]
    }
   ],
   "source": [
    "name=\"misato\"\n",
    "age=\"26\"\n",
    "print(\"私は{}です。{}歳です。\".format(name,age))"
   ]
  },
  {
   "cell_type": "markdown",
   "id": "16dfbe3d",
   "metadata": {},
   "source": [
    "**問４．  \n",
    "Listの最初の要素から最後の要素を引いた値をprintしてください。**"
   ]
  },
  {
   "cell_type": "code",
   "execution_count": 5,
   "id": "31500d33",
   "metadata": {
    "scrolled": true
   },
   "outputs": [
    {
     "name": "stdout",
     "output_type": "stream",
     "text": [
      "24\n"
     ]
    }
   ],
   "source": [
    "List=[81, 15, 11, 60, 57]\n",
    "print(List[0]-List[-1])"
   ]
  },
  {
   "cell_type": "markdown",
   "id": "e76682f9",
   "metadata": {},
   "source": [
    "**問５．  \n",
    "input関数を使って整数を入力し、その整数を10で割った余りをprintするプログラムを作成してください。※inputしたものは任意の変数に代入した上で、続くコードに用いてください。以降の問題についても同様です。**"
   ]
  },
  {
   "cell_type": "code",
   "execution_count": 15,
   "id": "eabd1b1b",
   "metadata": {
    "scrolled": true
   },
   "outputs": [
    {
     "name": "stdout",
     "output_type": "stream",
     "text": [
      "整数を入力：d\n",
      "整数を入力してください。\n",
      "整数を入力：d\n",
      "整数を入力してください。\n",
      "整数を入力：g\n",
      "整数を入力してください。\n",
      "整数を入力：4\n",
      "4\n"
     ]
    }
   ],
   "source": [
    "def nyuryoku():\n",
    "    x=input(\"整数を入力：\")\n",
    "    try:\n",
    "        x=int(x)\n",
    "    except:\n",
    "        print(\"整数を入力してください。\")\n",
    "        return nyuryoku()\n",
    "    return x\n",
    "\n",
    "x=nyuryoku()\n",
    "print(x%10)\n",
    "\n"
   ]
  },
  {
   "cell_type": "markdown",
   "id": "d276491f",
   "metadata": {},
   "source": [
    "**問６．  \n",
    "input関数を使って整数を入力し、その整数が20以上の場合は「はい」、そうでない場合は「いいえ」とprintするプログラムを作成してください。※整数以外が入力された場合などの\"例外ケース\"については、考慮する必要はありません。特に記載が無い限り、以降の問題についても同様です。**"
   ]
  },
  {
   "cell_type": "code",
   "execution_count": 17,
   "id": "83842c33",
   "metadata": {
    "scrolled": true
   },
   "outputs": [
    {
     "name": "stdout",
     "output_type": "stream",
     "text": [
      "整数を入力３０\n",
      "はい\n"
     ]
    }
   ],
   "source": [
    "def nyuryoku():\n",
    "    y=input(\"整数を入力\")\n",
    "    try:\n",
    "        y=int(y)\n",
    "    except:\n",
    "        print(\"整数を入力してください。\")\n",
    "        return nyuryoku()\n",
    "    return y\n",
    "\n",
    "y=nyuryoku()\n",
    "\n",
    "if y>=20:\n",
    "    print(\"はい\")\n",
    "else:\n",
    "    print(\"いいえ\")\n"
   ]
  },
  {
   "cell_type": "markdown",
   "id": "751ef827",
   "metadata": {},
   "source": [
    "**問７．  \n",
    "1から100までの整数を順番にprintしてください。**"
   ]
  },
  {
   "cell_type": "code",
   "execution_count": 18,
   "id": "b822e157",
   "metadata": {
    "scrolled": true
   },
   "outputs": [
    {
     "name": "stdout",
     "output_type": "stream",
     "text": [
      "1\n",
      "2\n",
      "3\n",
      "4\n",
      "5\n",
      "6\n",
      "7\n",
      "8\n",
      "9\n",
      "10\n",
      "11\n",
      "12\n",
      "13\n",
      "14\n",
      "15\n",
      "16\n",
      "17\n",
      "18\n",
      "19\n",
      "20\n",
      "21\n",
      "22\n",
      "23\n",
      "24\n",
      "25\n",
      "26\n",
      "27\n",
      "28\n",
      "29\n",
      "30\n",
      "31\n",
      "32\n",
      "33\n",
      "34\n",
      "35\n",
      "36\n",
      "37\n",
      "38\n",
      "39\n",
      "40\n",
      "41\n",
      "42\n",
      "43\n",
      "44\n",
      "45\n",
      "46\n",
      "47\n",
      "48\n",
      "49\n",
      "50\n",
      "51\n",
      "52\n",
      "53\n",
      "54\n",
      "55\n",
      "56\n",
      "57\n",
      "58\n",
      "59\n",
      "60\n",
      "61\n",
      "62\n",
      "63\n",
      "64\n",
      "65\n",
      "66\n",
      "67\n",
      "68\n",
      "69\n",
      "70\n",
      "71\n",
      "72\n",
      "73\n",
      "74\n",
      "75\n",
      "76\n",
      "77\n",
      "78\n",
      "79\n",
      "80\n",
      "81\n",
      "82\n",
      "83\n",
      "84\n",
      "85\n",
      "86\n",
      "87\n",
      "88\n",
      "89\n",
      "90\n",
      "91\n",
      "92\n",
      "93\n",
      "94\n",
      "95\n",
      "96\n",
      "97\n",
      "98\n",
      "99\n",
      "100\n"
     ]
    }
   ],
   "source": [
    "for i in range(100):\n",
    "    print(i+1)\n"
   ]
  },
  {
   "cell_type": "markdown",
   "id": "0d8cfba7",
   "metadata": {},
   "source": [
    "**問８．  \n",
    "1から100までの整数を要素に持つリストを任意の変数名で作成し、それをprintしてください。**"
   ]
  },
  {
   "cell_type": "code",
   "execution_count": 26,
   "id": "d6c7cbf7",
   "metadata": {
    "scrolled": true
   },
   "outputs": [
    {
     "name": "stdout",
     "output_type": "stream",
     "text": [
      "[1, 2, 3, 4, 5, 6, 7, 8, 9, 10, 11, 12, 13, 14, 15, 16, 17, 18, 19, 20, 21, 22, 23, 24, 25, 26, 27, 28, 29, 30, 31, 32, 33, 34, 35, 36, 37, 38, 39, 40, 41, 42, 43, 44, 45, 46, 47, 48, 49, 50, 51, 52, 53, 54, 55, 56, 57, 58, 59, 60, 61, 62, 63, 64, 65, 66, 67, 68, 69, 70, 71, 72, 73, 74, 75, 76, 77, 78, 79, 80, 81, 82, 83, 84, 85, 86, 87, 88, 89, 90, 91, 92, 93, 94, 95, 96, 97, 98, 99, 100]\n"
     ]
    }
   ],
   "source": [
    "List=[]\n",
    "for i in range(100):\n",
    "    List.append(i+1)\n",
    "print(List)\n"
   ]
  },
  {
   "cell_type": "code",
   "execution_count": 113,
   "id": "523f811e",
   "metadata": {},
   "outputs": [
    {
     "data": {
      "text/plain": [
       "range"
      ]
     },
     "execution_count": 113,
     "metadata": {},
     "output_type": "execute_result"
    }
   ],
   "source": [
    "type(range(1,101))"
   ]
  },
  {
   "cell_type": "markdown",
   "id": "89f6876f",
   "metadata": {},
   "source": [
    "**問９．  \n",
    "変数textから、\"おかき\"という文字列を抽出してprintしてください。**"
   ]
  },
  {
   "cell_type": "code",
   "execution_count": 114,
   "id": "4c1d36a9",
   "metadata": {
    "scrolled": false
   },
   "outputs": [
    {
     "name": "stdout",
     "output_type": "stream",
     "text": [
      "おかき\n"
     ]
    }
   ],
   "source": [
    "text=\"あいうえおかきくけこ\"\n",
    "print(text[4:7])\n"
   ]
  },
  {
   "cell_type": "markdown",
   "id": "07da7605",
   "metadata": {},
   "source": [
    "**問１０．  \n",
    "word_list内の各文字列を、range関数を使わずに先頭から順番にprintしてください。**"
   ]
  },
  {
   "cell_type": "code",
   "execution_count": 29,
   "id": "26737efc",
   "metadata": {
    "scrolled": false
   },
   "outputs": [
    {
     "name": "stdout",
     "output_type": "stream",
     "text": [
      "Apple\n",
      "Beautiful\n",
      "Teacher\n",
      "Lion\n",
      "Ocean\n",
      "Student\n",
      "Computer\n",
      "Amazon\n",
      "Python\n",
      "Phone\n"
     ]
    }
   ],
   "source": [
    "word_list=[\"Apple\", \"Beautiful\", \"Teacher\", \"Lion\", \"Ocean\", \"Student\", \"Computer\", \"Amazon\", \"Python\", \"Phone\"]\n",
    "\n",
    "for i in word_list:\n",
    "    print(i)\n"
   ]
  },
  {
   "cell_type": "markdown",
   "id": "6b27cbf4",
   "metadata": {},
   "source": [
    "**問１１．  \n",
    "word_list内の各文字列を、range関数を使ってfor文の変数をインデックス（左から何番目）として用いる形で、先頭から順番にprintしてください。**"
   ]
  },
  {
   "cell_type": "code",
   "execution_count": 30,
   "id": "95378331",
   "metadata": {},
   "outputs": [
    {
     "name": "stdout",
     "output_type": "stream",
     "text": [
      "Apple\n",
      "Beautiful\n",
      "Teacher\n",
      "Lion\n",
      "Ocean\n",
      "Student\n",
      "Computer\n",
      "Amazon\n",
      "Python\n",
      "Phone\n"
     ]
    }
   ],
   "source": [
    "word_list=[\"Apple\", \"Beautiful\", \"Teacher\", \"Lion\", \"Ocean\", \"Student\", \"Computer\", \"Amazon\", \"Python\", \"Phone\"]\n",
    "\n",
    "for i in range(len(word_list)):\n",
    "    print(word_list[i])\n"
   ]
  },
  {
   "cell_type": "markdown",
   "id": "78766445",
   "metadata": {},
   "source": [
    "**問１２．  \n",
    "変数textの先頭から1文字ずつ順番にprintしてください。**"
   ]
  },
  {
   "cell_type": "code",
   "execution_count": 31,
   "id": "12ac266a",
   "metadata": {
    "scrolled": true
   },
   "outputs": [
    {
     "name": "stdout",
     "output_type": "stream",
     "text": [
      "あ\n",
      "い\n",
      "う\n",
      "え\n",
      "お\n",
      "か\n",
      "き\n",
      "く\n",
      "け\n",
      "こ\n"
     ]
    }
   ],
   "source": [
    "text=\"あいうえおかきくけこ\"\n",
    "\n",
    "for i in range(len(text)):\n",
    "    print(text[i])\n"
   ]
  },
  {
   "cell_type": "markdown",
   "id": "483a3811",
   "metadata": {},
   "source": [
    "**問１３．  \n",
    "変数textにおける\"く\"のインデックスをprintしてください（目視で数えるのは不可）。**"
   ]
  },
  {
   "cell_type": "code",
   "execution_count": 32,
   "id": "b83d22b4",
   "metadata": {
    "scrolled": true
   },
   "outputs": [
    {
     "name": "stdout",
     "output_type": "stream",
     "text": [
      "7\n"
     ]
    }
   ],
   "source": [
    "text=\"あいうえおかきくけこ\"\n",
    "print(text.find(\"く\"))\n"
   ]
  },
  {
   "cell_type": "markdown",
   "id": "9c4629a2",
   "metadata": {},
   "source": [
    "**問１４．  \n",
    "input関数を使って文字列を入力し、その先頭から5文字をprintするプログラムを作成してください。**"
   ]
  },
  {
   "cell_type": "code",
   "execution_count": 43,
   "id": "77c5a434",
   "metadata": {
    "scrolled": true
   },
   "outputs": [
    {
     "name": "stdout",
     "output_type": "stream",
     "text": [
      "5文字以上入力：こんにちはこんばんは\n",
      "こんにちは\n"
     ]
    }
   ],
   "source": [
    "moji=input(\"5文字以上入力：\")\n",
    "print(moji[0:5])\n"
   ]
  },
  {
   "cell_type": "markdown",
   "id": "9de04fd8",
   "metadata": {},
   "source": [
    "**問１５．  \n",
    "input関数を使って文字列を入力し、その末尾から5文字をprintするプログラムを作成してください。**"
   ]
  },
  {
   "cell_type": "code",
   "execution_count": 38,
   "id": "dcdb5a2c",
   "metadata": {
    "scrolled": true
   },
   "outputs": [
    {
     "name": "stdout",
     "output_type": "stream",
     "text": [
      "5文字以上入力：こんにちはこんばんは\n",
      "こんばんは\n"
     ]
    }
   ],
   "source": [
    "moji=input(\"5文字以上入力：\")\n",
    "print(moji[-5:])\n"
   ]
  },
  {
   "cell_type": "markdown",
   "id": "fefcfcdd",
   "metadata": {},
   "source": [
    "**問１６．  \n",
    "input関数を使って文字列を入力し、その長さをprintするプログラムを作ってください。**"
   ]
  },
  {
   "cell_type": "code",
   "execution_count": 44,
   "id": "7141768b",
   "metadata": {
    "scrolled": true
   },
   "outputs": [
    {
     "name": "stdout",
     "output_type": "stream",
     "text": [
      "ここに文字列を入力：コンテンツ\n",
      "5\n"
     ]
    }
   ],
   "source": [
    "moji=input(\"ここに文字列を入力：\")\n",
    "print(len(moji))\n"
   ]
  },
  {
   "cell_type": "markdown",
   "id": "117dcff6",
   "metadata": {},
   "source": [
    "**問１７．  \n",
    "変数textにおける\"う\"のインデックスを順番に全てprintしてください（目視で数えるのは不可）。**"
   ]
  },
  {
   "cell_type": "code",
   "execution_count": 115,
   "id": "9f96c0fb",
   "metadata": {},
   "outputs": [
    {
     "name": "stdout",
     "output_type": "stream",
     "text": [
      "2\n",
      "7\n"
     ]
    }
   ],
   "source": [
    "text=\"あいうえおおえういあ\"\n",
    "for i in range(len(text)):\n",
    "    if text[i]==\"う\":\n",
    "        print(i)\n"
   ]
  },
  {
   "cell_type": "markdown",
   "id": "df4bddce",
   "metadata": {},
   "source": [
    "**問１８．  \n",
    "input関数を使って英単語を入力し、その単語にaという文字を含む場合は「yes」、含まない場合は「no」とprintするプログラムを作成してください。**"
   ]
  },
  {
   "cell_type": "code",
   "execution_count": 56,
   "id": "ad8614ac",
   "metadata": {
    "scrolled": true
   },
   "outputs": [
    {
     "name": "stdout",
     "output_type": "stream",
     "text": [
      "英単語を入力：pineapple\n",
      "yes\n"
     ]
    }
   ],
   "source": [
    "eng=input(\"英単語を入力：\")\n",
    "\n",
    "if eng.find(\"a\")<=len(eng) and eng.find(\"a\")>=0:\n",
    "    print(\"yes\")\n",
    "else:\n",
    "    print(\"no\")\n"
   ]
  },
  {
   "cell_type": "code",
   "execution_count": 121,
   "id": "bae61e40",
   "metadata": {},
   "outputs": [
    {
     "name": "stdout",
     "output_type": "stream",
     "text": [
      "英単語を入力：kuno misato\n",
      "yes\n"
     ]
    }
   ],
   "source": [
    "eng=input(\"英単語を入力：\")\n",
    "\n",
    "if \"a\" in eng:\n",
    "    print(\"yes\")\n",
    "else:\n",
    "    print(\"no\")"
   ]
  },
  {
   "cell_type": "markdown",
   "id": "29514773",
   "metadata": {},
   "source": [
    "**問１９．  \n",
    "アメリカ式（月/日/年）で書かれた日付dateを日本式（年/月/日）に変えてprintしてください。**"
   ]
  },
  {
   "cell_type": "code",
   "execution_count": 60,
   "id": "f4908342",
   "metadata": {
    "scrolled": true
   },
   "outputs": [
    {
     "name": "stdout",
     "output_type": "stream",
     "text": [
      "2023/4/10\n"
     ]
    }
   ],
   "source": [
    "date=\"4/10/2023\"\n",
    "print(date[-4:]+\"/\"+date[0]+\"/\"+date[2:4])\n"
   ]
  },
  {
   "cell_type": "code",
   "execution_count": 126,
   "id": "ade8301e",
   "metadata": {},
   "outputs": [
    {
     "name": "stdout",
     "output_type": "stream",
     "text": [
      "2023/4/10\n"
     ]
    }
   ],
   "source": [
    "date=\"4/10/2023\"\n",
    "date2=date.split(\"/\")\n",
    "print(date2[2]+\"/\"+date2[0]+\"/\"+date2[1])"
   ]
  },
  {
   "cell_type": "code",
   "execution_count": 128,
   "id": "52966bb0",
   "metadata": {},
   "outputs": [
    {
     "data": {
      "text/plain": [
       "'4/10/2023'"
      ]
     },
     "execution_count": 128,
     "metadata": {},
     "output_type": "execute_result"
    }
   ],
   "source": [
    "\"/\".join(date2)"
   ]
  },
  {
   "cell_type": "markdown",
   "id": "2d02c7fa",
   "metadata": {},
   "source": [
    "**問２０．  \n",
    "変数pathから、ファイル名のみ（拡張子無し）を抽出してprintしてください。**"
   ]
  },
  {
   "cell_type": "code",
   "execution_count": 68,
   "id": "22a8671a",
   "metadata": {
    "scrolled": true
   },
   "outputs": [
    {
     "name": "stdout",
     "output_type": "stream",
     "text": [
      "sample\n"
     ]
    }
   ],
   "source": [
    "path=\"/Users/username/Desktop/test/sample.txt\"\n",
    "start=path.rfind(\"/\")+1\n",
    "end=path.rfind(\".\")\n",
    "print(path[start:end])\n"
   ]
  },
  {
   "cell_type": "code",
   "execution_count": 129,
   "id": "d5aaa5f0",
   "metadata": {},
   "outputs": [
    {
     "name": "stdout",
     "output_type": "stream",
     "text": [
      "sample\n"
     ]
    }
   ],
   "source": [
    "path=\"/Users/username/Desktop/test/sample.txt\"\n",
    "path_sp=path.split(\"/\")\n",
    "file_nm=path_sp[-1]\n",
    "file=file_nm.split(\".\")\n",
    "print(file[0])"
   ]
  },
  {
   "cell_type": "markdown",
   "id": "eb5077ab",
   "metadata": {},
   "source": [
    "**問２１．  \n",
    "今日の日付を取得し「yyyy/mm/dd」という表記の文字列としてprintしてください（\"yyyy/mm/dd\"という文字列をそのまま扱うのは不可）。**"
   ]
  },
  {
   "cell_type": "code",
   "execution_count": 72,
   "id": "b825a53e",
   "metadata": {
    "scrolled": true
   },
   "outputs": [
    {
     "name": "stdout",
     "output_type": "stream",
     "text": [
      "2023/05/22\n"
     ]
    }
   ],
   "source": [
    "from datetime import datetime\n",
    "now=datetime.now()\n",
    "print(now.strftime(\"%Y/%m/%d\"))\n"
   ]
  },
  {
   "cell_type": "markdown",
   "id": "69b656fc",
   "metadata": {},
   "source": [
    "**問２２．  \n",
    "変数textに代入されている英文の単語数をprintしてください（-で繋がれたものは1単語とみなします）。**"
   ]
  },
  {
   "cell_type": "code",
   "execution_count": 80,
   "id": "edcef906",
   "metadata": {
    "scrolled": true
   },
   "outputs": [
    {
     "name": "stdout",
     "output_type": "stream",
     "text": [
      "30\n"
     ]
    }
   ],
   "source": [
    "text=\"Python is a versatile, high-level, interpreted language known for simple syntax, object-oriented programming, a large standard library, and applications in various fields, with a strong developer community and easy-to-read code.\"\n",
    "List=text.split()\n",
    "print(len(List))"
   ]
  },
  {
   "cell_type": "markdown",
   "id": "74d9986a",
   "metadata": {},
   "source": [
    "**問２３．  \n",
    "List内の8に10を足して更新したListをprintしてください。**"
   ]
  },
  {
   "cell_type": "code",
   "execution_count": 81,
   "id": "6ca80d7c",
   "metadata": {
    "scrolled": true
   },
   "outputs": [
    {
     "data": {
      "text/plain": [
       "[5, 6, 7, 18, 9]"
      ]
     },
     "execution_count": 81,
     "metadata": {},
     "output_type": "execute_result"
    }
   ],
   "source": [
    "List=[5,6,7,8,9]\n",
    "List[3]=List[3]+10\n",
    "List\n"
   ]
  },
  {
   "cell_type": "markdown",
   "id": "bbc6ef9f",
   "metadata": {},
   "source": [
    "**問２４．  \n",
    "Listの要素を昇順に並べ替えた上でprintしてください。**"
   ]
  },
  {
   "cell_type": "code",
   "execution_count": 83,
   "id": "6c4f295a",
   "metadata": {
    "scrolled": true
   },
   "outputs": [
    {
     "data": {
      "text/plain": [
       "[7, 8, 13, 20, 24, 26, 28, 35, 39, 42, 55, 57, 59, 66, 71, 73, 81, 89, 90, 97]"
      ]
     },
     "execution_count": 83,
     "metadata": {},
     "output_type": "execute_result"
    }
   ],
   "source": [
    "List=[35, 7, 26, 59, 55, 73, 90, 24, 13, 28, 20, 71, 8, 89, 81, 97, 39, 66, 42, 57]\n",
    "List.sort()\n",
    "List"
   ]
  },
  {
   "cell_type": "markdown",
   "id": "5f990874",
   "metadata": {},
   "source": [
    "**問２５．  \n",
    "Listの要素を降順に並べ替えた上でprintしてください。**"
   ]
  },
  {
   "cell_type": "code",
   "execution_count": 85,
   "id": "9847bccd",
   "metadata": {
    "scrolled": true
   },
   "outputs": [
    {
     "data": {
      "text/plain": [
       "[97, 90, 89, 81, 73, 71, 66, 59, 57, 55, 42, 39, 35, 28, 26, 24, 20, 13, 8, 7]"
      ]
     },
     "execution_count": 85,
     "metadata": {},
     "output_type": "execute_result"
    }
   ],
   "source": [
    "List=[35, 7, 26, 59, 55, 73, 90, 24, 13, 28, 20, 71, 8, 89, 81, 97, 39, 66, 42, 57]\n",
    "List.sort(reverse=True)\n",
    "List\n"
   ]
  },
  {
   "cell_type": "markdown",
   "id": "172c9743",
   "metadata": {},
   "source": [
    "**問２６．  \n",
    "Listの全要素を足し合わせた数をprintしてください。**"
   ]
  },
  {
   "cell_type": "code",
   "execution_count": 87,
   "id": "d020fcf1",
   "metadata": {
    "scrolled": true
   },
   "outputs": [
    {
     "name": "stdout",
     "output_type": "stream",
     "text": [
      "980\n"
     ]
    }
   ],
   "source": [
    "List=[35, 7, 26, 59, 55, 73, 90, 24, 13, 28, 20, 71, 8, 89, 81, 97, 39, 66, 42, 57]\n",
    "x=0\n",
    "for i in List:\n",
    "    x=x+i\n",
    "print(x)\n"
   ]
  },
  {
   "cell_type": "code",
   "execution_count": 130,
   "id": "df6c7c1c",
   "metadata": {},
   "outputs": [
    {
     "name": "stdout",
     "output_type": "stream",
     "text": [
      "980\n"
     ]
    }
   ],
   "source": [
    "List=[35, 7, 26, 59, 55, 73, 90, 24, 13, 28, 20, 71, 8, 89, 81, 97, 39, 66, 42, 57]\n",
    "print(sum(List))"
   ]
  },
  {
   "cell_type": "markdown",
   "id": "8ca6ca29",
   "metadata": {},
   "source": [
    "**問２７．  \n",
    "Listの最大値をprintしてください。**"
   ]
  },
  {
   "cell_type": "code",
   "execution_count": 97,
   "id": "33f39408",
   "metadata": {
    "scrolled": true
   },
   "outputs": [
    {
     "name": "stdout",
     "output_type": "stream",
     "text": [
      "97\n"
     ]
    }
   ],
   "source": [
    "List=[35, 7, 26, 59, 55, 73, 90, 24, 13, 28, 20, 71, 8, 89, 81, 97, 39, 66, 42, 57]\n",
    "List.sort()\n",
    "print(List[-1])\n"
   ]
  },
  {
   "cell_type": "code",
   "execution_count": 133,
   "id": "c8cc5e7c",
   "metadata": {},
   "outputs": [
    {
     "data": {
      "text/plain": [
       "97"
      ]
     },
     "execution_count": 133,
     "metadata": {},
     "output_type": "execute_result"
    }
   ],
   "source": [
    "List=[35, 7, 26, 59, 55, 73, 90, 24, 13, 28, 20, 71, 8, 89, 81, 97, 39, 66, 42, 57]\n",
    "max(List)"
   ]
  },
  {
   "cell_type": "markdown",
   "id": "21e661d2",
   "metadata": {},
   "source": [
    "**問２８．  \n",
    "Listの最小値をprintしてください。**"
   ]
  },
  {
   "cell_type": "code",
   "execution_count": 98,
   "id": "6a1ba0e3",
   "metadata": {
    "scrolled": true
   },
   "outputs": [
    {
     "name": "stdout",
     "output_type": "stream",
     "text": [
      "7\n"
     ]
    }
   ],
   "source": [
    "List=[35, 7, 26, 59, 55, 73, 90, 24, 13, 28, 20, 71, 8, 89, 81, 97, 39, 66, 42, 57]\n",
    "List.sort(reverse=True)\n",
    "print(List[-1])\n"
   ]
  },
  {
   "cell_type": "markdown",
   "id": "964cf3e8",
   "metadata": {},
   "source": [
    "**問２９．  \n",
    "Listの全要素の平均値をprintしてください。**"
   ]
  },
  {
   "cell_type": "code",
   "execution_count": 105,
   "id": "b34b30c3",
   "metadata": {
    "scrolled": true
   },
   "outputs": [
    {
     "name": "stdout",
     "output_type": "stream",
     "text": [
      "49.0\n"
     ]
    }
   ],
   "source": [
    "List=[35, 7, 26, 59, 55, 73, 90, 24, 13, 28, 20, 71, 8, 89, 81, 97, 39, 66, 42, 57]\n",
    "x=0\n",
    "for i in List:\n",
    "    x=x+i\n",
    "\n",
    "print(x/len(List))\n"
   ]
  },
  {
   "cell_type": "markdown",
   "id": "45507f3c",
   "metadata": {},
   "source": [
    "**問３０．  \n",
    "word_list内の各文字列のうち、頭文字がAであるもののみを格納したword_list2を作成しprintしてください。**"
   ]
  },
  {
   "cell_type": "code",
   "execution_count": 107,
   "id": "57cf65e1",
   "metadata": {},
   "outputs": [
    {
     "data": {
      "text/plain": [
       "['Apple', 'Amazon']"
      ]
     },
     "execution_count": 107,
     "metadata": {},
     "output_type": "execute_result"
    }
   ],
   "source": [
    "word_list=[\"Apple\", \"Beautiful\", \"Teacher\", \"Lion\", \"Ocean\", \"Student\", \"Computer\", \"Amazon\", \"Python\", \"Phone\"]\n",
    "\n",
    "word_list2=[]\n",
    "\n",
    "for i in word_list:\n",
    "    if i[0]==\"A\":\n",
    "        word_list2.append(i)\n",
    "\n",
    "word_list2\n"
   ]
  },
  {
   "cell_type": "code",
   "execution_count": null,
   "id": "d7109dac",
   "metadata": {},
   "outputs": [],
   "source": []
  }
 ],
 "metadata": {
  "kernelspec": {
   "display_name": "Python 3 (ipykernel)",
   "language": "python",
   "name": "python3"
  },
  "language_info": {
   "codemirror_mode": {
    "name": "ipython",
    "version": 3
   },
   "file_extension": ".py",
   "mimetype": "text/x-python",
   "name": "python",
   "nbconvert_exporter": "python",
   "pygments_lexer": "ipython3",
   "version": "3.11.0"
  }
 },
 "nbformat": 4,
 "nbformat_minor": 5
}
