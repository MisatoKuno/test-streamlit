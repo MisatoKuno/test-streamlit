{
 "cells": [
  {
   "cell_type": "markdown",
   "id": "b6f74565",
   "metadata": {},
   "source": [
    "#### 問１．input関数を使って正の整数を入力し、1からその入力した整数までを全て合計した数をprintするプログラムを作ってください。"
   ]
  },
  {
   "cell_type": "code",
   "execution_count": 17,
   "id": "365fd32e",
   "metadata": {},
   "outputs": [
    {
     "name": "stdout",
     "output_type": "stream",
     "text": [
      "右の値まで合計:-8\n",
      "正の整数を入力してください。\n",
      "右の値まで合計:-2\n",
      "正の整数を入力してください。\n",
      "右の値まで合計:0\n",
      "正の整数を入力してください。\n",
      "右の値まで合計:a\n",
      "整数を入力してください。\n",
      "右の値まで合計:8\n",
      "答え:36\n"
     ]
    }
   ],
   "source": [
    "def nyuryoku():\n",
    "    x=input(\"右の値まで合計:\")\n",
    "    try:\n",
    "        x=int(x)\n",
    "    except:\n",
    "        print(\"整数を入力してください。\")\n",
    "        return nyuryoku()\n",
    "    if x<1:\n",
    "        print(\"正の整数を入力してください。\")\n",
    "        return nyuryoku()\n",
    "    else:\n",
    "        return x\n",
    "\n",
    "x=nyuryoku()\n",
    "ans=0\n",
    "for i in range(1,int(x)+1):\n",
    "    ans=ans+i\n",
    "print(\"解:{}\".format(ans))"
   ]
  },
  {
   "cell_type": "markdown",
   "id": "ce49ec5e",
   "metadata": {},
   "source": [
    "#### 問２．input関数を使って身長(cm)と体重(kg)を入力し、BMI（=体重(kg)÷身長(m)÷身長(m)）と肥満度（BMI18.5未満：痩せ型、BMI18.5以上25未満：標準、BMI25以上：肥満）をprintするプログラムを作ってください。"
   ]
  },
  {
   "cell_type": "code",
   "execution_count": 30,
   "id": "c1ff6d34",
   "metadata": {},
   "outputs": [
    {
     "name": "stdout",
     "output_type": "stream",
     "text": [
      "身長:177\n",
      "体重:63\n",
      "BMI:20.1\n",
      "判定:標準\n"
     ]
    }
   ],
   "source": [
    "def heits_ck():\n",
    "    heights=input(\"身長:\")\n",
    "    try:\n",
    "        heights=float(heights)\n",
    "    except:\n",
    "        print(\"身長を数値（単位：cm）で入力してください。\")\n",
    "        return heits_ck()\n",
    "    if heights<50 or heights>250:\n",
    "        print(\"身長はcm単位で入力してください。\")\n",
    "        return heits_ck()\n",
    "    else:\n",
    "        return heights\n",
    "\n",
    "heights=float(heits_ck())/100\n",
    "\n",
    "def w_ck():\n",
    "    weights=input(\"体重:\")\n",
    "    try:\n",
    "        weights=float(weights)\n",
    "    except:\n",
    "        print(\"体重を数値（単位：kg）で入力してください。\")\n",
    "        return w_ck()\n",
    "    if heights<1 or heights>300:\n",
    "        print(\"体重はkg単位で入力してください。\")\n",
    "        return w_ck()\n",
    "    else:\n",
    "        return weights\n",
    "\n",
    "weights=w_ck()\n",
    "\n",
    "BMI=round(float(weights)/float(heights)/float(heights),1)\n",
    "if BMI<18.5:\n",
    "    result=\"やせ型\"\n",
    "elif BMI<25:\n",
    "    result=\"標準\"\n",
    "else:\n",
    "    result=\"肥満\"\n",
    "print(\"BMI:{}\\n判定:{}\".format(BMI,result))"
   ]
  },
  {
   "cell_type": "markdown",
   "id": "6f462014",
   "metadata": {},
   "source": [
    "#### 問３．input関数を使って「グー」「チョキ」「パー」のいずれかを入力し、相手にはランダムな手を出させて、相手の出した手と勝敗をそれぞれprintするじゃんけんプログラムを作ってください。"
   ]
  },
  {
   "cell_type": "code",
   "execution_count": 24,
   "id": "79c9a392",
   "metadata": {},
   "outputs": [
    {
     "name": "stdout",
     "output_type": "stream",
     "text": [
      "you:グー\n",
      "あいこです。次のあなたの手を入力してください。\n",
      "you:パー\n",
      "相手はチョキを出しました。あなたの負けです。\n"
     ]
    }
   ],
   "source": [
    "import random\n",
    "\n",
    "while True:\n",
    "    def janken():\n",
    "        you=input(\"you:\")\n",
    "        if you==\"グー\" or you==\"チョキ\" or you==\"パー\":\n",
    "            return you\n",
    "        else:\n",
    "            print(\"「グー」「チョキ」「パー」のいずれかを入力してください。\")\n",
    "            return janken()\n",
    "\n",
    "    you=janken()\n",
    "\n",
    "    opp=random.choice((\"グー\",\"チョキ\",\"パー\"))\n",
    "\n",
    "    if you==opp:\n",
    "        print(\"あいこです。次のあなたの手を入力してください。\")\n",
    "    elif you==\"グー\" and opp==\"パー\":\n",
    "        print(\"相手は{}を出しました。あなたの負けです。\".format(opp))\n",
    "        break\n",
    "    elif you==\"チョキ\" and opp==\"グー\":\n",
    "        print(\"相手は{}を出しました。あなたの負けです。\".format(opp))\n",
    "        break\n",
    "    elif you==\"パー\" and opp==\"チョキ\":\n",
    "        print(\"相手は{}を出しました。あなたの負けです。\".format(opp))\n",
    "        break\n",
    "    else:\n",
    "        print(\"相手は{}を出しました。あなたの勝ちです。\".format(opp))\n",
    "        break\n"
   ]
  },
  {
   "cell_type": "markdown",
   "id": "de297f99",
   "metadata": {},
   "source": [
    "#### 問４．上記のじゃんけんプログラムを100回繰り返し実行してその勝率をprintしてください。　※あなたの手はグー・チョキ・パーいずれかで固定"
   ]
  },
  {
   "cell_type": "code",
   "execution_count": 32,
   "id": "46db533b",
   "metadata": {},
   "outputs": [
    {
     "name": "stdout",
     "output_type": "stream",
     "text": [
      "you:パー\n",
      "勝ち:27％、負け:24％、あいこ：50％\n"
     ]
    }
   ],
   "source": [
    "import random\n",
    "\n",
    "\n",
    "def janken():\n",
    "    you=input(\"you:\")\n",
    "    if you==\"グー\" or you==\"チョキ\" or you==\"パー\":\n",
    "        return you\n",
    "    else:\n",
    "        print(\"「グー」「チョキ」「パー」のいずれかを入力してください。\")\n",
    "        return janken()\n",
    "\n",
    "you=janken()\n",
    "\n",
    "aiko=0\n",
    "win=0\n",
    "lose=0\n",
    "\n",
    "for i in range(100):\n",
    "    \n",
    "    opp=random.choice((\"グー\",\"チョキ\",\"パー\"))\n",
    "\n",
    "    if you==opp:\n",
    "        aiko=aiko+1\n",
    "    elif you==\"グー\" and opp==\"パー\":\n",
    "        lose=lose+1\n",
    "    elif you==\"チョキ\" and opp==\"グー\":\n",
    "        lose=lose+1\n",
    "    elif you==\"パー\" and opp==\"チョキ\":\n",
    "        lose=lose+1\n",
    "    else:\n",
    "        win=win+1\n",
    "\n",
    "print(\"勝ち:{}％、負け:{}％、あいこ：{}％\".format(win,lose,aiko))\n"
   ]
  },
  {
   "cell_type": "code",
   "execution_count": null,
   "id": "ac7f981f",
   "metadata": {},
   "outputs": [],
   "source": []
  }
 ],
 "metadata": {
  "kernelspec": {
   "display_name": "Python 3 (ipykernel)",
   "language": "python",
   "name": "python3"
  },
  "language_info": {
   "codemirror_mode": {
    "name": "ipython",
    "version": 3
   },
   "file_extension": ".py",
   "mimetype": "text/x-python",
   "name": "python",
   "nbconvert_exporter": "python",
   "pygments_lexer": "ipython3",
   "version": "3.11.0"
  }
 },
 "nbformat": 4,
 "nbformat_minor": 5
}
