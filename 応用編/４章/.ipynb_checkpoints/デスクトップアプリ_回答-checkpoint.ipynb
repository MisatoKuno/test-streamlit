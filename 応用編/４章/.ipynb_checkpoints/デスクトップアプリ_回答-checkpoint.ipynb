{
 "cells": [
  {
   "cell_type": "code",
   "execution_count": null,
   "id": "32318aae",
   "metadata": {},
   "outputs": [],
   "source": [
    "import tkinter\n",
    "from tkinter import ttk\n",
    "\n",
    "def button_function():\n",
    "    input_text=input_box.get()\n",
    "    radio=var.get()\n",
    "    list_select=listbox.get(listbox.curselection())\n",
    "    combo_select=combobox.get()\n",
    "    print(input_text, radio, list_select, combo_select)\n",
    "\n",
    "\n",
    "window=tkinter.Tk()\n",
    "window.title(\"タイトル\")\n",
    "window.geometry(\"1000x500+300+300\")\n",
    "window.resizable(0,0)\n",
    "window.attributes(\"-topmost\", True)\n",
    "\n",
    "label=tkinter.Label(window, text=\"これはラベルです。\")\n",
    "label.place(x=100, y=100)\n",
    "\n",
    "input_box=tkinter.Entry(window)\n",
    "input_box.place(x=100, y=200)\n",
    "\n",
    "button=tkinter.Button(window, text=\"ボタン\", command=button_function)\n",
    "button.place(x=100, y=300)\n",
    "\n",
    "var=tkinter.IntVar()\n",
    "radio_button1=tkinter.Radiobutton(window, text=\"ラジオボタン１\", value=1, variable=var)\n",
    "radio_button1.place(x=100, y=400)\n",
    "radio_button2=tkinter.Radiobutton(window, text=\"ラジオボタン2\", value=2, variable=var)\n",
    "radio_button2.place(x=100, y=450)\n",
    "\n",
    "List=(\"A\", \"B\", \"C\", \"D\", \"E\")\n",
    "list_var=tkinter.StringVar(value=List)\n",
    "listbox=tkinter.Listbox(window, height=10, listvariable=list_var, exportselection=False)\n",
    "listbox.place(x=400, y=100)\n",
    "\n",
    "combo=(10,20,30,40)\n",
    "combobox=ttk.Combobox(window, values=combo, state=\"readonly\")\n",
    "combobox.place(x=700, y=100)\n",
    "\n",
    "window.mainloop()"
   ]
  },
  {
   "cell_type": "code",
   "execution_count": null,
   "id": "2dcd2918",
   "metadata": {},
   "outputs": [],
   "source": [
    "def hello():\n",
    "    print(\"こんにちは\")"
   ]
  },
  {
   "cell_type": "code",
   "execution_count": null,
   "id": "0125ce84",
   "metadata": {},
   "outputs": [],
   "source": [
    "hello()"
   ]
  },
  {
   "cell_type": "code",
   "execution_count": null,
   "id": "34d7c212",
   "metadata": {},
   "outputs": [],
   "source": [
    "def hello_to(name=\"安井\"):\n",
    "    print(\"こんにちは、{}さん\".format(name))"
   ]
  },
  {
   "cell_type": "code",
   "execution_count": null,
   "id": "861801e5",
   "metadata": {},
   "outputs": [],
   "source": [
    "hello_to(\"安井\")"
   ]
  },
  {
   "cell_type": "code",
   "execution_count": null,
   "id": "cd9fe0d0",
   "metadata": {},
   "outputs": [],
   "source": [
    "hello_to(\"田中\")"
   ]
  },
  {
   "cell_type": "code",
   "execution_count": null,
   "id": "7bdf32da",
   "metadata": {},
   "outputs": [],
   "source": [
    "def plus(a,b):\n",
    "    return a+b"
   ]
  },
  {
   "cell_type": "code",
   "execution_count": null,
   "id": "d1e3a65a",
   "metadata": {},
   "outputs": [],
   "source": [
    "c=plus(1,2)"
   ]
  },
  {
   "cell_type": "code",
   "execution_count": null,
   "id": "2c3056be",
   "metadata": {},
   "outputs": [],
   "source": [
    "c+3"
   ]
  },
  {
   "cell_type": "code",
   "execution_count": null,
   "id": "abdb51ea",
   "metadata": {},
   "outputs": [],
   "source": []
  },
  {
   "cell_type": "code",
   "execution_count": null,
   "id": "ed2e25b5",
   "metadata": {},
   "outputs": [],
   "source": [
    "from datetime import datetime"
   ]
  },
  {
   "cell_type": "code",
   "execution_count": null,
   "id": "637a461c",
   "metadata": {},
   "outputs": [],
   "source": [
    "now=datetime.now()"
   ]
  },
  {
   "cell_type": "code",
   "execution_count": null,
   "id": "96bbdb28",
   "metadata": {},
   "outputs": [],
   "source": [
    "now.strftime(\"%Y/%m/%d %H:%M:%S\")"
   ]
  },
  {
   "cell_type": "code",
   "execution_count": null,
   "id": "648cf23b",
   "metadata": {},
   "outputs": [],
   "source": [
    "import openpyxl"
   ]
  },
  {
   "cell_type": "code",
   "execution_count": null,
   "id": "7bd719a5",
   "metadata": {},
   "outputs": [],
   "source": [
    "wb=openpyxl.load_workbook(\"出張旅費精算.xlsx\")\n",
    "ws=wb.worksheets[0]\n",
    "ws.cell(row=ws.max_row+1, column=1).value=100\n",
    "wb.save(\"出張旅費精算.xlsx\")"
   ]
  },
  {
   "cell_type": "code",
   "execution_count": null,
   "id": "df3f4766",
   "metadata": {},
   "outputs": [],
   "source": [
    "ws.max_row"
   ]
  },
  {
   "cell_type": "code",
   "execution_count": null,
   "id": "03a010b6",
   "metadata": {},
   "outputs": [],
   "source": []
  },
  {
   "cell_type": "code",
   "execution_count": null,
   "id": "c83e092c",
   "metadata": {},
   "outputs": [],
   "source": [
    "import tkinter\n",
    "from tkinter import ttk\n",
    "from datetime import datetime\n",
    "import openpyxl\n",
    "\n",
    "def button_function():\n",
    "    now=datetime.now().strftime(\"%Y/%m/%d %H:%M:%S\")\n",
    "    month=listbox.get(listbox.curselection())\n",
    "    day=combobox.get()\n",
    "    dest=input_box.get()\n",
    "    if var.get()==1:\n",
    "        way=\"片道\"\n",
    "    elif var.get()==2:\n",
    "        way=\"往復\"\n",
    "    else:\n",
    "        way=\"未選択\"\n",
    "    cost=input_box2.get()\n",
    "    wb=openpyxl.load_workbook(\"出張旅費精算.xlsx\")\n",
    "    ws=wb.worksheets[0]\n",
    "    input_row=ws.max_row+1\n",
    "    ws.cell(row=input_row, column=1).value=month\n",
    "    ws.cell(row=input_row, column=2).value=int(day)\n",
    "    ws.cell(row=input_row, column=3).value=dest\n",
    "    ws.cell(row=input_row, column=4).value=way\n",
    "    ws.cell(row=input_row, column=5).value=int(cost)\n",
    "    ws.cell(row=input_row, column=6).value=now\n",
    "    wb.save(\"出張旅費精算.xlsx\")\n",
    "    print(\"処理完了しました\")\n",
    "\n",
    "\n",
    "window=tkinter.Tk()\n",
    "window.title(\"出張旅費入力GUI\")\n",
    "window.geometry(\"600x500+300+300\")\n",
    "window.resizable(0,0)\n",
    "window.attributes(\"-topmost\", True)\n",
    "\n",
    "label1=tkinter.Label(window, text=\"月\")\n",
    "label1.place(x=50, y=10)\n",
    "label2=tkinter.Label(window, text=\"日\")\n",
    "label2.place(x=150, y=10)\n",
    "label3=tkinter.Label(window, text=\"行先\")\n",
    "label3.place(x=250, y=10)\n",
    "label4=tkinter.Label(window, text=\"片道/往復\")\n",
    "label4.place(x=350, y=10)\n",
    "label5=tkinter.Label(window, text=\"費用\")\n",
    "label5.place(x=450, y=10)\n",
    "\n",
    "List=tuple(range(1,13))\n",
    "list_var=tkinter.StringVar(value=List)\n",
    "listbox=tkinter.Listbox(window, height=12, listvariable=list_var, exportselection=False, width=3)\n",
    "listbox.place(x=50, y=100)\n",
    "\n",
    "combo=tuple(range(1,32))\n",
    "combobox=ttk.Combobox(window, values=combo, state=\"readonly\", width=3)\n",
    "combobox.place(x=150, y=100)\n",
    "\n",
    "input_box=tkinter.Entry(window, width=7)\n",
    "input_box.place(x=250, y=100)\n",
    "\n",
    "var=tkinter.IntVar()\n",
    "radio_button1=tkinter.Radiobutton(window, text=\"片道\", value=1, variable=var)\n",
    "radio_button1.place(x=350, y=100)\n",
    "radio_button2=tkinter.Radiobutton(window, text=\"往復\", value=2, variable=var)\n",
    "radio_button2.place(x=350, y=120)\n",
    "\n",
    "input_box2=tkinter.Entry(window, width=7)\n",
    "input_box2.place(x=450, y=100)\n",
    "\n",
    "button=tkinter.Button(window, text=\"処理実行\", command=button_function)\n",
    "button.place(x=270, y=400)\n",
    "\n",
    "\n",
    "window.mainloop()"
   ]
  },
  {
   "cell_type": "code",
   "execution_count": null,
   "id": "320e2aef",
   "metadata": {},
   "outputs": [],
   "source": []
  }
 ],
 "metadata": {
  "kernelspec": {
   "display_name": "Python 3 (ipykernel)",
   "language": "python",
   "name": "python3"
  },
  "language_info": {
   "codemirror_mode": {
    "name": "ipython",
    "version": 3
   },
   "file_extension": ".py",
   "mimetype": "text/x-python",
   "name": "python",
   "nbconvert_exporter": "python",
   "pygments_lexer": "ipython3",
   "version": "3.11.0"
  }
 },
 "nbformat": 4,
 "nbformat_minor": 5
}
