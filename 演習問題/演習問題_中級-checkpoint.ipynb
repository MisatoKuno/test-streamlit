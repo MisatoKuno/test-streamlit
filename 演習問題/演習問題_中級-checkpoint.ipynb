{
 "cells": [
  {
   "cell_type": "markdown",
   "id": "6b19e673",
   "metadata": {},
   "source": [
    "**問１．  \n",
    "List_AとList_Bの同じインデックスの数値同士を足し合わせたList_Cを作成しprintしてください。**"
   ]
  },
  {
   "cell_type": "code",
   "execution_count": 5,
   "id": "d0b5c1e7",
   "metadata": {},
   "outputs": [
    {
     "name": "stdout",
     "output_type": "stream",
     "text": [
      "[76, 68, 60, 117, 91]\n"
     ]
    }
   ],
   "source": [
    "# 回答欄\n",
    "List_A=[26, 12, 11, 100, 77]\n",
    "List_B=[50, 56, 49, 17, 14]\n",
    "\n",
    "List_C=[]\n",
    "\n",
    "for i in range(len(List_A)):\n",
    "    List_C.append(List_A[i]+List_B[i])\n",
    "\n",
    "print(List_C)"
   ]
  },
  {
   "cell_type": "markdown",
   "id": "e76f2512",
   "metadata": {},
   "source": [
    "**問２．  \n",
    "Listの最初の要素の最初の文字から最後の要素の最後の文字まで、1文字ずつ順番にprintしてください。**"
   ]
  },
  {
   "cell_type": "code",
   "execution_count": 139,
   "id": "549f30e8",
   "metadata": {},
   "outputs": [
    {
     "name": "stdout",
     "output_type": "stream",
     "text": [
      "a\n",
      "b\n",
      "c\n",
      "d\n",
      "e\n",
      "f\n",
      "g\n",
      "h\n",
      "i\n",
      "j\n",
      "k\n",
      "l\n",
      "m\n",
      "n\n",
      "o\n",
      "p\n",
      "q\n",
      "r\n",
      "s\n",
      "t\n",
      "u\n",
      "v\n",
      "w\n",
      "x\n",
      "y\n",
      "z\n"
     ]
    }
   ],
   "source": [
    "# 回答欄\n",
    "List=[\"abc\", \"defghi\", \"jklmn\", \"opqr\", \"stu\", \"vw\", \"xyz\"]\n",
    "\n",
    "for i in List:\n",
    "    for j in i:\n",
    "        print(j)\n",
    "        "
   ]
  },
  {
   "cell_type": "markdown",
   "id": "0a7fc9eb",
   "metadata": {},
   "source": [
    "**問３．  \n",
    "input関数を使って英単語を入力し、その単語にaかbいずれかの文字を含む場合は「yes」、含まない場合は「no」、aとb両方の文字を含む場合は「both」とprintするプログラムを作成してください。**"
   ]
  },
  {
   "cell_type": "code",
   "execution_count": 16,
   "id": "98d4a886",
   "metadata": {},
   "outputs": [
    {
     "name": "stdout",
     "output_type": "stream",
     "text": [
      "英単語を入力：andbe\n",
      "both\n"
     ]
    }
   ],
   "source": [
    "eng=input(\"英単語を入力：\")\n",
    "\n",
    "if \"a\" in eng and \"b\" in eng:\n",
    "    print(\"both\")\n",
    "elif \"a\" in eng or \"b\" in eng:\n",
    "    print(\"yes\")\n",
    "else:\n",
    "    print(\"no\")\n"
   ]
  },
  {
   "cell_type": "markdown",
   "id": "2d2ab043",
   "metadata": {},
   "source": [
    "**問４．  \n",
    "変数textを逆順に並べ替えた文字列をtext2という変数に代入し、text2をprintしてください。**"
   ]
  },
  {
   "cell_type": "code",
   "execution_count": 143,
   "id": "e711a060",
   "metadata": {},
   "outputs": [
    {
     "name": "stdout",
     "output_type": "stream",
     "text": [
      "こけくきかおえういあ\n"
     ]
    }
   ],
   "source": [
    "# 回答欄\n",
    "text=\"あいうえおかきくけこ\"\n",
    "text2=sorted(text,reverse=True)\n",
    "print(\"\".join(text2))"
   ]
  },
  {
   "cell_type": "code",
   "execution_count": 142,
   "id": "4c72db12",
   "metadata": {},
   "outputs": [
    {
     "name": "stdout",
     "output_type": "stream",
     "text": [
      "こけくきかおえういあ\n"
     ]
    }
   ],
   "source": [
    "text=\"あいうえおかきくけこ\"\n",
    "text2=\"\"\n",
    "for i in text:\n",
    "    text2=i+text2\n",
    "    \n",
    "print(text2)"
   ]
  },
  {
   "cell_type": "code",
   "execution_count": 144,
   "id": "fb24dfe2",
   "metadata": {},
   "outputs": [
    {
     "name": "stdout",
     "output_type": "stream",
     "text": [
      "こけくきかおえういあ\n"
     ]
    }
   ],
   "source": [
    "text=\"あいうえおかきくけこ\"\n",
    "text2=text[::-1]\n",
    "print(text2)"
   ]
  },
  {
   "cell_type": "markdown",
   "id": "8b779504",
   "metadata": {},
   "source": [
    "**問５．  \n",
    "List1のユニークな要素のみを含む（＝List1から重複した要素を削除した）List2を作成しprintしてください。要素の順序は問いません。**"
   ]
  },
  {
   "cell_type": "code",
   "execution_count": 145,
   "id": "843ea941",
   "metadata": {},
   "outputs": [
    {
     "name": "stdout",
     "output_type": "stream",
     "text": [
      "[32, 4, 7, 44, 18, 50, 21, 24]\n"
     ]
    }
   ],
   "source": [
    "# 回答欄\n",
    "List1=[18, 21, 24, 32, 44, 50, 18, 7, 32, 4]\n",
    "List2=list(set(List1))\n",
    "print(List2)\n"
   ]
  },
  {
   "cell_type": "code",
   "execution_count": 146,
   "id": "9893f55f",
   "metadata": {},
   "outputs": [
    {
     "name": "stdout",
     "output_type": "stream",
     "text": [
      "[32, 4, 7, 44, 18, 50, 21, 24]\n"
     ]
    }
   ],
   "source": [
    "List1=[18, 21, 24, 32, 44, 50, 18, 7, 32, 4]\n",
    "for i in List1:\n",
    "    if i not in List1:\n",
    "        List2.append(i)\n",
    "        \n",
    "print(List2)"
   ]
  },
  {
   "cell_type": "markdown",
   "id": "67d92efa",
   "metadata": {},
   "source": [
    "**問６．  \n",
    "List内の全ての英単語に含まれるaの数とAの数を合計してprintしてください。**"
   ]
  },
  {
   "cell_type": "code",
   "execution_count": 24,
   "id": "c2ec38ce",
   "metadata": {},
   "outputs": [
    {
     "name": "stdout",
     "output_type": "stream",
     "text": [
      "6\n"
     ]
    }
   ],
   "source": [
    "# 回答欄\n",
    "List=[\"Apple\", \"Beautiful\", \"Teacher\", \"Lion\", \"Ocean\", \"Student\", \"Computer\", \"Amazon\", \"Python\", \"Phone\"]\n",
    "\n",
    "A=0\n",
    "a=0\n",
    "\n",
    "for i in range(len(List)):\n",
    "    A+=List[i].count(\"A\")\n",
    "    a+=List[i].count(\"a\")\n",
    "\n",
    "print(A+a)"
   ]
  },
  {
   "cell_type": "code",
   "execution_count": 154,
   "id": "21c216f7",
   "metadata": {},
   "outputs": [
    {
     "name": "stdout",
     "output_type": "stream",
     "text": [
      "6\n"
     ]
    }
   ],
   "source": [
    "List=[\"Apple\", \"Beautiful\", \"Teacher\", \"Lion\", \"Ocean\", \"Student\", \"Computer\", \"Amazon\", \"Python\", \"Phone\"]\n",
    "\n",
    "SUM=0\n",
    "\n",
    "for i in List:\n",
    "    for j in i:\n",
    "        if j==\"a\" or j==\"A\":\n",
    "            SUM+=1\n",
    "print(SUM)"
   ]
  },
  {
   "cell_type": "code",
   "execution_count": 155,
   "id": "2134ff31",
   "metadata": {},
   "outputs": [
    {
     "name": "stdout",
     "output_type": "stream",
     "text": [
      "6\n"
     ]
    }
   ],
   "source": [
    "List=[\"Apple\", \"Beautiful\", \"Teacher\", \"Lion\", \"Ocean\", \"Student\", \"Computer\", \"Amazon\", \"Python\", \"Phone\"]\n",
    "\n",
    "STR=\"\".join(List)\n",
    "print(STR.count(\"A\")+STR.count(\"a\"))"
   ]
  },
  {
   "cell_type": "markdown",
   "id": "7dd32268",
   "metadata": {},
   "source": [
    "**問７．  \n",
    "input関数を使ってひらがなの単語や文章を入力し、それが回文（上から読んでも下から読んでも同じ）である場合は「はい」、そうでない場合は「いいえ」とprintするプログラムを作成してください。**"
   ]
  },
  {
   "cell_type": "code",
   "execution_count": 158,
   "id": "80470d19",
   "metadata": {},
   "outputs": [
    {
     "name": "stdout",
     "output_type": "stream",
     "text": [
      "ひらがなで入力：ぱぱぴぱぱ\n",
      "はい\n"
     ]
    }
   ],
   "source": [
    "# 回答欄\n",
    "kana=input(\"ひらがなで入力：\")\n",
    "\n",
    "kana_list=list(kana)\n",
    "kaibun_list=list(reversed(kana_list))\n",
    "kaibun=\"\".join(kaibun_list)\n",
    "\n",
    "if kana==kaibun:\n",
    "    print(\"はい\")\n",
    "else:\n",
    "    print(\"いいえ\")"
   ]
  },
  {
   "cell_type": "code",
   "execution_count": 160,
   "id": "f0d458ec",
   "metadata": {},
   "outputs": [
    {
     "name": "stdout",
     "output_type": "stream",
     "text": [
      "ひらがなで入力：ぱぴぷぺぽぺぷぴぱ\n",
      "はい\n"
     ]
    }
   ],
   "source": [
    "kana=input(\"ひらがなで入力：\")\n",
    "rvs_kana=kana[::-1]\n",
    "if kana==rvs_kana:\n",
    "    print(\"はい\")\n",
    "else:\n",
    "    print(\"いいえ\")"
   ]
  },
  {
   "cell_type": "markdown",
   "id": "71bbc224",
   "metadata": {},
   "source": [
    "**問８．  \n",
    "自然数（正の整数）をinputし、その正の約数を全てprintするプログラムを作成してください。**"
   ]
  },
  {
   "cell_type": "code",
   "execution_count": 163,
   "id": "820b1687",
   "metadata": {},
   "outputs": [
    {
     "name": "stdout",
     "output_type": "stream",
     "text": [
      "正の整数を入力：45\n",
      "1\n",
      "3\n",
      "5\n",
      "9\n",
      "15\n",
      "45\n"
     ]
    }
   ],
   "source": [
    "# 回答欄\n",
    "ntr_nm=int(input(\"正の整数を入力：\"))\n",
    "\n",
    "for i in range(1,ntr_nm+1):\n",
    "    if ntr_nm%i==0:\n",
    "        print(i)"
   ]
  },
  {
   "cell_type": "markdown",
   "id": "8682efcd",
   "metadata": {},
   "source": [
    "**問９．  \n",
    "inputされた日付（年/月/日）の、月と日を2桁表記でprintする（例：2023/4/1と入力された場合には2023/04/01とprintする）プログラムを作成してください。**"
   ]
  },
  {
   "cell_type": "code",
   "execution_count": 164,
   "id": "25a2bf28",
   "metadata": {},
   "outputs": [
    {
     "name": "stdout",
     "output_type": "stream",
     "text": [
      "年月日を入力：2023/4/1\n",
      "2023/04/01\n"
     ]
    }
   ],
   "source": [
    "# 回答欄\n",
    "date=input(\"年月日を入力：\")\n",
    "date_sp=date.split(\"/\")\n",
    "\n",
    "yyyy=date_sp[0]\n",
    "mm=date_sp[1].rjust(2,\"0\")\n",
    "dd=date_sp[2].rjust(2,\"0\")\n",
    "\n",
    "re_date=\"/\".join([yyyy,mm,dd])\n",
    "print(re_date)"
   ]
  },
  {
   "cell_type": "code",
   "execution_count": 166,
   "id": "c62f335f",
   "metadata": {},
   "outputs": [
    {
     "name": "stdout",
     "output_type": "stream",
     "text": [
      "年月日を入力：2023/5/2\n",
      "2023/05/02\n"
     ]
    }
   ],
   "source": [
    "# 回答欄\n",
    "date=input(\"年月日を入力：\")\n",
    "date_sp=date.split(\"/\")\n",
    "\n",
    "yyyy=date_sp[0]\n",
    "mm=date_sp[1]\n",
    "dd=date_sp[2]\n",
    "\n",
    "print(\"{}/{}/{}\".format(yyyy,mm.zfill(2),dd.zfill(2)))"
   ]
  },
  {
   "cell_type": "markdown",
   "id": "14e90470",
   "metadata": {},
   "source": [
    "**問１０．  \n",
    "file_listの各要素から年月日（yyyymmddの8桁）部分を抽出して順番にprintするプログラムを作成してください。**"
   ]
  },
  {
   "cell_type": "code",
   "execution_count": 167,
   "id": "b83c05b9",
   "metadata": {},
   "outputs": [
    {
     "name": "stdout",
     "output_type": "stream",
     "text": [
      "20230601\n",
      "20231210\n",
      "20230405\n",
      "20231020\n"
     ]
    }
   ],
   "source": [
    "# 回答欄\n",
    "file_list=[\"見積もり書_20230601_A.xlsx\", \"見積もり書_20231210_B.xlsx\", \"請求書_20230405.xlsx\", \"請求書_20231020.xlsx\"]\n",
    "\n",
    "List=[]\n",
    "for i in file_list:\n",
    "    start=i.find(\"202\")\n",
    "    date=i[start:start+8]\n",
    "    print(date)"
   ]
  },
  {
   "cell_type": "markdown",
   "id": "c25ff1ea",
   "metadata": {},
   "source": [
    "**問１１．  \n",
    "変数textに代入されている英文の冠詞aをtheに変更した上でtextをprintしてください。**"
   ]
  },
  {
   "cell_type": "code",
   "execution_count": 168,
   "id": "6a20701e",
   "metadata": {},
   "outputs": [
    {
     "name": "stdout",
     "output_type": "stream",
     "text": [
      "Python is the versatile, high-level, interpreted language known for simple syntax, object-oriented programming, the large standard library, and applications in various fields, with the strong developer community and easy-to-read code.\n"
     ]
    }
   ],
   "source": [
    "# 回答欄\n",
    "text=\"Python is a versatile, high-level, interpreted language known for simple syntax, object-oriented programming, a large standard library, and applications in various fields, with a strong developer community and easy-to-read code.\"\n",
    "print(text.replace(\" a \",\" the \"))"
   ]
  },
  {
   "cell_type": "markdown",
   "id": "d6ed5e65",
   "metadata": {},
   "source": [
    "**問１２．  \n",
    "1から300までの整数のうち「奇数かつ7の倍数」となる数のみを含んだlist_aを作成した上で、list_aの要素をランダムに並べ替えたlist_bを作成し、それらのリストをprintしてください。**"
   ]
  },
  {
   "cell_type": "code",
   "execution_count": 172,
   "id": "f6f4369c",
   "metadata": {},
   "outputs": [
    {
     "name": "stdout",
     "output_type": "stream",
     "text": [
      "[7, 21, 35, 49, 63, 77, 91, 105, 119, 133, 147, 161, 175, 189, 203, 217, 231, 245, 259, 273, 287]\n",
      "[21, 287, 231, 161, 217, 119, 49, 203, 105, 91, 133, 189, 245, 63, 175, 147, 259, 7, 35, 77, 273]\n"
     ]
    }
   ],
   "source": [
    "# 回答欄\n",
    "import random\n",
    "\n",
    "List=list(range(1,301))\n",
    "list_a=[]\n",
    "\n",
    "for i in List:\n",
    "    if i%2==1 and i%7==0:\n",
    "        list_a.append(i)\n",
    "\n",
    "list_b=random.sample(list_a,len(list_a))\n",
    "\n",
    "print(list_a)\n",
    "print(list_b)"
   ]
  },
  {
   "cell_type": "markdown",
   "id": "af5f25d0",
   "metadata": {},
   "source": [
    "**問１３．  \n",
    "現在日時から10000分後の日時を「yyyy/mm/dd HH:MM:SS」という表記の文字列としてprintしてください。**"
   ]
  },
  {
   "cell_type": "code",
   "execution_count": 81,
   "id": "0f62bd46",
   "metadata": {},
   "outputs": [
    {
     "name": "stdout",
     "output_type": "stream",
     "text": [
      "2023/05/30 10:36:30\n"
     ]
    }
   ],
   "source": [
    "# 回答欄\n",
    "import datetime as dt\n",
    "now=dt.datetime.now()\n",
    "tgt_date=now+dt.timedelta(minutes=10000)\n",
    "str_date=tgt_date.strftime(\"%Y/%m/%d %H:%M:%S\")\n",
    "print(str_date)"
   ]
  },
  {
   "cell_type": "markdown",
   "id": "39d17097",
   "metadata": {},
   "source": [
    "**問１４．  \n",
    "inputされた日付（yyyy/mm/dd）の1234日前の曜日を、火や木など1文字でprintしてください。**"
   ]
  },
  {
   "cell_type": "code",
   "execution_count": 173,
   "id": "a70c66fa",
   "metadata": {},
   "outputs": [
    {
     "name": "stdout",
     "output_type": "stream",
     "text": [
      "日付を入力：2023/5/23\n",
      "日\n"
     ]
    }
   ],
   "source": [
    "# 回答欄\n",
    "import datetime as dt\n",
    "date=input(\"日付を入力：\")\n",
    "\n",
    "dt_date=dt.datetime.strptime(date,\"%Y/%m/%d\")\n",
    "cul_date=dt_date-dt.timedelta(days=1234)\n",
    "date_youbi=cul_date.weekday()\n",
    "\n",
    "youbi={0:\"月\",1:\"火\",2:\"水\",3:\"木\",4:\"金\",5:\"土\",6:\"日\"}\n",
    "print(youbi[date_youbi])"
   ]
  },
  {
   "cell_type": "code",
   "execution_count": 174,
   "id": "d0427112",
   "metadata": {},
   "outputs": [
    {
     "name": "stdout",
     "output_type": "stream",
     "text": [
      "日付を入力：2023/5/23\n",
      "日\n"
     ]
    }
   ],
   "source": [
    "import datetime as dt\n",
    "date=input(\"日付を入力：\")\n",
    "\n",
    "dt_date=dt.datetime.strptime(date,\"%Y/%m/%d\")\n",
    "cul_date=dt_date-dt.timedelta(days=1234)\n",
    "date_youbi=cul_date.weekday()\n",
    "\n",
    "youbi=[\"月\",\"火\",\"水\",\"木\",\"金\",\"土\",\"日\"]\n",
    "print(youbi[date_youbi])"
   ]
  },
  {
   "cell_type": "markdown",
   "id": "02d93cec",
   "metadata": {},
   "source": [
    "**問１５．  \n",
    "List内の、「9の倍数以外を全て足し合わせた値」を変数var1に、「9の倍数を全て掛け合わせた値」を変数var2に代入し、それらの変数をprintしてください。ただし、List内に9の倍数以外の数が存在しない場合はvar1に\"該当無し\"という文字列を、List内に9の倍数が存在しない場合はvar2に\"該当無し\"という文字列を代入するようにしてください。**"
   ]
  },
  {
   "cell_type": "code",
   "execution_count": 91,
   "id": "e09edc2d",
   "metadata": {},
   "outputs": [
    {
     "name": "stdout",
     "output_type": "stream",
     "text": [
      "該当無し\n",
      "1735643790720\n"
     ]
    }
   ],
   "source": [
    "# 回答欄\n",
    "List=[9, 18, 27, 36, 45, 54, 63, 72]\n",
    "\n",
    "var1=0\n",
    "var2=1\n",
    "for i in List:\n",
    "    if i%9>0:\n",
    "        var1+=i\n",
    "    else:\n",
    "        var2*=i\n",
    "\n",
    "if var1==0:\n",
    "    print(\"該当無し\")\n",
    "else:\n",
    "    print(var1)\n",
    "\n",
    "if var2==1:\n",
    "    print(\"該当無し\")\n",
    "else:\n",
    "    print(var2)"
   ]
  },
  {
   "cell_type": "markdown",
   "id": "ad5ca66d",
   "metadata": {},
   "source": [
    "**問１６．  \n",
    "List_Aのいずれかの要素1つとList_Bのいずれかの要素1つを掛け合わせた値のうち最大となるものを調べてprintしてください。**"
   ]
  },
  {
   "cell_type": "code",
   "execution_count": 177,
   "id": "f298d891",
   "metadata": {},
   "outputs": [
    {
     "name": "stdout",
     "output_type": "stream",
     "text": [
      "8455\n"
     ]
    }
   ],
   "source": [
    "# 回答欄\n",
    "List_A=[9, -31, 42, -72, 53, -4, -89, 3, -10, -4, 79, -82, -12, 69, 76]\n",
    "List_B=[-14, -95, -26, -13, 54, -24, 53, 36, -57, -82, 99, 36, -60, 69, 58]\n",
    "\n",
    "list_c=[]\n",
    "for i in List_A:\n",
    "    for j in List_B:\n",
    "        list_c.append(i*j)\n",
    "\n",
    "print(max(list_c))"
   ]
  },
  {
   "cell_type": "markdown",
   "id": "014d85ce",
   "metadata": {},
   "source": [
    "**問１７．  \n",
    "20個の自然数を含むListの中から2つの数値を選んだ時、その差が最小となるような数値の組み合わせを調べて、その2つの数値をそれぞれprintしてください。ただし、複数の組み合わせが該当する場合には、その2つの数値の和が最も小さくなる組み合わせを選ぶものとします。**"
   ]
  },
  {
   "cell_type": "code",
   "execution_count": 134,
   "id": "1e24c9fd",
   "metadata": {},
   "outputs": [
    {
     "name": "stdout",
     "output_type": "stream",
     "text": [
      "(31, 30)\n"
     ]
    }
   ],
   "source": [
    "# 回答欄\n",
    "List=[52, 77, 24, 3, 31, 60, 86, 90, 35, 87, 55, 9, 79, 45, 73, 75, 30, 70, 59, 19]\n",
    "\n",
    "list_a=[]\n",
    "list_b=[]\n",
    "list_indx=[]\n",
    "list_c=[]\n",
    "\n",
    "import itertools as it\n",
    "for i in it.combinations(List,2):\n",
    "    if i[0]-i[1]>0:\n",
    "        list_a.append(i)\n",
    "        list_b.append(i[0]-i[1])\n",
    "for j in range(len(list_b)):\n",
    "    if list_b[j]==min(list_b):\n",
    "        list_indx.append(j)\n",
    "\n",
    "for k in list_indx:\n",
    "    list_c.append(list_a[k])\n",
    "\n",
    "print(min(list_c))"
   ]
  },
  {
   "cell_type": "code",
   "execution_count": 133,
   "id": "57aff935",
   "metadata": {},
   "outputs": [
    {
     "name": "stdout",
     "output_type": "stream",
     "text": [
      "[31, 30]\n"
     ]
    }
   ],
   "source": [
    "List=[52, 77, 24, 3, 31, 60, 86, 90, 35, 87, 55, 9, 79, 45, 73, 75, 30, 70, 59, 19]\n",
    "\n",
    "list_a=[]\n",
    "for i in List:\n",
    "    for j in List:\n",
    "        if i-j>0:\n",
    "            list_a.append([i-j,i,j])\n",
    "print(sorted(list_a)[0][1:3])"
   ]
  },
  {
   "cell_type": "code",
   "execution_count": 183,
   "id": "c78f74fb",
   "metadata": {},
   "outputs": [
    {
     "name": "stdout",
     "output_type": "stream",
     "text": [
      "30\n",
      "31\n"
     ]
    }
   ],
   "source": [
    "List=[52, 77, 24, 3, 31, 60, 86, 90, 35, 87, 55, 9, 79, 45, 73, 75, 30, 70, 59, 19]\n",
    "list_a=sorted(List)\n",
    "list_b=[]\n",
    "\n",
    "for i in range(1,len(list_a)):\n",
    "    list_b.append(list_a[i]-list_a[i-1])\n",
    "\n",
    "idx=list_b.index(min(list_b))\n",
    "print(list_a[idx])\n",
    "print(list_a[idx+1])"
   ]
  },
  {
   "cell_type": "code",
   "execution_count": null,
   "id": "82811736",
   "metadata": {},
   "outputs": [],
   "source": []
  }
 ],
 "metadata": {
  "kernelspec": {
   "display_name": "Python 3 (ipykernel)",
   "language": "python",
   "name": "python3"
  },
  "language_info": {
   "codemirror_mode": {
    "name": "ipython",
    "version": 3
   },
   "file_extension": ".py",
   "mimetype": "text/x-python",
   "name": "python",
   "nbconvert_exporter": "python",
   "pygments_lexer": "ipython3",
   "version": "3.11.0"
  }
 },
 "nbformat": 4,
 "nbformat_minor": 5
}
