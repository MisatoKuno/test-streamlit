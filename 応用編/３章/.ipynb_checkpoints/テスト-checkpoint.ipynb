{
 "cells": [
  {
   "cell_type": "code",
   "execution_count": 1,
   "id": "60b34db0",
   "metadata": {},
   "outputs": [
    {
     "name": "stdout",
     "output_type": "stream",
     "text": [
      "Collecting pyautogui\n",
      "  Downloading PyAutoGUI-0.9.53.tar.gz (59 kB)\n",
      "     ---------------------------------------- 59.0/59.0 kB 3.3 MB/s eta 0:00:00\n",
      "  Preparing metadata (setup.py): started\n",
      "  Preparing metadata (setup.py): finished with status 'done'\n",
      "Collecting pymsgbox\n",
      "  Downloading PyMsgBox-1.0.9.tar.gz (18 kB)\n",
      "  Installing build dependencies: started\n",
      "  Installing build dependencies: finished with status 'done'\n",
      "  Getting requirements to build wheel: started\n",
      "  Getting requirements to build wheel: finished with status 'done'\n",
      "  Preparing metadata (pyproject.toml): started\n",
      "  Preparing metadata (pyproject.toml): finished with status 'done'\n",
      "Collecting PyTweening>=1.0.1\n",
      "  Downloading pytweening-1.0.7.tar.gz (168 kB)\n",
      "     -------------------------------------- 168.2/168.2 kB 4.9 MB/s eta 0:00:00\n",
      "  Preparing metadata (setup.py): started\n",
      "  Preparing metadata (setup.py): finished with status 'done'\n",
      "Collecting pyscreeze>=0.1.21\n",
      "  Downloading PyScreeze-0.1.28.tar.gz (25 kB)\n",
      "  Installing build dependencies: started\n",
      "  Installing build dependencies: finished with status 'done'\n",
      "  Getting requirements to build wheel: started\n",
      "  Getting requirements to build wheel: finished with status 'done'\n",
      "  Preparing metadata (pyproject.toml): started\n",
      "  Preparing metadata (pyproject.toml): finished with status 'done'\n",
      "Collecting pygetwindow>=0.0.5\n",
      "  Downloading PyGetWindow-0.0.9.tar.gz (9.7 kB)\n",
      "  Preparing metadata (setup.py): started\n",
      "  Preparing metadata (setup.py): finished with status 'done'\n",
      "Collecting mouseinfo\n",
      "  Downloading MouseInfo-0.1.3.tar.gz (10 kB)\n",
      "  Preparing metadata (setup.py): started\n",
      "  Preparing metadata (setup.py): finished with status 'done'\n",
      "Collecting pyrect\n",
      "  Downloading PyRect-0.2.0.tar.gz (17 kB)\n",
      "  Preparing metadata (setup.py): started\n",
      "  Preparing metadata (setup.py): finished with status 'done'\n",
      "Requirement already satisfied: pyperclip in c:\\users\\mkuno5808\\appdata\\local\\programs\\python\\python311\\lib\\site-packages (from mouseinfo->pyautogui) (1.8.2)\n",
      "Building wheels for collected packages: pyscreeze, pymsgbox\n",
      "  Building wheel for pyscreeze (pyproject.toml): started\n",
      "  Building wheel for pyscreeze (pyproject.toml): finished with status 'done'\n",
      "  Created wheel for pyscreeze: filename=PyScreeze-0.1.28-py3-none-any.whl size=13026 sha256=4ac20274fafb545c2e52e1b06dd6b9057e0549c66c9ff5fb6e8d890946c9b4dc\n",
      "  Stored in directory: c:\\users\\mkuno5808\\appdata\\local\\pip\\cache\\wheels\\3c\\40\\3a\\9c3d9e6f3fc6565264bf4c8a4aab79b807c85ac1d975086278\n",
      "  Building wheel for pymsgbox (pyproject.toml): started\n",
      "  Building wheel for pymsgbox (pyproject.toml): finished with status 'done'\n",
      "  Created wheel for pymsgbox: filename=PyMsgBox-1.0.9-py3-none-any.whl size=7417 sha256=3514be02953405dcc40f75809f2262fe0370780f76523771fb864de715a508d0\n",
      "  Stored in directory: c:\\users\\mkuno5808\\appdata\\local\\pip\\cache\\wheels\\86\\ca\\39\\c410c25690a9b89457f57be9f18040f8a00bf127cc0c2c6338\n",
      "Successfully built pyscreeze pymsgbox\n",
      "Installing collected packages: PyTweening, pyscreeze, pyrect, pymsgbox, pygetwindow, mouseinfo, pyautogui\n",
      "  Running setup.py install for PyTweening: started\n",
      "  Running setup.py install for PyTweening: finished with status 'done'\n",
      "  Running setup.py install for pyrect: started\n",
      "  Running setup.py install for pyrect: finished with status 'done'\n",
      "  Running setup.py install for pygetwindow: started\n",
      "  Running setup.py install for pygetwindow: finished with status 'done'\n",
      "  Running setup.py install for mouseinfo: started\n",
      "  Running setup.py install for mouseinfo: finished with status 'done'\n",
      "  Running setup.py install for pyautogui: started\n",
      "  Running setup.py install for pyautogui: finished with status 'done'\n",
      "Successfully installed PyTweening-1.0.7 mouseinfo-0.1.3 pyautogui-0.9.53 pygetwindow-0.0.9 pymsgbox-1.0.9 pyrect-0.2.0 pyscreeze-0.1.28\n"
     ]
    },
    {
     "name": "stderr",
     "output_type": "stream",
     "text": [
      "  DEPRECATION: PyTweening is being installed using the legacy 'setup.py install' method, because it does not have a 'pyproject.toml' and the 'wheel' package is not installed. pip 23.1 will enforce this behaviour change. A possible replacement is to enable the '--use-pep517' option. Discussion can be found at https://github.com/pypa/pip/issues/8559\n",
      "  DEPRECATION: pyrect is being installed using the legacy 'setup.py install' method, because it does not have a 'pyproject.toml' and the 'wheel' package is not installed. pip 23.1 will enforce this behaviour change. A possible replacement is to enable the '--use-pep517' option. Discussion can be found at https://github.com/pypa/pip/issues/8559\n",
      "  DEPRECATION: pygetwindow is being installed using the legacy 'setup.py install' method, because it does not have a 'pyproject.toml' and the 'wheel' package is not installed. pip 23.1 will enforce this behaviour change. A possible replacement is to enable the '--use-pep517' option. Discussion can be found at https://github.com/pypa/pip/issues/8559\n",
      "  DEPRECATION: mouseinfo is being installed using the legacy 'setup.py install' method, because it does not have a 'pyproject.toml' and the 'wheel' package is not installed. pip 23.1 will enforce this behaviour change. A possible replacement is to enable the '--use-pep517' option. Discussion can be found at https://github.com/pypa/pip/issues/8559\n",
      "  DEPRECATION: pyautogui is being installed using the legacy 'setup.py install' method, because it does not have a 'pyproject.toml' and the 'wheel' package is not installed. pip 23.1 will enforce this behaviour change. A possible replacement is to enable the '--use-pep517' option. Discussion can be found at https://github.com/pypa/pip/issues/8559\n",
      "\n",
      "[notice] A new release of pip available: 22.3 -> 23.1.2\n",
      "[notice] To update, run: python.exe -m pip install --upgrade pip\n"
     ]
    }
   ],
   "source": [
    "!pip install pyautogui"
   ]
  },
  {
   "cell_type": "code",
   "execution_count": 2,
   "id": "2b4f18a2",
   "metadata": {},
   "outputs": [],
   "source": [
    "import pyautogui"
   ]
  },
  {
   "cell_type": "code",
   "execution_count": 3,
   "id": "b6fa6237",
   "metadata": {},
   "outputs": [
    {
     "data": {
      "text/plain": [
       "Size(width=1920, height=1200)"
      ]
     },
     "execution_count": 3,
     "metadata": {},
     "output_type": "execute_result"
    }
   ],
   "source": [
    "pyautogui.size()"
   ]
  },
  {
   "cell_type": "code",
   "execution_count": 28,
   "id": "56dc8d7c",
   "metadata": {},
   "outputs": [
    {
     "data": {
      "text/plain": [
       "Point(x=1502, y=1006)"
      ]
     },
     "execution_count": 28,
     "metadata": {},
     "output_type": "execute_result"
    }
   ],
   "source": [
    "pyautogui.position()"
   ]
  },
  {
   "cell_type": "code",
   "execution_count": 10,
   "id": "18c1e469",
   "metadata": {
    "scrolled": true
   },
   "outputs": [
    {
     "ename": "FailSafeException",
     "evalue": "PyAutoGUI fail-safe triggered from mouse moving to a corner of the screen. To disable this fail-safe, set pyautogui.FAILSAFE to False. DISABLING FAIL-SAFE IS NOT RECOMMENDED.",
     "output_type": "error",
     "traceback": [
      "\u001b[1;31m---------------------------------------------------------------------------\u001b[0m",
      "\u001b[1;31mFailSafeException\u001b[0m                         Traceback (most recent call last)",
      "Cell \u001b[1;32mIn[10], line 1\u001b[0m\n\u001b[1;32m----> 1\u001b[0m \u001b[43mpyautogui\u001b[49m\u001b[38;5;241;43m.\u001b[39;49m\u001b[43mmoveTo\u001b[49m\u001b[43m(\u001b[49m\u001b[43mx\u001b[49m\u001b[38;5;241;43m=\u001b[39;49m\u001b[38;5;241;43m200\u001b[39;49m\u001b[43m,\u001b[49m\u001b[43my\u001b[49m\u001b[38;5;241;43m=\u001b[39;49m\u001b[38;5;241;43m100\u001b[39;49m\u001b[43m,\u001b[49m\u001b[43mduration\u001b[49m\u001b[38;5;241;43m=\u001b[39;49m\u001b[38;5;241;43m5\u001b[39;49m\u001b[43m)\u001b[49m\n",
      "File \u001b[1;32m~\\AppData\\Local\\Programs\\Python\\Python311\\Lib\\site-packages\\pyautogui\\__init__.py:598\u001b[0m, in \u001b[0;36m_genericPyAutoGUIChecks.<locals>.wrapper\u001b[1;34m(*args, **kwargs)\u001b[0m\n\u001b[0;32m    595\u001b[0m \u001b[38;5;129m@functools\u001b[39m\u001b[38;5;241m.\u001b[39mwraps(wrappedFunction)\n\u001b[0;32m    596\u001b[0m \u001b[38;5;28;01mdef\u001b[39;00m \u001b[38;5;21mwrapper\u001b[39m(\u001b[38;5;241m*\u001b[39margs, \u001b[38;5;241m*\u001b[39m\u001b[38;5;241m*\u001b[39mkwargs):\n\u001b[0;32m    597\u001b[0m     failSafeCheck()\n\u001b[1;32m--> 598\u001b[0m     returnVal \u001b[38;5;241m=\u001b[39m \u001b[43mwrappedFunction\u001b[49m\u001b[43m(\u001b[49m\u001b[38;5;241;43m*\u001b[39;49m\u001b[43margs\u001b[49m\u001b[43m,\u001b[49m\u001b[43m \u001b[49m\u001b[38;5;241;43m*\u001b[39;49m\u001b[38;5;241;43m*\u001b[39;49m\u001b[43mkwargs\u001b[49m\u001b[43m)\u001b[49m\n\u001b[0;32m    599\u001b[0m     _handlePause(kwargs\u001b[38;5;241m.\u001b[39mget(\u001b[38;5;124m\"\u001b[39m\u001b[38;5;124m_pause\u001b[39m\u001b[38;5;124m\"\u001b[39m, \u001b[38;5;28;01mTrue\u001b[39;00m))\n\u001b[0;32m    600\u001b[0m     \u001b[38;5;28;01mreturn\u001b[39;00m returnVal\n",
      "File \u001b[1;32m~\\AppData\\Local\\Programs\\Python\\Python311\\Lib\\site-packages\\pyautogui\\__init__.py:1283\u001b[0m, in \u001b[0;36mmoveTo\u001b[1;34m(x, y, duration, tween, logScreenshot, _pause)\u001b[0m\n\u001b[0;32m   1280\u001b[0m x, y \u001b[38;5;241m=\u001b[39m _normalizeXYArgs(x, y)\n\u001b[0;32m   1282\u001b[0m _logScreenshot(logScreenshot, \u001b[38;5;124m\"\u001b[39m\u001b[38;5;124mmoveTo\u001b[39m\u001b[38;5;124m\"\u001b[39m, \u001b[38;5;124m\"\u001b[39m\u001b[38;5;132;01m%s\u001b[39;00m\u001b[38;5;124m,\u001b[39m\u001b[38;5;132;01m%s\u001b[39;00m\u001b[38;5;124m\"\u001b[39m \u001b[38;5;241m%\u001b[39m (x, y), folder\u001b[38;5;241m=\u001b[39m\u001b[38;5;124m\"\u001b[39m\u001b[38;5;124m.\u001b[39m\u001b[38;5;124m\"\u001b[39m)\n\u001b[1;32m-> 1283\u001b[0m \u001b[43m_mouseMoveDrag\u001b[49m\u001b[43m(\u001b[49m\u001b[38;5;124;43m\"\u001b[39;49m\u001b[38;5;124;43mmove\u001b[39;49m\u001b[38;5;124;43m\"\u001b[39;49m\u001b[43m,\u001b[49m\u001b[43m \u001b[49m\u001b[43mx\u001b[49m\u001b[43m,\u001b[49m\u001b[43m \u001b[49m\u001b[43my\u001b[49m\u001b[43m,\u001b[49m\u001b[43m \u001b[49m\u001b[38;5;241;43m0\u001b[39;49m\u001b[43m,\u001b[49m\u001b[43m \u001b[49m\u001b[38;5;241;43m0\u001b[39;49m\u001b[43m,\u001b[49m\u001b[43m \u001b[49m\u001b[43mduration\u001b[49m\u001b[43m,\u001b[49m\u001b[43m \u001b[49m\u001b[43mtween\u001b[49m\u001b[43m)\u001b[49m\n",
      "File \u001b[1;32m~\\AppData\\Local\\Programs\\Python\\Python311\\Lib\\site-packages\\pyautogui\\__init__.py:1499\u001b[0m, in \u001b[0;36m_mouseMoveDrag\u001b[1;34m(moveOrDrag, x, y, xOffset, yOffset, duration, tween, button)\u001b[0m\n\u001b[0;32m   1495\u001b[0m \u001b[38;5;66;03m# Do a fail-safe check to see if the user moved the mouse to a fail-safe position, but not if the mouse cursor\u001b[39;00m\n\u001b[0;32m   1496\u001b[0m \u001b[38;5;66;03m# moved there as a result of this function. (Just because tweenX and tweenY aren't in a fail-safe position\u001b[39;00m\n\u001b[0;32m   1497\u001b[0m \u001b[38;5;66;03m# doesn't mean the user couldn't have moved the mouse cursor to a fail-safe position.)\u001b[39;00m\n\u001b[0;32m   1498\u001b[0m \u001b[38;5;28;01mif\u001b[39;00m (tweenX, tweenY) \u001b[38;5;129;01mnot\u001b[39;00m \u001b[38;5;129;01min\u001b[39;00m FAILSAFE_POINTS:\n\u001b[1;32m-> 1499\u001b[0m     \u001b[43mfailSafeCheck\u001b[49m\u001b[43m(\u001b[49m\u001b[43m)\u001b[49m\n\u001b[0;32m   1501\u001b[0m \u001b[38;5;28;01mif\u001b[39;00m moveOrDrag \u001b[38;5;241m==\u001b[39m \u001b[38;5;124m\"\u001b[39m\u001b[38;5;124mmove\u001b[39m\u001b[38;5;124m\"\u001b[39m:\n\u001b[0;32m   1502\u001b[0m     platformModule\u001b[38;5;241m.\u001b[39m_moveTo(tweenX, tweenY)\n",
      "File \u001b[1;32m~\\AppData\\Local\\Programs\\Python\\Python311\\Lib\\site-packages\\pyautogui\\__init__.py:1722\u001b[0m, in \u001b[0;36mfailSafeCheck\u001b[1;34m()\u001b[0m\n\u001b[0;32m   1720\u001b[0m \u001b[38;5;28;01mdef\u001b[39;00m \u001b[38;5;21mfailSafeCheck\u001b[39m():\n\u001b[0;32m   1721\u001b[0m     \u001b[38;5;28;01mif\u001b[39;00m FAILSAFE \u001b[38;5;129;01mand\u001b[39;00m \u001b[38;5;28mtuple\u001b[39m(position()) \u001b[38;5;129;01min\u001b[39;00m FAILSAFE_POINTS:\n\u001b[1;32m-> 1722\u001b[0m         \u001b[38;5;28;01mraise\u001b[39;00m FailSafeException(\n\u001b[0;32m   1723\u001b[0m             \u001b[38;5;124m\"\u001b[39m\u001b[38;5;124mPyAutoGUI fail-safe triggered from mouse moving to a corner of the screen. To disable this fail-safe, set pyautogui.FAILSAFE to False. DISABLING FAIL-SAFE IS NOT RECOMMENDED.\u001b[39m\u001b[38;5;124m\"\u001b[39m\n\u001b[0;32m   1724\u001b[0m         )\n",
      "\u001b[1;31mFailSafeException\u001b[0m: PyAutoGUI fail-safe triggered from mouse moving to a corner of the screen. To disable this fail-safe, set pyautogui.FAILSAFE to False. DISABLING FAIL-SAFE IS NOT RECOMMENDED."
     ]
    }
   ],
   "source": [
    "pyautogui.moveTo(x=200,y=100,duration=5)"
   ]
  },
  {
   "cell_type": "code",
   "execution_count": 11,
   "id": "b99e3f4e",
   "metadata": {},
   "outputs": [],
   "source": [
    "pyautogui.click()"
   ]
  },
  {
   "cell_type": "code",
   "execution_count": 13,
   "id": "48750241",
   "metadata": {},
   "outputs": [],
   "source": [
    "pyautogui.rightClick()"
   ]
  },
  {
   "cell_type": "code",
   "execution_count": 15,
   "id": "340c6741",
   "metadata": {},
   "outputs": [],
   "source": [
    "pyautogui.mouseDown()\n",
    "pyautogui.moveRel(200,0,duration=1)\n",
    "pyautogui.mouseUp()"
   ]
  },
  {
   "cell_type": "code",
   "execution_count": 18,
   "id": "eb4fba4c",
   "metadata": {},
   "outputs": [],
   "source": [
    "pyautogui.click()\n",
    "pyautogui.write(\"test\")"
   ]
  },
  {
   "cell_type": "code",
   "execution_count": 20,
   "id": "f89b67d5",
   "metadata": {},
   "outputs": [],
   "source": [
    "import pyperclip"
   ]
  },
  {
   "cell_type": "code",
   "execution_count": 25,
   "id": "824b4443",
   "metadata": {},
   "outputs": [],
   "source": [
    "pyautogui.click()\n",
    "pyperclip.copy(\"テスト\")\n",
    "pyautogui.hotkey(\"ctrl\",\"v\")\n",
    "pyautogui.press(\"enter\")"
   ]
  },
  {
   "cell_type": "code",
   "execution_count": null,
   "id": "ff642baf",
   "metadata": {},
   "outputs": [],
   "source": [
    "テストテスト\n"
   ]
  },
  {
   "cell_type": "code",
   "execution_count": 13,
   "id": "17e8cc63",
   "metadata": {},
   "outputs": [],
   "source": [
    "pyautogui.hotkey(\"win\",\"d\")"
   ]
  },
  {
   "cell_type": "code",
   "execution_count": 32,
   "id": "4aa52be3",
   "metadata": {},
   "outputs": [],
   "source": [
    "import time\n",
    "\n",
    "pyautogui.click(x=1188,y=304)\n",
    "time.sleep(1)\n",
    "pyperclip.copy(\"あーるぴーえー\")\n",
    "pyautogui.hotkey(\"ctrl\",\"v\")\n",
    "pyautogui.press(\"enter\")"
   ]
  },
  {
   "cell_type": "code",
   "execution_count": 33,
   "id": "0651fcad",
   "metadata": {},
   "outputs": [
    {
     "data": {
      "text/plain": [
       "'C:\\\\Users\\\\mkuno5808\\\\Desktop\\\\RPA_test.xlsx'"
      ]
     },
     "execution_count": 33,
     "metadata": {},
     "output_type": "execute_result"
    }
   ],
   "source": [
    "import openpyxl\n",
    "import shutil\n",
    "wb=openpyxl.Workbook()\n",
    "wb.save(\"RPA_test.xlsx\")\n",
    "shutil.move(\"RPA_test.xlsx\",r\"C:\\Users\\mkuno5808\\Desktop\")"
   ]
  },
  {
   "cell_type": "code",
   "execution_count": 37,
   "id": "4962dc03",
   "metadata": {},
   "outputs": [
    {
     "data": {
      "text/plain": [
       "Point(x=1667, y=211)"
      ]
     },
     "execution_count": 37,
     "metadata": {},
     "output_type": "execute_result"
    }
   ],
   "source": [
    "pyautogui.locateCenterOnScreen(\"icon.png\")"
   ]
  },
  {
   "cell_type": "code",
   "execution_count": 36,
   "id": "3ee3ca1c",
   "metadata": {},
   "outputs": [
    {
     "name": "stdout",
     "output_type": "stream",
     "text": [
      "Collecting opencv-contrib-python\n",
      "  Downloading opencv_contrib_python-4.7.0.72-cp37-abi3-win_amd64.whl (44.9 MB)\n",
      "     ---------------------------------------- 44.9/44.9 MB 5.2 MB/s eta 0:00:00\n",
      "Requirement already satisfied: numpy>=1.21.2 in c:\\users\\mkuno5808\\appdata\\local\\programs\\python\\python311\\lib\\site-packages (from opencv-contrib-python) (1.24.3)\n",
      "Installing collected packages: opencv-contrib-python\n",
      "Successfully installed opencv-contrib-python-4.7.0.72\n"
     ]
    },
    {
     "name": "stderr",
     "output_type": "stream",
     "text": [
      "\n",
      "[notice] A new release of pip available: 22.3 -> 23.1.2\n",
      "[notice] To update, run: python.exe -m pip install --upgrade pip\n"
     ]
    }
   ],
   "source": [
    "!pip install opencv-contrib-python"
   ]
  },
  {
   "cell_type": "code",
   "execution_count": 38,
   "id": "60d80896",
   "metadata": {},
   "outputs": [
    {
     "data": {
      "text/plain": [
       "Point(x=1667, y=211)"
      ]
     },
     "execution_count": 38,
     "metadata": {},
     "output_type": "execute_result"
    }
   ],
   "source": [
    "pyautogui.locateCenterOnScreen(\"icon.png\")"
   ]
  },
  {
   "cell_type": "code",
   "execution_count": 29,
   "id": "cb27a48e",
   "metadata": {},
   "outputs": [
    {
     "name": "stdout",
     "output_type": "stream",
     "text": [
      "処理は終了しました。\n"
     ]
    }
   ],
   "source": [
    "import pyautogui\n",
    "import time\n",
    "import pyperclip\n",
    "pyautogui.hotkey(\"win\",\"d\")\n",
    "time.sleep(1)\n",
    "pyautogui.doubleClick(1502,1006)\n",
    "X,Y=pyautogui.locateCenterOnScreen(\"icon.png\")\n",
    "pyautogui.doubleClick(X,Y)\n",
    "time.sleep(2)\n",
    "pyautogui.click(187,393)\n",
    "pyperclip.copy(\"テスト\")\n",
    "pyautogui.hotkey(\"ctrl\",\"v\")\n",
    "pyautogui.hotkey(\"ctrl\",\"s\")\n",
    "pyautogui.click(1896,30)\n",
    "print(\"処理は終了しました。\")"
   ]
  },
  {
   "cell_type": "code",
   "execution_count": 26,
   "id": "89f16d94",
   "metadata": {},
   "outputs": [
    {
     "data": {
      "text/plain": [
       "Point(x=1667, y=211)"
      ]
     },
     "execution_count": 26,
     "metadata": {},
     "output_type": "execute_result"
    }
   ],
   "source": [
    "pyautogui.hotkey(\"win\",\"d\")\n",
    "time.sleep(2)\n",
    "pyautogui.locateCenterOnScreen(\"icon.png\")"
   ]
  },
  {
   "cell_type": "code",
   "execution_count": 23,
   "id": "bf39e329",
   "metadata": {},
   "outputs": [
    {
     "data": {
      "text/plain": [
       "Point(x=1667, y=211)"
      ]
     },
     "execution_count": 23,
     "metadata": {},
     "output_type": "execute_result"
    }
   ],
   "source": [
    "pyautogui.locateCenterOnScreen(\"icon.png\")"
   ]
  },
  {
   "cell_type": "code",
   "execution_count": 30,
   "id": "298fdfee",
   "metadata": {},
   "outputs": [
    {
     "name": "stdout",
     "output_type": "stream",
     "text": [
      "Collecting pyinstaller\n",
      "  Downloading pyinstaller-5.11.0-py3-none-win_amd64.whl (1.3 MB)\n",
      "     ---------------------------------------- 1.3/1.3 MB 5.0 MB/s eta 0:00:00\n",
      "Requirement already satisfied: setuptools>=42.0.0 in c:\\users\\mkuno5808\\appdata\\local\\programs\\python\\python311\\lib\\site-packages (from pyinstaller) (65.5.0)\n",
      "Collecting altgraph\n",
      "  Downloading altgraph-0.17.3-py2.py3-none-any.whl (21 kB)\n",
      "Collecting pyinstaller-hooks-contrib>=2021.4\n",
      "  Downloading pyinstaller_hooks_contrib-2023.3-py2.py3-none-any.whl (263 kB)\n",
      "     -------------------------------------- 263.6/263.6 kB 5.4 MB/s eta 0:00:00\n",
      "Collecting pefile>=2022.5.30\n",
      "  Downloading pefile-2023.2.7-py3-none-any.whl (71 kB)\n",
      "     ---------------------------------------- 71.8/71.8 kB ? eta 0:00:00\n",
      "Collecting pywin32-ctypes>=0.2.0\n",
      "  Downloading pywin32_ctypes-0.2.0-py2.py3-none-any.whl (28 kB)\n",
      "Installing collected packages: pywin32-ctypes, altgraph, pyinstaller-hooks-contrib, pefile, pyinstaller\n",
      "Successfully installed altgraph-0.17.3 pefile-2023.2.7 pyinstaller-5.11.0 pyinstaller-hooks-contrib-2023.3 pywin32-ctypes-0.2.0\n"
     ]
    },
    {
     "name": "stderr",
     "output_type": "stream",
     "text": [
      "\n",
      "[notice] A new release of pip available: 22.3 -> 23.1.2\n",
      "[notice] To update, run: python.exe -m pip install --upgrade pip\n"
     ]
    }
   ],
   "source": [
    "!pip install pyinstaller"
   ]
  },
  {
   "cell_type": "code",
   "execution_count": 2,
   "id": "6b6e4d14",
   "metadata": {
    "scrolled": true
   },
   "outputs": [
    {
     "name": "stderr",
     "output_type": "stream",
     "text": [
      "624 INFO: PyInstaller: 5.11.0\n",
      "624 INFO: Python: 3.11.0\n",
      "634 INFO: Platform: Windows-10-10.0.22621-SP0\n",
      "638 INFO: wrote C:\\Users\\mkuno5808\\Desktop\\基礎\\Udemy\\Python\\応用編\\３章\\完成版.spec\n",
      "639 INFO: UPX is not available.\n",
      "648 INFO: Extending PYTHONPATH with paths\n",
      "['C:\\\\Users\\\\mkuno5808\\\\Desktop\\\\基礎\\\\Udemy\\\\Python\\\\応用編\\\\３章']\n",
      "1293 INFO: checking Analysis\n",
      "1293 INFO: Building Analysis because Analysis-00.toc is non existent\n",
      "1293 INFO: Initializing module dependency graph...\n",
      "1296 INFO: Caching module graph hooks...\n",
      "1316 INFO: Analyzing base_library.zip ...\n",
      "3964 INFO: Loading module hook 'hook-heapq.py' from 'C:\\\\Users\\\\mkuno5808\\\\AppData\\\\Local\\\\Programs\\\\Python\\\\Python311\\\\Lib\\\\site-packages\\\\PyInstaller\\\\hooks'...\n",
      "4118 INFO: Loading module hook 'hook-encodings.py' from 'C:\\\\Users\\\\mkuno5808\\\\AppData\\\\Local\\\\Programs\\\\Python\\\\Python311\\\\Lib\\\\site-packages\\\\PyInstaller\\\\hooks'...\n",
      "6584 INFO: Loading module hook 'hook-pickle.py' from 'C:\\\\Users\\\\mkuno5808\\\\AppData\\\\Local\\\\Programs\\\\Python\\\\Python311\\\\Lib\\\\site-packages\\\\PyInstaller\\\\hooks'...\n",
      "9696 INFO: Caching module dependency graph...\n",
      "9806 INFO: running Analysis Analysis-00.toc\n",
      "9826 INFO: Adding Microsoft.Windows.Common-Controls to dependent assemblies of final executable\n",
      "  required by C:\\Users\\mkuno5808\\AppData\\Local\\Programs\\Python\\Python311\\python.exe\n",
      "9867 INFO: Analyzing C:\\Users\\mkuno5808\\Desktop\\基礎\\Udemy\\Python\\応用編\\３章\\完成版.py\n",
      "9969 INFO: Loading module hook 'hook-platform.py' from 'C:\\\\Users\\\\mkuno5808\\\\AppData\\\\Local\\\\Programs\\\\Python\\\\Python311\\\\Lib\\\\site-packages\\\\PyInstaller\\\\hooks'...\n",
      "10444 INFO: Loading module hook 'hook-PIL.py' from 'C:\\\\Users\\\\mkuno5808\\\\AppData\\\\Local\\\\Programs\\\\Python\\\\Python311\\\\Lib\\\\site-packages\\\\PyInstaller\\\\hooks'...\n",
      "10542 INFO: Loading module hook 'hook-PIL.Image.py' from 'C:\\\\Users\\\\mkuno5808\\\\AppData\\\\Local\\\\Programs\\\\Python\\\\Python311\\\\Lib\\\\site-packages\\\\PyInstaller\\\\hooks'...\n",
      "11317 INFO: Loading module hook 'hook-xml.py' from 'C:\\\\Users\\\\mkuno5808\\\\AppData\\\\Local\\\\Programs\\\\Python\\\\Python311\\\\Lib\\\\site-packages\\\\PyInstaller\\\\hooks'...\n",
      "11381 INFO: Loading module hook 'hook-xml.etree.cElementTree.py' from 'C:\\\\Users\\\\mkuno5808\\\\AppData\\\\Local\\\\Programs\\\\Python\\\\Python311\\\\Lib\\\\site-packages\\\\PyInstaller\\\\hooks'...\n",
      "11543 INFO: Loading module hook 'hook-xml.dom.domreg.py' from 'C:\\\\Users\\\\mkuno5808\\\\AppData\\\\Local\\\\Programs\\\\Python\\\\Python311\\\\Lib\\\\site-packages\\\\PyInstaller\\\\hooks'...\n",
      "12383 INFO: Loading module hook 'hook-sysconfig.py' from 'C:\\\\Users\\\\mkuno5808\\\\AppData\\\\Local\\\\Programs\\\\Python\\\\Python311\\\\Lib\\\\site-packages\\\\PyInstaller\\\\hooks'...\n",
      "12834 INFO: Loading module hook 'hook-pycparser.py' from 'C:\\\\Users\\\\mkuno5808\\\\AppData\\\\Local\\\\Programs\\\\Python\\\\Python311\\\\Lib\\\\site-packages\\\\_pyinstaller_hooks_contrib\\\\hooks\\\\stdhooks'...\n",
      "13397 INFO: Processing pre-find module path hook distutils from 'C:\\\\Users\\\\mkuno5808\\\\AppData\\\\Local\\\\Programs\\\\Python\\\\Python311\\\\Lib\\\\site-packages\\\\PyInstaller\\\\hooks\\\\pre_find_module_path\\\\hook-distutils.py'.\n",
      "13906 INFO: Loading module hook 'hook-distutils.py' from 'C:\\\\Users\\\\mkuno5808\\\\AppData\\\\Local\\\\Programs\\\\Python\\\\Python311\\\\Lib\\\\site-packages\\\\PyInstaller\\\\hooks'...\n",
      "13999 INFO: Loading module hook 'hook-distutils.util.py' from 'C:\\\\Users\\\\mkuno5808\\\\AppData\\\\Local\\\\Programs\\\\Python\\\\Python311\\\\Lib\\\\site-packages\\\\PyInstaller\\\\hooks'...\n",
      "14350 INFO: Loading module hook 'hook-setuptools.py' from 'C:\\\\Users\\\\mkuno5808\\\\AppData\\\\Local\\\\Programs\\\\Python\\\\Python311\\\\Lib\\\\site-packages\\\\PyInstaller\\\\hooks'...\n",
      "16678 INFO: Loading module hook 'hook-pkg_resources.py' from 'C:\\\\Users\\\\mkuno5808\\\\AppData\\\\Local\\\\Programs\\\\Python\\\\Python311\\\\Lib\\\\site-packages\\\\PyInstaller\\\\hooks'...\n",
      "18833 INFO: Loading module hook 'hook-packaging.py' from 'C:\\\\Users\\\\mkuno5808\\\\AppData\\\\Local\\\\Programs\\\\Python\\\\Python311\\\\Lib\\\\site-packages\\\\PyInstaller\\\\hooks'...\n",
      "20357 INFO: Loading module hook 'hook-multiprocessing.util.py' from 'C:\\\\Users\\\\mkuno5808\\\\AppData\\\\Local\\\\Programs\\\\Python\\\\Python311\\\\Lib\\\\site-packages\\\\PyInstaller\\\\hooks'...\n",
      "21321 INFO: Loading module hook 'hook-numpy.py' from 'C:\\\\Users\\\\mkuno5808\\\\AppData\\\\Local\\\\Programs\\\\Python\\\\Python311\\\\Lib\\\\site-packages\\\\numpy\\\\_pyinstaller'...\n",
      "22819 INFO: Loading module hook 'hook-difflib.py' from 'C:\\\\Users\\\\mkuno5808\\\\AppData\\\\Local\\\\Programs\\\\Python\\\\Python311\\\\Lib\\\\site-packages\\\\PyInstaller\\\\hooks'...\n",
      "25842 INFO: Loading module hook 'hook-PIL.ImageFilter.py' from 'C:\\\\Users\\\\mkuno5808\\\\AppData\\\\Local\\\\Programs\\\\Python\\\\Python311\\\\Lib\\\\site-packages\\\\PyInstaller\\\\hooks'...\n",
      "26011 INFO: Loading module hook 'hook-cv2.py' from 'C:\\\\Users\\\\mkuno5808\\\\AppData\\\\Local\\\\Programs\\\\Python\\\\Python311\\\\Lib\\\\site-packages\\\\_pyinstaller_hooks_contrib\\\\hooks\\\\stdhooks'...\n",
      "27294 INFO: Processing module hooks...\n",
      "28074 INFO: Loading module hook 'hook-PIL.SpiderImagePlugin.py' from 'C:\\\\Users\\\\mkuno5808\\\\AppData\\\\Local\\\\Programs\\\\Python\\\\Python311\\\\Lib\\\\site-packages\\\\PyInstaller\\\\hooks'...\n",
      "28229 INFO: Processing pre-safe import module hook win32com from 'C:\\\\Users\\\\mkuno5808\\\\AppData\\\\Local\\\\Programs\\\\Python\\\\Python311\\\\Lib\\\\site-packages\\\\_pyinstaller_hooks_contrib\\\\hooks\\\\pre_safe_import_module\\\\hook-win32com.py'.\n",
      "28349 INFO: Loading module hook 'hook-win32com.py' from 'C:\\\\Users\\\\mkuno5808\\\\AppData\\\\Local\\\\Programs\\\\Python\\\\Python311\\\\Lib\\\\site-packages\\\\_pyinstaller_hooks_contrib\\\\hooks\\\\stdhooks'...\n",
      "28349 INFO: Loading module hook 'hook-pythoncom.py' from 'C:\\\\Users\\\\mkuno5808\\\\AppData\\\\Local\\\\Programs\\\\Python\\\\Python311\\\\Lib\\\\site-packages\\\\_pyinstaller_hooks_contrib\\\\hooks\\\\stdhooks'...\n",
      "28771 INFO: Loading module hook 'hook-pywintypes.py' from 'C:\\\\Users\\\\mkuno5808\\\\AppData\\\\Local\\\\Programs\\\\Python\\\\Python311\\\\Lib\\\\site-packages\\\\_pyinstaller_hooks_contrib\\\\hooks\\\\stdhooks'...\n",
      "30678 INFO: Loading module hook 'hook-jinja2.py' from 'C:\\\\Users\\\\mkuno5808\\\\AppData\\\\Local\\\\Programs\\\\Python\\\\Python311\\\\Lib\\\\site-packages\\\\_pyinstaller_hooks_contrib\\\\hooks\\\\stdhooks'...\n",
      "31427 INFO: Loading module hook 'hook-setuptools.msvc.py' from 'C:\\\\Users\\\\mkuno5808\\\\AppData\\\\Local\\\\Programs\\\\Python\\\\Python311\\\\Lib\\\\site-packages\\\\PyInstaller\\\\hooks'...\n",
      "33453 INFO: Loading module hook 'hook-_tkinter.py' from 'C:\\\\Users\\\\mkuno5808\\\\AppData\\\\Local\\\\Programs\\\\Python\\\\Python311\\\\Lib\\\\site-packages\\\\PyInstaller\\\\hooks'...\n",
      "33453 INFO: checking Tree\n",
      "33453 INFO: Building Tree because Tree-00.toc is non existent\n",
      "33453 INFO: Building Tree Tree-00.toc\n",
      "33514 INFO: checking Tree\n",
      "33514 INFO: Building Tree because Tree-01.toc is non existent\n",
      "33514 INFO: Building Tree Tree-01.toc\n",
      "33524 INFO: checking Tree\n",
      "33524 INFO: Building Tree because Tree-02.toc is non existent\n",
      "33524 INFO: Building Tree Tree-02.toc\n",
      "34287 INFO: Looking for ctypes DLLs\n",
      "34461 INFO: Analyzing run-time hooks ...\n",
      "34472 INFO: Including run-time hook 'C:\\\\Users\\\\mkuno5808\\\\AppData\\\\Local\\\\Programs\\\\Python\\\\Python311\\\\Lib\\\\site-packages\\\\PyInstaller\\\\hooks\\\\rthooks\\\\pyi_rth_inspect.py'\n",
      "34481 INFO: Including run-time hook 'C:\\\\Users\\\\mkuno5808\\\\AppData\\\\Local\\\\Programs\\\\Python\\\\Python311\\\\Lib\\\\site-packages\\\\PyInstaller\\\\hooks\\\\rthooks\\\\pyi_rth_pkgres.py'\n",
      "34493 INFO: Including run-time hook 'C:\\\\Users\\\\mkuno5808\\\\AppData\\\\Local\\\\Programs\\\\Python\\\\Python311\\\\Lib\\\\site-packages\\\\PyInstaller\\\\hooks\\\\rthooks\\\\pyi_rth_multiprocessing.py'\n",
      "34502 INFO: Including run-time hook 'C:\\\\Users\\\\mkuno5808\\\\AppData\\\\Local\\\\Programs\\\\Python\\\\Python311\\\\Lib\\\\site-packages\\\\PyInstaller\\\\hooks\\\\rthooks\\\\pyi_rth_win32comgenpy.py'\n",
      "34512 INFO: Including run-time hook 'C:\\\\Users\\\\mkuno5808\\\\AppData\\\\Local\\\\Programs\\\\Python\\\\Python311\\\\Lib\\\\site-packages\\\\_pyinstaller_hooks_contrib\\\\hooks\\\\rthooks\\\\pyi_rth_pywintypes.py'\n",
      "34522 INFO: Including run-time hook 'C:\\\\Users\\\\mkuno5808\\\\AppData\\\\Local\\\\Programs\\\\Python\\\\Python311\\\\Lib\\\\site-packages\\\\_pyinstaller_hooks_contrib\\\\hooks\\\\rthooks\\\\pyi_rth_pythoncom.py'\n",
      "34524 INFO: Including run-time hook 'C:\\\\Users\\\\mkuno5808\\\\AppData\\\\Local\\\\Programs\\\\Python\\\\Python311\\\\Lib\\\\site-packages\\\\PyInstaller\\\\hooks\\\\rthooks\\\\pyi_rth_pkgutil.py'\n",
      "34532 INFO: Including run-time hook 'C:\\\\Users\\\\mkuno5808\\\\AppData\\\\Local\\\\Programs\\\\Python\\\\Python311\\\\Lib\\\\site-packages\\\\PyInstaller\\\\hooks\\\\rthooks\\\\pyi_rth__tkinter.py'\n",
      "34542 INFO: Including run-time hook 'C:\\\\Users\\\\mkuno5808\\\\AppData\\\\Local\\\\Programs\\\\Python\\\\Python311\\\\Lib\\\\site-packages\\\\PyInstaller\\\\hooks\\\\rthooks\\\\pyi_rth_setuptools.py'\n",
      "34573 INFO: Looking for dynamic libraries\n",
      "C:\\Users\\mkuno5808\\AppData\\Local\\Programs\\Python\\Python311\\Lib\\site-packages\\PyInstaller\\building\\build_main.py:177: UserWarning: The numpy.array_api submodule is still experimental. See NEP 47.\n",
      "  __import__(package)\n",
      "788 INFO: Extra DLL search directories (AddDllDirectory): ['C:\\\\Users\\\\mkuno5808\\\\AppData\\\\Local\\\\Programs\\\\Python\\\\Python311\\\\Lib\\\\site-packages\\\\numpy\\\\.libs', 'C:\\\\Users\\\\mkuno5808\\\\AppData\\\\Local\\\\Programs\\\\Python\\\\Python311\\\\Lib\\\\site-packages\\\\cv2\\\\../../x64/vc14/bin']\n",
      "788 INFO: Extra DLL search directories (PATH): ['C:\\\\Users\\\\mkuno5808\\\\AppData\\\\Local\\\\Programs\\\\Python\\\\Python311\\\\Lib\\\\site-packages\\\\cv2\\\\../../x64/vc14/bin', 'C:\\\\WINDOWS\\\\system32', 'C:\\\\WINDOWS', 'C:\\\\WINDOWS\\\\System32\\\\Wbem', 'C:\\\\WINDOWS\\\\System32\\\\WindowsPowerShell\\\\v1.0\\\\', 'C:\\\\WINDOWS\\\\System32\\\\OpenSSH\\\\', 'C:\\\\Users\\\\mkuno5808\\\\AppData\\\\Local\\\\Programs\\\\Python\\\\Python311\\\\Scripts\\\\', 'C:\\\\Users\\\\mkuno5808\\\\AppData\\\\Local\\\\Programs\\\\Python\\\\Python311\\\\', 'C:\\\\Users\\\\mkuno5808\\\\AppData\\\\Local\\\\Programs\\\\Python\\\\Launcher\\\\', 'C:\\\\Users\\\\mkuno5808\\\\AppData\\\\Local\\\\Microsoft\\\\WindowsApps', 'C:\\\\Users\\\\mkuno5808\\\\AppData\\\\Local\\\\Programs\\\\Microsoft VS Code\\\\bin']\n",
      "36510 INFO: Looking for eggs\n",
      "36521 INFO: Using Python library C:\\Users\\mkuno5808\\AppData\\Local\\Programs\\Python\\Python311\\python311.dll\n",
      "36521 INFO: Found binding redirects: \n",
      "[]\n",
      "36521 INFO: Warnings written to C:\\Users\\mkuno5808\\Desktop\\基礎\\Udemy\\Python\\応用編\\３章\\build\\完成版\\warn-完成版.txt\n",
      "36597 INFO: Graph cross-reference written to C:\\Users\\mkuno5808\\Desktop\\基礎\\Udemy\\Python\\応用編\\３章\\build\\完成版\\xref-完成版.html\n",
      "36681 INFO: checking PYZ\n",
      "36681 INFO: Building PYZ because PYZ-00.toc is non existent\n",
      "36681 INFO: Building PYZ (ZlibArchive) C:\\Users\\mkuno5808\\Desktop\\基礎\\Udemy\\Python\\応用編\\３章\\build\\完成版\\PYZ-00.pyz\n",
      "37801 INFO: Building PYZ (ZlibArchive) C:\\Users\\mkuno5808\\Desktop\\基礎\\Udemy\\Python\\応用編\\３章\\build\\完成版\\PYZ-00.pyz completed successfully.\n",
      "37842 INFO: checking PKG\n",
      "37842 INFO: Building PKG because PKG-00.toc is non existent\n",
      "37842 INFO: Building PKG (CArchive) 完成版.pkg\n",
      "58732 INFO: Building PKG (CArchive) 完成版.pkg completed successfully.\n",
      "58753 INFO: Bootloader C:\\Users\\mkuno5808\\AppData\\Local\\Programs\\Python\\Python311\\Lib\\site-packages\\PyInstaller\\bootloader\\Windows-64bit-intel\\run.exe\n",
      "58753 INFO: checking EXE\n",
      "58753 INFO: Building EXE because EXE-00.toc is non existent\n",
      "58753 INFO: Building EXE from EXE-00.toc\n",
      "58753 INFO: Copying bootloader EXE to C:\\Users\\mkuno5808\\Desktop\\基礎\\Udemy\\Python\\応用編\\３章\\dist\\完成版.exe.notanexecutable\n",
      "58815 INFO: Copying icon to EXE\n",
      "58819 INFO: Copying icons from ['C:\\\\Users\\\\mkuno5808\\\\AppData\\\\Local\\\\Programs\\\\Python\\\\Python311\\\\Lib\\\\site-packages\\\\PyInstaller\\\\bootloader\\\\images\\\\icon-console.ico']\n",
      "58846 INFO: Writing RT_GROUP_ICON 0 resource with 104 bytes\n",
      "58846 INFO: Writing RT_ICON 1 resource with 3752 bytes\n",
      "58846 INFO: Writing RT_ICON 2 resource with 2216 bytes\n",
      "58846 INFO: Writing RT_ICON 3 resource with 1384 bytes\n",
      "58846 INFO: Writing RT_ICON 4 resource with 37019 bytes\n",
      "58846 INFO: Writing RT_ICON 5 resource with 9640 bytes\n",
      "58846 INFO: Writing RT_ICON 6 resource with 4264 bytes\n",
      "58846 INFO: Writing RT_ICON 7 resource with 1128 bytes\n",
      "58852 INFO: Copying 0 resources to EXE\n",
      "58852 INFO: Embedding manifest in EXE\n",
      "58852 INFO: Updating manifest in C:\\Users\\mkuno5808\\Desktop\\基礎\\Udemy\\Python\\応用編\\３章\\dist\\完成版.exe.notanexecutable\n",
      "58876 INFO: Updating resource type 24 name 1 language 0\n",
      "58883 INFO: Appending PKG archive to EXE\n",
      "58938 INFO: Fixing EXE headers\n",
      "59328 INFO: Building EXE from EXE-00.toc completed successfully.\n"
     ]
    }
   ],
   "source": [
    "!pyinstaller 完成版.py --onefile"
   ]
  },
  {
   "cell_type": "code",
   "execution_count": null,
   "id": "2a2cfcda",
   "metadata": {},
   "outputs": [],
   "source": []
  }
 ],
 "metadata": {
  "kernelspec": {
   "display_name": "Python 3 (ipykernel)",
   "language": "python",
   "name": "python3"
  },
  "language_info": {
   "codemirror_mode": {
    "name": "ipython",
    "version": 3
   },
   "file_extension": ".py",
   "mimetype": "text/x-python",
   "name": "python",
   "nbconvert_exporter": "python",
   "pygments_lexer": "ipython3",
   "version": "3.11.0"
  }
 },
 "nbformat": 4,
 "nbformat_minor": 5
}
