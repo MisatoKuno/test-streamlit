{
 "cells": [
  {
   "cell_type": "markdown",
   "id": "1753d581",
   "metadata": {},
   "source": [
    "## *テーマ：計算機を作る*\n",
    "<br>\n",
    "<br>"
   ]
  },
  {
   "cell_type": "markdown",
   "id": "d89df3cb",
   "metadata": {},
   "source": [
    "**問１．  \n",
    "「2桁の自然数<四則演算記号>2桁の自然数」という計算式（例：12+34, 56-78, 90\\*12, 34/56など）がinputされた場合に、その計算結果をprintするプログラムを作成してください。ただし、「+, -, \\*, /」以外の不正な演算記号が使われている場合は\"error\"とprintするようにしてください。**"
   ]
  },
  {
   "cell_type": "code",
   "execution_count": null,
   "id": "18cef2d8",
   "metadata": {},
   "outputs": [],
   "source": [
    "#正しく入力されていなければ再入力を促す\n",
    "shiki=input(\"計算式を入力：\")\n",
    "\n",
    "while(len(shiki)!=5):\n",
    "    print(\"error:\\n(二桁の自然数)(演算記号)(二桁の自然数)の形式で入力してください。\")\n",
    "    shiki=input(\"計算式を入力：\")\n",
    "    \n",
    "bool_a=(int(shiki[:2])>=10 and int(shiki[:2])<=99 and int(shiki[3:])>=10 and int(shiki[3:])<=99)\n",
    "bool_b=(shiki[2]==\"+\" or shiki[2]==\"-\" or shiki[2]==\"*\" or shiki[2]==\"/\")\n",
    "\n",
    "while(bool_a==False or bool_b==False):\n",
    "    print(\"error:\\n(二桁の自然数)(演算記号)(二桁の自然数)の形式で入力してください。\")\n",
    "    shiki=input(\"計算式を入力：\")\n",
    "    bool_a=(int(shiki[:2])>=10 and int(shiki[:2])<=99 and int(shiki[3:])>=10 and int(shiki[3:])<=99)\n",
    "    bool_b=(shiki[2]==\"+\" or shiki[2]==\"-\" or shiki[2]==\"*\" or shiki[2]==\"/\")\n",
    "\n",
    "ans=eval(shiki)\n",
    "print(ans)"
   ]
  },
  {
   "cell_type": "code",
   "execution_count": null,
   "id": "aaee1ada",
   "metadata": {},
   "outputs": [],
   "source": [
    "#正しく入力されていなければ終了\n",
    "shiki=input(\"計算式を入力：\")\n",
    "\n",
    "if int(shiki[:2])>=10 and int(shiki[:2])<=99 and int(shiki[3:])>=10 and int(shiki[3:])<=99:\n",
    "    pass\n",
    "    if shiki[2]==\"+\" or shiki[2]==\"-\" or shiki[2]==\"*\" or shiki[2]==\"/\":\n",
    "        ans=eval(shiki)\n",
    "        print(ans)\n",
    "    else:\n",
    "        print(\"error:\\n(二桁の自然数)(演算記号)(二桁の自然数)の形式で入力してください。\")\n",
    "else:\n",
    "    print(\"error:\\n(二桁の自然数)(演算記号)(二桁の自然数)の形式で入力してください。\")\n"
   ]
  },
  {
   "cell_type": "markdown",
   "id": "11f061f7",
   "metadata": {},
   "source": [
    "**問２．  \n",
    "「自然数<四則演算記号>自然数」という計算式（例：123+4, 56-6789, 90000\\*12000, 4/5など）がinputされた場合に、その計算結果をprintするプログラムを作成してください。ただし、「+, -, \\*, /」以外の不正な演算記号が使われることは無いものとします。**"
   ]
  },
  {
   "cell_type": "code",
   "execution_count": null,
   "id": "34b60db9",
   "metadata": {},
   "outputs": [],
   "source": [
    "# 回答欄\n",
    "import re\n",
    "\n",
    "flag=0\n",
    "\n",
    "while(flag==0):\n",
    "    shiki=input(\"計算式を入力：\")\n",
    "    bool_c=(\"+\" in shiki or \"-\" in shiki or \"*\" in shiki or \"/\" in shiki)\n",
    "    if len(shiki)<3 or bool_c==False:\n",
    "        print(\"error:\\n(自然数)(演算記号)(自然数)の形式で入力してください。(エラー1)\")\n",
    "    else:       \n",
    "        shiki_sp=re.split(\"([+-/*])\",shiki)\n",
    "        num1=shiki_sp[0]\n",
    "        num2=shiki_sp[2]\n",
    "        mrk=shiki_sp[1]\n",
    "        if num1.isdecimal()==False or num2.isdecimal()==False or len(shiki_sp)!=3: #式の要素は３つで両端は数値で、どこか（＝真ん中）に演算記号が含まれる＝自然数＋符号＋自然数 \n",
    "            print(\"error:\\n(自然数)(演算記号)(自然数)の形式で入力してください。(エラー2)\")\n",
    "        else:\n",
    "            flag=1\n",
    "\n",
    "ans=eval(shiki)\n",
    "print(ans)\n"
   ]
  },
  {
   "cell_type": "markdown",
   "id": "5715fc50",
   "metadata": {},
   "source": [
    "**問３．  \n",
    "「自然数<四則演算記号>自然数<四則演算記号>自然数」という計算式（例：123+4-56, 56\\*6789+1234, 90+12/5, 12\\*40000/5など）がinputされた場合に、その計算結果をprintするプログラムを作成してください。ただし、「+, -, \\*, /」以外の不正な演算記号が使われることは無いものとします。**"
   ]
  },
  {
   "cell_type": "code",
   "execution_count": 4,
   "id": "949df18d",
   "metadata": {},
   "outputs": [
    {
     "name": "stdout",
     "output_type": "stream",
     "text": [
      "計算式を入力：90+12/5\n",
      "92.4\n"
     ]
    }
   ],
   "source": [
    "# 回答欄\n",
    "import re\n",
    "\n",
    "flag=0\n",
    "\n",
    "while(flag==0):\n",
    "    shiki=input(\"計算式を入力：\")\n",
    "    bool_c=(\"+\" in shiki or \"-\" in shiki or \"*\" in shiki or \"/\" in shiki)\n",
    "    if len(shiki)<5 or bool_c==False:\n",
    "        print(\"error:\\n「自然数<四則演算記号>自然数<四則演算記号>自然数」の形式で入力してください。(エラー1)\")\n",
    "    else:       \n",
    "        shiki_sp=re.split(\"([+-/*])\",shiki)\n",
    "        if len(shiki_sp)!=5:\n",
    "            print(\"error:\\n「自然数<四則演算記号>自然数<四則演算記号>自然数」の形式で入力してください。(エラー2)\")\n",
    "        else:\n",
    "            num1=shiki_sp[0]\n",
    "            num2=shiki_sp[2]\n",
    "            num3=shiki_sp[4]\n",
    "            mrk1=shiki_sp[1]\n",
    "            mrk2=shiki_sp[3]\n",
    "            if num1.isdecimal()==False or num2.isdecimal()==False or num3.isdecimal()==False: \n",
    "                print(\"error:\\n「自然数<四則演算記号>自然数<四則演算記号>自然数」の形式で入力してください。(エラー3)\")\n",
    "            else:\n",
    "                flag=1\n",
    "\n",
    "ans=eval(shiki)\n",
    "print(ans)\n"
   ]
  }
 ],
 "metadata": {
  "kernelspec": {
   "display_name": "Python 3 (ipykernel)",
   "language": "python",
   "name": "python3"
  },
  "language_info": {
   "codemirror_mode": {
    "name": "ipython",
    "version": 3
   },
   "file_extension": ".py",
   "mimetype": "text/x-python",
   "name": "python",
   "nbconvert_exporter": "python",
   "pygments_lexer": "ipython3",
   "version": "3.11.0"
  }
 },
 "nbformat": 4,
 "nbformat_minor": 5
}
