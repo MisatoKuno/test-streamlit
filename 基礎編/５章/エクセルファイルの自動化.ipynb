{
 "cells": [
  {
   "cell_type": "code",
   "execution_count": 1,
   "id": "0326ab6a",
   "metadata": {},
   "outputs": [
    {
     "name": "stdout",
     "output_type": "stream",
     "text": [
      "Collecting openpyxl\n",
      "  Downloading openpyxl-3.1.2-py2.py3-none-any.whl (249 kB)\n",
      "     -------------------------------------- 250.0/250.0 kB 3.9 MB/s eta 0:00:00\n",
      "Collecting et-xmlfile\n",
      "  Downloading et_xmlfile-1.1.0-py3-none-any.whl (4.7 kB)\n",
      "Installing collected packages: et-xmlfile, openpyxl\n",
      "Successfully installed et-xmlfile-1.1.0 openpyxl-3.1.2\n"
     ]
    },
    {
     "name": "stderr",
     "output_type": "stream",
     "text": [
      "\n",
      "[notice] A new release of pip available: 22.3 -> 23.1.2\n",
      "[notice] To update, run: python.exe -m pip install --upgrade pip\n"
     ]
    }
   ],
   "source": [
    "!pip install openpyxl"
   ]
  },
  {
   "cell_type": "code",
   "execution_count": 2,
   "id": "1eaf05b2",
   "metadata": {},
   "outputs": [],
   "source": [
    "import openpyxl"
   ]
  },
  {
   "cell_type": "code",
   "execution_count": 4,
   "id": "7bed0091",
   "metadata": {},
   "outputs": [],
   "source": [
    "wb=openpyxl.load_workbook(\"出社在宅集計表_人事部.xlsx\")"
   ]
  },
  {
   "cell_type": "code",
   "execution_count": 5,
   "id": "0c2814bc",
   "metadata": {},
   "outputs": [
    {
     "data": {
      "text/plain": [
       "<Worksheet \"4月\">"
      ]
     },
     "execution_count": 5,
     "metadata": {},
     "output_type": "execute_result"
    }
   ],
   "source": [
    "ws=wb[\"4月\"]\n",
    "ws"
   ]
  },
  {
   "cell_type": "code",
   "execution_count": 8,
   "id": "d4a68925",
   "metadata": {},
   "outputs": [],
   "source": [
    "ws.cell(row=5,column=5).value=1000\n",
    "wb.save(\"test.xlsx\")"
   ]
  },
  {
   "cell_type": "code",
   "execution_count": 9,
   "id": "079e5652",
   "metadata": {},
   "outputs": [],
   "source": [
    "wb.save(\"出社在宅集計表_人事部.xlsx\")"
   ]
  },
  {
   "cell_type": "code",
   "execution_count": 3,
   "id": "0f320751",
   "metadata": {},
   "outputs": [],
   "source": [
    "wb_matome=openpyxl.load_workbook(\"出社在宅集計表_まとめ.xlsx\")\n",
    "wb_jinji=openpyxl.load_workbook(\"出社在宅集計表_人事部.xlsx\")"
   ]
  },
  {
   "cell_type": "code",
   "execution_count": 29,
   "id": "833ed3fd",
   "metadata": {},
   "outputs": [],
   "source": [
    "ws_matome=wb_matome[\"4月\"]\n",
    "ws_jinji=wb_jinji[\"4月\"]"
   ]
  },
  {
   "cell_type": "code",
   "execution_count": 5,
   "id": "9ee98d7c",
   "metadata": {},
   "outputs": [],
   "source": [
    "ws_matome.cell(row=2,column=3).value=ws_jinji.cell(row=2,column=2).value"
   ]
  },
  {
   "cell_type": "code",
   "execution_count": 15,
   "id": "a098d7b2",
   "metadata": {},
   "outputs": [],
   "source": [
    "wb_matome.save(\"出社在宅集計表_まとめ2.xlsx\")"
   ]
  },
  {
   "cell_type": "code",
   "execution_count": 9,
   "id": "fddf7bc5",
   "metadata": {},
   "outputs": [],
   "source": [
    "for i in range(31):\n",
    "    ws_matome.cell(row=2,column=3+i).value=ws_jinji.cell(row=2,column=2+i).value"
   ]
  },
  {
   "cell_type": "code",
   "execution_count": 11,
   "id": "96f7512d",
   "metadata": {},
   "outputs": [
    {
     "data": {
      "text/plain": [
       "31"
      ]
     },
     "execution_count": 11,
     "metadata": {},
     "output_type": "execute_result"
    }
   ],
   "source": [
    "openpyxl.utils.column_index_from_string(\"AE\")"
   ]
  },
  {
   "cell_type": "code",
   "execution_count": 13,
   "id": "d0a7518e",
   "metadata": {},
   "outputs": [
    {
     "data": {
      "text/plain": [
       "'ALL'"
      ]
     },
     "execution_count": 13,
     "metadata": {},
     "output_type": "execute_result"
    }
   ],
   "source": [
    "openpyxl.utils.get_column_letter(1000)"
   ]
  },
  {
   "cell_type": "code",
   "execution_count": 14,
   "id": "c372a5b7",
   "metadata": {},
   "outputs": [],
   "source": [
    "for i in range(31):\n",
    "    ws_matome.cell(row=2,column=3+i).value=ws_jinji.cell(row=2,column=2+i).value\n",
    "    ws_matome.cell(row=3,column=3+i).value=ws_jinji.cell(row=3,column=2+i).value"
   ]
  },
  {
   "cell_type": "code",
   "execution_count": 60,
   "id": "715f344d",
   "metadata": {},
   "outputs": [],
   "source": [
    "wb_matome=openpyxl.load_workbook(\"出社在宅集計表_まとめ.xlsx\")\n",
    "list_dep=[\"人事部\",\"企画部\",\"営業部\"]\n",
    "list_month=[\"4月\",\"5月\",\"6月\"]\n",
    "\n",
    "for k,dep in enumerate(list_dep):\n",
    "    wb_dep=openpyxl.load_workbook(\"出社在宅集計表_{}.xlsx\".format(dep))\n",
    "        \n",
    "    for j in list_month:\n",
    "        ws_matome=wb_matome[j]\n",
    "        ws_dep=wb_dep[j]\n",
    "\n",
    "        for i in range(ws_dep.max_column-1):\n",
    "            ws_matome.cell(row=2+k*2,column=3+i).value=ws_dep.cell(row=2,column=2+i).value\n",
    "            ws_matome.cell(row=3+k*2,column=3+i).value=ws_dep.cell(row=3,column=2+i).value\n",
    "\n",
    "wb_matome.save(\"出社在宅集計表_まとめ2.xlsx\")"
   ]
  },
  {
   "cell_type": "code",
   "execution_count": 46,
   "id": "3f3f8d89",
   "metadata": {},
   "outputs": [
    {
     "name": "stdout",
     "output_type": "stream",
     "text": [
      "0 人事部\n",
      "1 企画部\n",
      "2 営業部\n"
     ]
    }
   ],
   "source": [
    "for i,j in enumerate(list_dep):\n",
    "    print(i,j)"
   ]
  },
  {
   "cell_type": "code",
   "execution_count": 64,
   "id": "3466f6e6",
   "metadata": {},
   "outputs": [],
   "source": [
    "wb_matome=openpyxl.load_workbook(\"出社在宅集計表_まとめ.xlsx\")\n",
    "list_dep=[\"人事部\",\"企画部\",\"営業部\"]\n",
    "list_month=[\"4月\",\"5月\",\"6月\"]\n",
    "\n",
    "for dep in list_dep:\n",
    "    wb_dep=openpyxl.load_workbook(\"出社在宅集計表_{}.xlsx\".format(dep))\n",
    "            \n",
    "    for ii in range(1,ws_matome.max_row+1):\n",
    "        if ws_matome.cell(row=ii,column=1).value==dep:\n",
    "            syussya_row=ii\n",
    "            zaitaku_row=ii+1\n",
    "            \n",
    "    for j in list_month:\n",
    "        ws_matome=wb_matome[j]\n",
    "        ws_dep=wb_dep[j]\n",
    "\n",
    "        for i in range(ws_dep.max_column-1):\n",
    "            ws_matome.cell(row=syussya_row,column=3+i).value=ws_dep.cell(row=2,column=2+i).value\n",
    "            ws_matome.cell(row=zaitaku_row,column=3+i).value=ws_dep.cell(row=3,column=2+i).value\n",
    "\n",
    "wb_matome.save(\"出社在宅集計表_まとめ2.xlsx\")"
   ]
  },
  {
   "cell_type": "code",
   "execution_count": null,
   "id": "6e96dcab",
   "metadata": {},
   "outputs": [],
   "source": []
  }
 ],
 "metadata": {
  "kernelspec": {
   "display_name": "Python 3 (ipykernel)",
   "language": "python",
   "name": "python3"
  },
  "language_info": {
   "codemirror_mode": {
    "name": "ipython",
    "version": 3
   },
   "file_extension": ".py",
   "mimetype": "text/x-python",
   "name": "python",
   "nbconvert_exporter": "python",
   "pygments_lexer": "ipython3",
   "version": "3.11.0"
  }
 },
 "nbformat": 4,
 "nbformat_minor": 5
}
