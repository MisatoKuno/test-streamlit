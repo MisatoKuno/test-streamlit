{
 "cells": [
  {
   "cell_type": "markdown",
   "id": "1753d581",
   "metadata": {},
   "source": [
    "## *テーマ：宝くじのシミュレーション*\n",
    "<br>"
   ]
  },
  {
   "cell_type": "markdown",
   "id": "d89df3cb",
   "metadata": {},
   "source": [
    "**問１．  \n",
    "以下のような仕様の宝くじを1枚ずつランダムに選んで購入していった場合に、何枚目で1等に当せんしたか、および当せんするまでに要した金額をprintするプログラムを作成してください。**\n",
    "- 宝くじは番号「100000」から番号「199999」まで1枚ずつの計10万枚\n",
    "- 1等の当せん番号は「123456」\n",
    "- 宝くじ1枚の金額は300円"
   ]
  },
  {
   "cell_type": "code",
   "execution_count": 12,
   "id": "18cef2d8",
   "metadata": {},
   "outputs": [
    {
     "name": "stdout",
     "output_type": "stream",
     "text": [
      "17157枚目で当選\n",
      "合計5,147,100円かかりました。\n"
     ]
    }
   ],
   "source": [
    "# 回答欄\n",
    "import random\n",
    "\n",
    "num_list=list(range(100000,200000))\n",
    "ticket_list=random.sample(num_list,len(num_list))\n",
    "\n",
    "i=ticket_list.index(123456)+1\n",
    "cost=\"{:,}\".format(300*i)\n",
    "\n",
    "print(\"{}枚目で当選\\n合計{}円かかりました。\".format(i,cost))"
   ]
  },
  {
   "cell_type": "markdown",
   "id": "11f061f7",
   "metadata": {},
   "source": [
    "**問２．  \n",
    "以下のような仕様の宝くじを1枚ずつランダムに選んで購入していった場合に、1等〜3等のいずれかに当せんするまでに要した金額、および何枚目で何等に当せんしたかをprintするプログラムを作成してください。**\n",
    "- 宝くじは番号「100000」から番号「199999」まで1枚ずつの計10万枚\n",
    "- 1等の当せん番号は「123456」\n",
    "- 2等の当せん番号は「上5桁が12222」のもの\n",
    "- 3等の当せん番号は「上4桁が1333」のもの\n",
    "- 宝くじ1枚の金額は300円"
   ]
  },
  {
   "cell_type": "code",
   "execution_count": 181,
   "id": "bace412b",
   "metadata": {},
   "outputs": [
    {
     "name": "stdout",
     "output_type": "stream",
     "text": [
      "2037枚目で3等に当選！\n",
      "合計611,100円かかりました。\n"
     ]
    }
   ],
   "source": [
    "# 回答欄\n",
    "import random\n",
    "\n",
    "num_list=list(range(100000,200000))\n",
    "ticket_list=random.sample(num_list,len(num_list))\n",
    "\n",
    "for k in range(len(ticket_list)):\n",
    "    ticket_list[k]=str(ticket_list[k])\n",
    "\n",
    "flag_2=0\n",
    "for i in range(len(ticket_list)):\n",
    "    if flag_2==1:\n",
    "        break\n",
    "    else:\n",
    "        if \"12222\" in ticket_list[i][0:5]:\n",
    "            idx_2=i+1\n",
    "            flag_2=1\n",
    "\n",
    "flag_3=0\n",
    "for j in range(len(ticket_list)):\n",
    "    if flag_3==1:\n",
    "        break\n",
    "    else:\n",
    "        if \"1333\" in ticket_list[j][0:4]:\n",
    "            idx_3=j+1\n",
    "            flag_3=1\n",
    "\n",
    "idx_1=ticket_list.index(\"123456\")+1\n",
    "\n",
    "List=[idx_1,idx_2,idx_3]\n",
    "i=min(List)\n",
    "\n",
    "if i==idx_1:\n",
    "    tou=1\n",
    "elif i==idx_2:\n",
    "    tou=2\n",
    "else:\n",
    "    tou=3\n",
    "    \n",
    "cost=\"{:,}\".format(300*i)\n",
    "\n",
    "print(\"{}枚目で{}等に当選！\\n合計{}円かかりました。\".format(i,tou,cost))\n"
   ]
  },
  {
   "cell_type": "code",
   "execution_count": 251,
   "id": "7eb4e02b",
   "metadata": {},
   "outputs": [
    {
     "name": "stdout",
     "output_type": "stream",
     "text": [
      "771枚目で2等に当選\n",
      "合計231,000円かかりました。\n"
     ]
    }
   ],
   "source": [
    "import random\n",
    "\n",
    "num_list=list(range(100000,200000))\n",
    "ticket_list=random.sample(num_list,len(num_list))\n",
    "\n",
    "for i in range(len(num_list)):\n",
    "    if ticket_list[i]==123456:\n",
    "        num=i+1\n",
    "        cost=\"{:,}\".format(300*i)\n",
    "        print(\"{}枚目で1等に当選\\n合計{}円かかりました。\".format(num,cost))\n",
    "        break\n",
    "    elif str(ticket_list[i])[:5]==\"12222\":\n",
    "        num=i+1\n",
    "        cost=\"{:,}\".format(300*i)\n",
    "        print(\"{}枚目で2等に当選\\n合計{}円かかりました。\".format(num,cost))\n",
    "        break\n",
    "    elif str(ticket_list[i])[:4]==\"1333\":\n",
    "        num=i+1\n",
    "        cost=\"{:,}\".format(300*i)\n",
    "        print(\"{}枚目で3等に当選\\n合計{}円かかりました。\".format(num,cost))\n",
    "        break\n"
   ]
  },
  {
   "cell_type": "code",
   "execution_count": null,
   "id": "6613b896",
   "metadata": {},
   "outputs": [],
   "source": []
  }
 ],
 "metadata": {
  "kernelspec": {
   "display_name": "Python 3 (ipykernel)",
   "language": "python",
   "name": "python3"
  },
  "language_info": {
   "codemirror_mode": {
    "name": "ipython",
    "version": 3
   },
   "file_extension": ".py",
   "mimetype": "text/x-python",
   "name": "python",
   "nbconvert_exporter": "python",
   "pygments_lexer": "ipython3",
   "version": "3.11.0"
  }
 },
 "nbformat": 4,
 "nbformat_minor": 5
}
