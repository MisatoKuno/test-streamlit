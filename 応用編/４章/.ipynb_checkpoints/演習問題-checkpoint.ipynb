{
 "cells": [
  {
   "cell_type": "code",
   "execution_count": 12,
   "id": "7822274a",
   "metadata": {},
   "outputs": [
    {
     "data": {
      "text/plain": [
       "'23/05/22,10:05:19'"
      ]
     },
     "execution_count": 12,
     "metadata": {},
     "output_type": "execute_result"
    }
   ],
   "source": [
    "from datetime import datetime\n",
    "now=datetime.now()\n",
    "now.strftime(\"%y/%m/%d,%H:%m:%S\")"
   ]
  },
  {
   "cell_type": "code",
   "execution_count": 71,
   "id": "e05c6168",
   "metadata": {},
   "outputs": [
    {
     "name": "stdout",
     "output_type": "stream",
     "text": [
      "処理が完了しました。\n"
     ]
    }
   ],
   "source": [
    "import tkinter as tk\n",
    "from datetime import datetime\n",
    "import openpyxl as xl\n",
    "from tkinter import ttk\n",
    "    \n",
    "wd=tk.Tk()\n",
    "wd.title=(\"出張旅費入力\")\n",
    "wd.geometry=(\"1000x800+100+100\")\n",
    "wd.attributes=(\"-topmost\",True)\n",
    "\n",
    "wb=xl.load_workbook(\"出張旅費精算.xlsx\")\n",
    "ws=wb[\"入力シート\"]\n",
    "\n",
    "def btn_fnct():\n",
    "    inpt_r=ws.max_row+1\n",
    "    ws.cell(row=inpt_r,column=1).value=mon_listbox.get(mon_listbox.curselection())\n",
    "    ws.cell(row=inpt_r,column=2).value=day_cmbbx.get()\n",
    "    ws.cell(row=inpt_r,column=3).value=ikisaki_inputbx.get()\n",
    "    if var.get()==1:\n",
    "        ws.cell(row=inpt_r,column=4).value=\"片道\"\n",
    "    elif var.get()==2:\n",
    "        ws.cell(row=inpt_r,column=4).value=\"往復\"\n",
    "    ws.cell(row=inpt_r,column=5).value=cost_inputbox.get()\n",
    "    now=datetime.now()\n",
    "    ws.cell(row=inpt_r,column=6).value=now.strftime(\"%Y/%m/%d,%H:%M:%S\")\n",
    "    today=now.strftime(\"%y%m%d\")\n",
    "    wb.save(\"出張旅費精算_{}.xlsx\".format(today))\n",
    "    print(\"処理が完了しました。\")\n",
    "\n",
    "#ラベル\n",
    "lb_mon=tk.Label(wd,text=\"月\")\n",
    "lb_mon.place(x=50,y=50)\n",
    "lb_day=tk.Label(wd,text=\"日\")\n",
    "lb_day.place(x=100,y=50)\n",
    "lb_des=tk.Label(wd,text=\"行先\")\n",
    "lb_des.place(x=200,y=50)\n",
    "lb_katamichi=tk.Label(wd,text=\"片道/往復\")\n",
    "lb_katamichi.place(x=300,y=50)\n",
    "lb_cost=tk.Label(wd,text=\"費用\")\n",
    "lb_cost.place(x=400,y=50)\n",
    "\n",
    "#入力欄\n",
    "mon_list=tuple(range(1,13))\n",
    "mon_list_var=tk.StringVar(value=mon_list)\n",
    "mon_listbox=tk.Listbox(wd,height=0,width=5,listvariable=mon_list_var,exportselection=False)\n",
    "mon_listbox.place(x=50,y=100)\n",
    "\n",
    "day_cmb=tuple(range(1,32))\n",
    "day_cmbbx=ttk.Combobox(wd,values=day_cmb,width=5,state=\"readonly\")\n",
    "day_cmbbx.place(x=100,y=100)\n",
    "\n",
    "ikisaki_inputbx=tk.Entry(wd,width=12)\n",
    "ikisaki_inputbx.place(x=200,y=100)\n",
    "\n",
    "var=tk.IntVar()\n",
    "katamichi_radiobtn_1=tk.Radiobutton(wd,text=\"片道\",value=1,variable=var)\n",
    "katamichi_radiobtn_1.place(x=300,y=100)\n",
    "katamichi_radiobtn_2=tk.Radiobutton(wd,text=\"往復\",value=2,variable=var)\n",
    "katamichi_radiobtn_2.place(x=300,y=120)\n",
    "\n",
    "cost_inputbox=tk.Entry(wd,width=10)\n",
    "cost_inputbox.place(x=400,y=100)\n",
    "\n",
    "#ボタン\n",
    "upd_btn=tk.Button(wd,text=\"OK\",width=5,height=1,command=btn_fnct)\n",
    "upd_btn.place(x=450,y=280)\n",
    "\n",
    "\n",
    "wd.mainloop()\n",
    "\n"
   ]
  },
  {
   "cell_type": "code",
   "execution_count": null,
   "id": "fd33e4be",
   "metadata": {},
   "outputs": [],
   "source": [
    "mon_list=list(range(1,13))\n",
    "mon_list_var=tk.StringVar(value=mon_list)\n",
    "mon_listbox=tk.Listbox(wd,height=0,width=5,listvariable=mon_list_var)\n",
    "mon_listbox.place(x=50,y=100)\n",
    "\n",
    "day_combo=list(range(1,32))\n",
    "day_combobox=ttk.Combobox(wd,values=day_combo,width=5,state=\"readonly\")\n",
    "day_combobox.place(x=100,y=100)"
   ]
  },
  {
   "cell_type": "code",
   "execution_count": 38,
   "id": "2a760938",
   "metadata": {},
   "outputs": [
    {
     "name": "stdout",
     "output_type": "stream",
     "text": [
      "Collecting customtkinter\n",
      "  Downloading customtkinter-5.1.3-py3-none-any.whl (295 kB)\n",
      "     -------------------------------------- 295.2/295.2 kB 2.3 MB/s eta 0:00:00\n",
      "Collecting darkdetect\n",
      "  Downloading darkdetect-0.8.0-py3-none-any.whl (9.0 kB)\n",
      "Installing collected packages: darkdetect, customtkinter\n",
      "Successfully installed customtkinter-5.1.3 darkdetect-0.8.0\n"
     ]
    },
    {
     "name": "stderr",
     "output_type": "stream",
     "text": [
      "\n",
      "[notice] A new release of pip available: 22.3 -> 23.1.2\n",
      "[notice] To update, run: python.exe -m pip install --upgrade pip\n"
     ]
    }
   ],
   "source": [
    "!pip install customtkinter"
   ]
  },
  {
   "cell_type": "code",
   "execution_count": null,
   "id": "c7ce5dd1",
   "metadata": {},
   "outputs": [],
   "source": []
  }
 ],
 "metadata": {
  "kernelspec": {
   "display_name": "Python 3 (ipykernel)",
   "language": "python",
   "name": "python3"
  },
  "language_info": {
   "codemirror_mode": {
    "name": "ipython",
    "version": 3
   },
   "file_extension": ".py",
   "mimetype": "text/x-python",
   "name": "python",
   "nbconvert_exporter": "python",
   "pygments_lexer": "ipython3",
   "version": "3.11.0"
  }
 },
 "nbformat": 4,
 "nbformat_minor": 5
}
