{
 "cells": [
  {
   "cell_type": "markdown",
   "id": "1753d581",
   "metadata": {},
   "source": [
    "## *テーマ：シーザー暗号の解読*"
   ]
  },
  {
   "cell_type": "markdown",
   "id": "33511cde",
   "metadata": {},
   "source": [
    "シーザー暗号とは、下記のような暗号です。（出典：Wikipedia）\n",
    "https://ja.wikipedia.org/wiki/%E3%82%B7%E3%83%BC%E3%82%B6%E3%83%BC%E6%9A%97%E5%8F%B7\n",
    "\n",
    "暗号化したい文字列の各文字を、指定した文字数分アルファベット順にシフトすることで暗号文を作成します。  \n",
    "\n",
    "例えば、\"右に5文字シフトのシーザー暗号\"で暗号化すると、`PYTHON`は`UDYMTS`となります。※シフトはローテーションされるため、Yの5つ右のアルファベットは「Y→Z→A→B→C→D」のDとなります。\n",
    "<br>\n",
    "<br>"
   ]
  },
  {
   "cell_type": "markdown",
   "id": "fb513dcf",
   "metadata": {},
   "source": [
    "**問１．  \n",
    "大文字アルファベットで書かれた英単語がinputされた際に、それを\"右に5文字シフトのシーザー暗号\"で暗号化した文字列をprintするプログラムを作成してください。**"
   ]
  },
  {
   "cell_type": "code",
   "execution_count": 34,
   "id": "8b6b9acf",
   "metadata": {},
   "outputs": [
    {
     "name": "stdout",
     "output_type": "stream",
     "text": [
      "英単語を入力：PYTHON\n",
      "UDYMTS\n"
     ]
    }
   ],
   "source": [
    "# 回答欄\n",
    "import string\n",
    "\n",
    "ALPHA_List=list(string.ascii_uppercase)\n",
    "ALPHA_List.append(\"A\")\n",
    "ALPHA_List.append(\"B\")\n",
    "ALPHA_List.append(\"C\")\n",
    "ALPHA_List.append(\"D\")\n",
    "ALPHA_List.append(\"E\")\n",
    "ALPHA=\"\".join(ALPHA_List)\n",
    "\n",
    "flag=0\n",
    "henkan_list=[]\n",
    "while(flag==0):\n",
    "    eng=input(\"英単語を入力：\")\n",
    "    if eng.isupper()==False:\n",
    "        print(\"全て大文字アルファベットで入力してください。\")\n",
    "    else:\n",
    "        flag=1\n",
    "\n",
    "ans=\"\"\n",
    "for i in range(len(eng)):\n",
    "    idx=ALPHA.find(eng[i])\n",
    "    ans=ans+ALPHA[idx+5]\n",
    "\n",
    "print(ans)"
   ]
  },
  {
   "cell_type": "markdown",
   "id": "11f061f7",
   "metadata": {},
   "source": [
    "**問２．  \n",
    "`SPXHTXZPX!DBTSTIDJVDOPXBPHJ!`は、あるローマ字表記の日本語が、右方向にある数だけシフトさせるシーザー暗号によって暗号化されたものです。\"暗号化する前の文字列\"と、\"用いられたシーザー暗号の鍵（＝右に何文字シフトで暗号化されていたのか）\"を調べてください。ただし、`!`は暗号化されないものとします。また、答えが分かりさえすればOKです（出力形式は問いません）。**"
   ]
  },
  {
   "cell_type": "code",
   "execution_count": 48,
   "id": "bace412b",
   "metadata": {},
   "outputs": [
    {
     "name": "stdout",
     "output_type": "stream",
     "text": [
      "右に1文字ずらしたもの↓\n",
      "TQYIUYAQY!ECUTUJEKWEPQYCQIK!\n",
      "====================================\n",
      "右に2文字ずらしたもの↓\n",
      "URZJVZBRZ!FDVUVKFLXFQRZDRJL!\n",
      "====================================\n",
      "右に3文字ずらしたもの↓\n",
      "VSAKWACSA!GEWVWLGMYGRSAESKM!\n",
      "====================================\n",
      "右に4文字ずらしたもの↓\n",
      "WTBLXBDTB!HFXWXMHNZHSTBFTLN!\n",
      "====================================\n",
      "右に5文字ずらしたもの↓\n",
      "XUCMYCEUC!IGYXYNIOAITUCGUMO!\n",
      "====================================\n",
      "右に6文字ずらしたもの↓\n",
      "YVDNZDFVD!JHZYZOJPBJUVDHVNP!\n",
      "====================================\n",
      "右に7文字ずらしたもの↓\n",
      "ZWEOAEGWE!KIAZAPKQCKVWEIWOQ!\n",
      "====================================\n",
      "右に8文字ずらしたもの↓\n",
      "AXFPBFHXF!LJBABQLRDLWXFJXPR!\n",
      "====================================\n",
      "右に9文字ずらしたもの↓\n",
      "BYGQCGIYG!MKCBCRMSEMXYGKYQS!\n",
      "====================================\n",
      "右に10文字ずらしたもの↓\n",
      "CZHRDHJZH!NLDCDSNTFNYZHLZRT!\n",
      "====================================\n",
      "右に11文字ずらしたもの↓\n",
      "DAISEIKAI!OMEDETOUGOZAIMASU!\n",
      "====================================\n",
      "右に12文字ずらしたもの↓\n",
      "EBJTFJLBJ!PNFEFUPVHPABJNBTV!\n",
      "====================================\n",
      "右に13文字ずらしたもの↓\n",
      "FCKUGKMCK!QOGFGVQWIQBCKOCUW!\n",
      "====================================\n",
      "右に14文字ずらしたもの↓\n",
      "GDLVHLNDL!RPHGHWRXJRCDLPDVX!\n",
      "====================================\n",
      "右に15文字ずらしたもの↓\n",
      "HEMWIMOEM!SQIHIXSYKSDEMQEWY!\n",
      "====================================\n",
      "右に16文字ずらしたもの↓\n",
      "IFNXJNPFN!TRJIJYTZLTEFNRFXZ!\n",
      "====================================\n",
      "右に17文字ずらしたもの↓\n",
      "JGOYKOQGO!USKJKZUAMUFGOSGYA!\n",
      "====================================\n",
      "右に18文字ずらしたもの↓\n",
      "KHPZLPRHP!VTLKLAVBNVGHPTHZB!\n",
      "====================================\n",
      "右に19文字ずらしたもの↓\n",
      "LIQAMQSIQ!WUMLMBWCOWHIQUIAC!\n",
      "====================================\n",
      "右に20文字ずらしたもの↓\n",
      "MJRBNRTJR!XVNMNCXDPXIJRVJBD!\n",
      "====================================\n",
      "右に21文字ずらしたもの↓\n",
      "NKSCOSUKS!YWONODYEQYJKSWKCE!\n",
      "====================================\n",
      "右に22文字ずらしたもの↓\n",
      "OLTDPTVLT!ZXPOPEZFRZKLTXLDF!\n",
      "====================================\n",
      "右に23文字ずらしたもの↓\n",
      "PMUEQUWMU!AYQPQFAGSALMUYMEG!\n",
      "====================================\n",
      "右に24文字ずらしたもの↓\n",
      "QNVFRVXNV!BZRQRGBHTBMNVZNFH!\n",
      "====================================\n",
      "右に25文字ずらしたもの↓\n",
      "ROWGSWYOW!CASRSHCIUCNOWAOGI!\n",
      "====================================\n",
      "右に26文字ずらしたもの↓\n",
      "SPXHTXZPX!DBTSTIDJVDOPXBPHJ!\n",
      "====================================\n",
      "['TQYIUYAQY!ECUTUJEKWEPQYCQIK!', 'URZJVZBRZ!FDVUVKFLXFQRZDRJL!', 'VSAKWACSA!GEWVWLGMYGRSAESKM!', 'WTBLXBDTB!HFXWXMHNZHSTBFTLN!', 'XUCMYCEUC!IGYXYNIOAITUCGUMO!', 'YVDNZDFVD!JHZYZOJPBJUVDHVNP!', 'ZWEOAEGWE!KIAZAPKQCKVWEIWOQ!', 'AXFPBFHXF!LJBABQLRDLWXFJXPR!', 'BYGQCGIYG!MKCBCRMSEMXYGKYQS!', 'CZHRDHJZH!NLDCDSNTFNYZHLZRT!', 'DAISEIKAI!OMEDETOUGOZAIMASU!', 'EBJTFJLBJ!PNFEFUPVHPABJNBTV!', 'FCKUGKMCK!QOGFGVQWIQBCKOCUW!', 'GDLVHLNDL!RPHGHWRXJRCDLPDVX!', 'HEMWIMOEM!SQIHIXSYKSDEMQEWY!', 'IFNXJNPFN!TRJIJYTZLTEFNRFXZ!', 'JGOYKOQGO!USKJKZUAMUFGOSGYA!', 'KHPZLPRHP!VTLKLAVBNVGHPTHZB!', 'LIQAMQSIQ!WUMLMBWCOWHIQUIAC!', 'MJRBNRTJR!XVNMNCXDPXIJRVJBD!', 'NKSCOSUKS!YWONODYEQYJKSWKCE!', 'OLTDPTVLT!ZXPOPEZFRZKLTXLDF!', 'PMUEQUWMU!AYQPQFAGSALMUYMEG!', 'QNVFRVXNV!BZRQRGBHTBMNVZNFH!', 'ROWGSWYOW!CASRSHCIUCNOWAOGI!', 'SPXHTXZPX!DBTSTIDJVDOPXBPHJ!']\n",
      "15\n"
     ]
    }
   ],
   "source": [
    "# 回答欄\n",
    "import string\n",
    "\n",
    "ALPHA_List=list(string.ascii_uppercase)\n",
    "ALP=\"\".join(ALPHA_List)\n",
    "ALPHA=ALP+ALP\n",
    "\n",
    "q_word=\"SPXHTXZPX!DBTSTIDJVDOPXBPHJ!\"\n",
    "henkango_list=[]\n",
    "\n",
    "for i in range(1,27):\n",
    "    henkan_list=[]\n",
    "    rslt=\"\"\n",
    "    for j in range(len(q_word)):\n",
    "        if q_word[j]==\"!\":\n",
    "            rslt=rslt+\"!\"\n",
    "        else:\n",
    "            idx=ALPHA.find(q_word[j])\n",
    "            rslt=rslt+ALPHA[idx+i]\n",
    "    henkango_list.append(rslt)\n",
    "    print(\"右に{}文字ずらしたもの↓\\n{}\\n====================================\".format(i,rslt))\n",
    "\n",
    "ans=26-(henkango_list.index(\"DAISEIKAI!OMEDETOUGOZAIMASU!\")+1)\n",
    "print(henkango_list)\n",
    "print(ans)"
   ]
  },
  {
   "cell_type": "code",
   "execution_count": 46,
   "id": "1935b28f",
   "metadata": {},
   "outputs": [
    {
     "data": {
      "text/plain": [
       "'ABCDEFGHIJKLMNOPQRSTUVWXYZABCDEFGHIJKLMNOPQRSTUVWXYZ'"
      ]
     },
     "execution_count": 46,
     "metadata": {},
     "output_type": "execute_result"
    }
   ],
   "source": [
    "import string\n",
    "\n",
    "ALPHA_List=list(string.ascii_uppercase)\n",
    "ALP=\"\".join(ALPHA_List)\n",
    "ALPHA=ALP+ALP\n",
    "ALPHA\n",
    "\n",
    "#右に1文字ずらしたら元の文章=右に27文字ずらしたら元の文章\n",
    "#右に1文字ずらしたら元の文章=左に25文字ずらしたら元の文章\n",
    "#元の文字\"ABC\"、ずらしたら\"EFG\"=右に４ずらす、結果を左に４ずらしたら元の文字になる、左に４ずらす＝右に22文字ずらす"
   ]
  }
 ],
 "metadata": {
  "kernelspec": {
   "display_name": "Python 3 (ipykernel)",
   "language": "python",
   "name": "python3"
  },
  "language_info": {
   "codemirror_mode": {
    "name": "ipython",
    "version": 3
   },
   "file_extension": ".py",
   "mimetype": "text/x-python",
   "name": "python",
   "nbconvert_exporter": "python",
   "pygments_lexer": "ipython3",
   "version": "3.11.0"
  }
 },
 "nbformat": 4,
 "nbformat_minor": 5
}
