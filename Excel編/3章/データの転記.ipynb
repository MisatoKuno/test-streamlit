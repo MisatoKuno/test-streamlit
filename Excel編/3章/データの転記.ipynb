{
 "cells": [
  {
   "cell_type": "markdown",
   "id": "872f65b8",
   "metadata": {},
   "source": [
    "▼とりあえず自分でやってみる"
   ]
  },
  {
   "cell_type": "code",
   "execution_count": 40,
   "id": "4b96d8a1",
   "metadata": {},
   "outputs": [],
   "source": [
    "from glob import glob\n",
    "import openpyxl\n",
    "from datetime import datetime\n",
    "import os\n",
    "\n",
    "last_row=0\n",
    "ver=0\n",
    "\n",
    "#同フォルダから「*.xlsx」のファイルを取得\n",
    "file_list=sorted(glob(r\"C:\\Users\\mkuno5808\\Desktop\\基礎\\Udemy\\Python\\Excel編\\請求書\\*.xlsx\"))\n",
    "\n",
    "#転記\n",
    "def oya_lastrow():\n",
    "    for i in reversed(range(1,ws_oya.max_row+1)):\n",
    "        if ws_oya.cell(i,1).value!=None:\n",
    "            last_row=i\n",
    "            break\n",
    "    return last_row\n",
    "\n",
    "oya_adrs=sorted(glob(r\"C:\\\\Users\\\\mkuno5808\\\\Desktop\\\\基礎\\\\Udemy\\\\Python\\\\Excel編\\\\請求リスト*.xlsx\"))[-1]\n",
    "wb_oya=px.load_workbook(oya_adrs)\n",
    "ws_oya=wb_oya.worksheets[0]\n",
    "\n",
    "for WB in file_list:\n",
    "    wb_ko=px.load_workbook(WB,data_only=True)\n",
    "    ws_ko=wb_ko.worksheets[0]\n",
    "    last_row=oya_lastrow()\n",
    "    ws_oya.cell(last_row+1,1).value=ws_ko.cell(3,14).value\n",
    "    ws_oya.cell(last_row+1,2).value=ws_ko.cell(3,1).value\n",
    "    ws_oya.cell(last_row+1,3).value=ws_ko.cell(15,4).value\n",
    "    ws_oya.cell(last_row+1,3).number_format=\"#,##0\"\n",
    "    ws_oya.cell(last_row+1,4).value=ws_ko.cell(4,14).value\n",
    "    ws_oya.cell(last_row+1,4).number_format=\"yyyy/m/d\"\n",
    "\n",
    "#今日の日付とバージョン名をつけて保存\n",
    "now=datetime.now()\n",
    "date=now.strftime(\"%y%m%d\")\n",
    "oya_file=os.path.basename(oya_adrs)\n",
    "start=oya_file.rfind(\"r\")+1\n",
    "end=oya_file.rfind(\".\")-1\n",
    "\n",
    "if \"請求リスト_\"+date in oya_file:\n",
    "    if \"ver\" in oya_file:\n",
    "        ver=int(oya_file[start:end+1])+1\n",
    "        wb_oya.save(\"請求リスト_{}_ver{}.xlsx\".format(date,ver))\n",
    "    else:\n",
    "        wb_oya.save(\"請求リスト_{}_ver2.xlsx\".format(date))\n",
    "else:\n",
    "    wb_oya.save(\"請求リスト_{}.xlsx\".format(date))"
   ]
  }
 ],
 "metadata": {
  "kernelspec": {
   "display_name": "Python 3 (ipykernel)",
   "language": "python",
   "name": "python3"
  },
  "language_info": {
   "codemirror_mode": {
    "name": "ipython",
    "version": 3
   },
   "file_extension": ".py",
   "mimetype": "text/x-python",
   "name": "python",
   "nbconvert_exporter": "python",
   "pygments_lexer": "ipython3",
   "version": "3.11.0"
  }
 },
 "nbformat": 4,
 "nbformat_minor": 5
}
