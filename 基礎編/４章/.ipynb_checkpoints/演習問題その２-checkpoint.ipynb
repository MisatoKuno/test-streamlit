{
 "cells": [
  {
   "cell_type": "markdown",
   "id": "b6f74565",
   "metadata": {},
   "source": [
    "#### 問１．input関数を使って正の整数を入力し、1からその入力した整数までを全て合計した数をprintするプログラムを作ってください。"
   ]
  },
  {
   "cell_type": "code",
   "execution_count": 9,
   "id": "365fd32e",
   "metadata": {},
   "outputs": [
    {
     "name": "stdout",
     "output_type": "stream",
     "text": [
      "右の値まで合計:10\n"
     ]
    }
   ],
   "source": [
    "x=input(\"右の値まで合計:\")"
   ]
  },
  {
   "cell_type": "code",
   "execution_count": 8,
   "id": "5f7d79fc",
   "metadata": {},
   "outputs": [
    {
     "name": "stdout",
     "output_type": "stream",
     "text": [
      "55\n"
     ]
    }
   ],
   "source": [
    "ans=0\n",
    "for i in range(1,int(x)+1):\n",
    "    ans=ans+i\n",
    "print(ans)"
   ]
  },
  {
   "cell_type": "markdown",
   "id": "ce49ec5e",
   "metadata": {},
   "source": [
    "#### 問２．input関数を使って身長(cm)と体重(kg)を入力し、BMI（=体重(kg)÷身長(m)÷身長(m)）と肥満度（BMI18.5未満：痩せ型、BMI18.5以上25未満：標準、BMI25以上：肥満）をprintするプログラムを作ってください。"
   ]
  },
  {
   "cell_type": "code",
   "execution_count": 14,
   "id": "c1ff6d34",
   "metadata": {},
   "outputs": [
    {
     "name": "stdout",
     "output_type": "stream",
     "text": [
      "身長:1.55\n"
     ]
    }
   ],
   "source": [
    "heights=input(\"身長:\")"
   ]
  },
  {
   "cell_type": "code",
   "execution_count": 12,
   "id": "a2d8a083",
   "metadata": {},
   "outputs": [
    {
     "name": "stdout",
     "output_type": "stream",
     "text": [
      "体重:45\n"
     ]
    }
   ],
   "source": [
    "weights=input(\"体重:\")"
   ]
  },
  {
   "cell_type": "code",
   "execution_count": 16,
   "id": "d8da3653",
   "metadata": {},
   "outputs": [
    {
     "name": "stdout",
     "output_type": "stream",
     "text": [
      "BMI:18.730489073881373/標準\n"
     ]
    }
   ],
   "source": [
    "BMI=float(weights)/float(heights)/float(heights)\n",
    "if BMI<18.5:\n",
    "    result=\"やせ型\"\n",
    "elif BMI<25:\n",
    "    result=\"標準\"\n",
    "else:\n",
    "    result=\"肥満\"\n",
    "print(\"BMI:{}/{}\".format(BMI,result))"
   ]
  },
  {
   "cell_type": "markdown",
   "id": "6f462014",
   "metadata": {},
   "source": [
    "#### 問３．input関数を使って「グー」「チョキ」「パー」のいずれかを入力し、相手にはランダムな手を出させて、相手の出した手と勝敗をそれぞれprintするじゃんけんプログラムを作ってください。"
   ]
  },
  {
   "cell_type": "code",
   "execution_count": 45,
   "id": "79c9a392",
   "metadata": {},
   "outputs": [
    {
     "name": "stdout",
     "output_type": "stream",
     "text": [
      "you:グー\n"
     ]
    }
   ],
   "source": [
    "import random\n",
    "\n",
    "def janken():\n",
    "    you=input(\"you:\")\n",
    "    if you==\"グー\" or you==\"チョキ\" or you==\"パー\":\n",
    "        return you\n",
    "    else:\n",
    "        print(\"「グー」「チョキ」「パー」のいずれかを入力してください。\")\n",
    "        return janken()\n",
    "\n",
    "you=janken()\n",
    "\n",
    "opp=random.choice((\"グー\",\"チョキ\",\"パー\"))\n",
    "\n",
    "if you==opp:\n",
    "    print(\"あいこです。次のあなたの手を入力してください。\")\n",
    "    return janken()\n",
    "elif you==\"グー\" and opp==\"パー\":\n",
    "    print(\"相手は{}を出しました。あなたの負けです。\".format(opp))\n",
    "elif you==\"チョキ\" and opp==\"グー\":\n",
    "    print(\"相手は{}を出しました。あなたの負けです。\".format(opp))\n",
    "elif you==\"パー\" and opp==\"チョキ\":\n",
    "    print(\"相手は{}を出しました。あなたの負けです。\".format(opp))\n",
    "else:\n",
    "    print(\"相手は{}を出しました。あなたの勝ちです。\".format(opp))\n"
   ]
  },
  {
   "cell_type": "markdown",
   "id": "de297f99",
   "metadata": {},
   "source": [
    "#### 問４．上記のじゃんけんプログラムを100回繰り返し実行してその勝率をprintしてください。　※あなたの手はグー・チョキ・パーいずれかで固定"
   ]
  },
  {
   "cell_type": "code",
   "execution_count": null,
   "id": "46db533b",
   "metadata": {},
   "outputs": [],
   "source": [
    "#回答欄\n"
   ]
  }
 ],
 "metadata": {
  "kernelspec": {
   "display_name": "Python 3 (ipykernel)",
   "language": "python",
   "name": "python3"
  },
  "language_info": {
   "codemirror_mode": {
    "name": "ipython",
    "version": 3
   },
   "file_extension": ".py",
   "mimetype": "text/x-python",
   "name": "python",
   "nbconvert_exporter": "python",
   "pygments_lexer": "ipython3",
   "version": "3.11.0"
  }
 },
 "nbformat": 4,
 "nbformat_minor": 5
}
