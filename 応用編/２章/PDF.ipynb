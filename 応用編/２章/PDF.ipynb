{
 "cells": [
  {
   "cell_type": "code",
   "execution_count": 1,
   "id": "79adf7a8",
   "metadata": {
    "scrolled": true
   },
   "outputs": [
    {
     "name": "stdout",
     "output_type": "stream",
     "text": [
      "Collecting PyPDF2==1.26.0\n",
      "  Downloading PyPDF2-1.26.0.tar.gz (77 kB)\n",
      "     ---------------------------------------- 77.6/77.6 kB 4.2 MB/s eta 0:00:00\n",
      "  Preparing metadata (setup.py): started\n",
      "  Preparing metadata (setup.py): finished with status 'done'\n",
      "Installing collected packages: PyPDF2\n",
      "  Running setup.py install for PyPDF2: started\n",
      "  Running setup.py install for PyPDF2: finished with status 'done'\n",
      "Successfully installed PyPDF2-1.26.0\n"
     ]
    },
    {
     "name": "stderr",
     "output_type": "stream",
     "text": [
      "  DEPRECATION: PyPDF2 is being installed using the legacy 'setup.py install' method, because it does not have a 'pyproject.toml' and the 'wheel' package is not installed. pip 23.1 will enforce this behaviour change. A possible replacement is to enable the '--use-pep517' option. Discussion can be found at https://github.com/pypa/pip/issues/8559\n",
      "\n",
      "[notice] A new release of pip available: 22.3 -> 23.1.2\n",
      "[notice] To update, run: python.exe -m pip install --upgrade pip\n"
     ]
    }
   ],
   "source": [
    "!pip install PyPDF2==1.26.0"
   ]
  },
  {
   "cell_type": "code",
   "execution_count": 2,
   "id": "17f5cc4e",
   "metadata": {},
   "outputs": [],
   "source": [
    "import PyPDF2"
   ]
  },
  {
   "cell_type": "code",
   "execution_count": 10,
   "id": "929f13c0",
   "metadata": {},
   "outputs": [
    {
     "data": {
      "text/plain": [
       "<PyPDF2.pdf.PdfFileReader at 0x2514101cf10>"
      ]
     },
     "execution_count": 10,
     "metadata": {},
     "output_type": "execute_result"
    }
   ],
   "source": [
    "file=open(\"コロナ対策.pdf\",\"rb\")\n",
    "reader=PyPDF2.PdfFileReader(file)\n",
    "reader"
   ]
  },
  {
   "cell_type": "code",
   "execution_count": 4,
   "id": "d67b649d",
   "metadata": {},
   "outputs": [
    {
     "data": {
      "text/plain": [
       "11"
      ]
     },
     "execution_count": 4,
     "metadata": {},
     "output_type": "execute_result"
    }
   ],
   "source": [
    "reader.numPages"
   ]
  },
  {
   "cell_type": "code",
   "execution_count": 5,
   "id": "5bab6664",
   "metadata": {},
   "outputs": [
    {
     "data": {
      "text/plain": [
       "{'/Contents': [IndirectObject(2652, 0),\n",
       "  IndirectObject(2654, 0),\n",
       "  IndirectObject(2655, 0),\n",
       "  IndirectObject(2657, 0),\n",
       "  IndirectObject(2658, 0),\n",
       "  IndirectObject(2659, 0),\n",
       "  IndirectObject(2660, 0),\n",
       "  IndirectObject(2662, 0)],\n",
       " '/CropBox': [0, 0, 540, 780],\n",
       " '/Group': {'/CS': '/DeviceRGB', '/S': '/Transparency', '/Type': '/Group'},\n",
       " '/MediaBox': [0, 0, 540, 780],\n",
       " '/Parent': {'/Count': 11,\n",
       "  '/Kids': [IndirectObject(2649, 0),\n",
       "   IndirectObject(1, 0),\n",
       "   IndirectObject(18, 0),\n",
       "   IndirectObject(33, 0),\n",
       "   IndirectObject(47, 0),\n",
       "   IndirectObject(60, 0),\n",
       "   IndirectObject(100, 0),\n",
       "   IndirectObject(125, 0),\n",
       "   IndirectObject(158, 0),\n",
       "   IndirectObject(176, 0),\n",
       "   IndirectObject(190, 0)],\n",
       "  '/Type': '/Pages'},\n",
       " '/Resources': {'/ExtGState': {'/GS23': {'/BM': '/Normal',\n",
       "    '/CA': 1,\n",
       "    '/Type': '/ExtGState'},\n",
       "   '/GS5': {'/BM': '/Normal', '/Type': '/ExtGState', '/ca': 1}},\n",
       "  '/Font': {'/F1': {'/BaseFont': '/BCDEEE+Meiryo-Bold',\n",
       "    '/DescendantFonts': [IndirectObject(2682, 0)],\n",
       "    '/Encoding': '/Identity-H',\n",
       "    '/Subtype': '/Type0',\n",
       "    '/ToUnicode': {'/Filter': '/FlateDecode'},\n",
       "    '/Type': '/Font'},\n",
       "   '/F2': {'/BaseFont': '/BCDFEE+Meiryo',\n",
       "    '/DescendantFonts': [IndirectObject(2688, 0)],\n",
       "    '/Encoding': '/Identity-H',\n",
       "    '/Subtype': '/Type0',\n",
       "    '/ToUnicode': {'/Filter': '/FlateDecode'},\n",
       "    '/Type': '/Font'},\n",
       "   '/F3': {'/BaseFont': '/BCDGEE+Wingdings-Regular',\n",
       "    '/DescendantFonts': [IndirectObject(2694, 0)],\n",
       "    '/Encoding': '/Identity-H',\n",
       "    '/Subtype': '/Type0',\n",
       "    '/ToUnicode': {'/Filter': '/FlateDecode'},\n",
       "    '/Type': '/Font'}},\n",
       "  '/Pattern': {'/P11': {'/Matrix': [474.34, 0, 0, 474.34, 270, 390],\n",
       "    '/PatternType': 2,\n",
       "    '/Shading': {'/ColorSpace': '/DeviceRGB',\n",
       "     '/Coords': [0, 0, 0, 0, 0, 1],\n",
       "     '/Extend': [<PyPDF2.generic.BooleanObject at 0x2514101d750>,\n",
       "      <PyPDF2.generic.BooleanObject at 0x2514101d7d0>],\n",
       "     '/Function': {'/Bounds': [0.23, 0.69, 0.97],\n",
       "      '/Domain': [0, 1],\n",
       "      '/Encode': [1, 0, 1, 0, 1, 0, 1, 0],\n",
       "      '/FunctionType': 3,\n",
       "      '/Functions': [IndirectObject(2697, 0),\n",
       "       IndirectObject(2698, 0),\n",
       "       IndirectObject(2699, 0),\n",
       "       IndirectObject(2700, 0)]},\n",
       "     '/ShadingType': 3}}},\n",
       "  '/ProcSet': ['/PDF', '/Text', '/ImageB', '/ImageC', '/ImageI'],\n",
       "  '/XObject': {'/Image12': {'/BitsPerComponent': 8,\n",
       "    '/ColorSpace': '/DeviceRGB',\n",
       "    '/Filter': '/FlateDecode',\n",
       "    '/Height': 947,\n",
       "    '/Interpolate': <PyPDF2.generic.BooleanObject at 0x2514101e8d0>,\n",
       "    '/SMask': {'/BitsPerComponent': 8,\n",
       "     '/ColorSpace': '/DeviceGray',\n",
       "     '/Filter': '/FlateDecode',\n",
       "     '/Height': 947,\n",
       "     '/Interpolate': <PyPDF2.generic.BooleanObject at 0x2514101f290>,\n",
       "     '/Matte': [0, 0, 0],\n",
       "     '/Subtype': '/Image',\n",
       "     '/Type': '/XObject',\n",
       "     '/Width': 756},\n",
       "    '/Subtype': '/Image',\n",
       "    '/Type': '/XObject',\n",
       "    '/Width': 756},\n",
       "   '/Image14': {'/BitsPerComponent': 8,\n",
       "    '/ColorSpace': '/DeviceRGB',\n",
       "    '/Filter': '/FlateDecode',\n",
       "    '/Height': 90,\n",
       "    '/Interpolate': <PyPDF2.generic.BooleanObject at 0x2514101fd50>,\n",
       "    '/SMask': {'/BitsPerComponent': 8,\n",
       "     '/ColorSpace': '/DeviceGray',\n",
       "     '/Filter': '/FlateDecode',\n",
       "     '/Height': 90,\n",
       "     '/Interpolate': <PyPDF2.generic.BooleanObject at 0x25141024290>,\n",
       "     '/Matte': [0, 0, 0],\n",
       "     '/Subtype': '/Image',\n",
       "     '/Type': '/XObject',\n",
       "     '/Width': 761},\n",
       "    '/Subtype': '/Image',\n",
       "    '/Type': '/XObject',\n",
       "    '/Width': 761},\n",
       "   '/Image16': {'/BitsPerComponent': 8,\n",
       "    '/ColorSpace': '/DeviceRGB',\n",
       "    '/Filter': '/FlateDecode',\n",
       "    '/Height': 148,\n",
       "    '/Interpolate': <PyPDF2.generic.BooleanObject at 0x2514101fbd0>,\n",
       "    '/SMask': {'/BitsPerComponent': 8,\n",
       "     '/ColorSpace': '/DeviceGray',\n",
       "     '/Filter': '/FlateDecode',\n",
       "     '/Height': 148,\n",
       "     '/Interpolate': <PyPDF2.generic.BooleanObject at 0x25141025290>,\n",
       "     '/Matte': [0, 0, 0],\n",
       "     '/Subtype': '/Image',\n",
       "     '/Type': '/XObject',\n",
       "     '/Width': 1507},\n",
       "    '/Subtype': '/Image',\n",
       "    '/Type': '/XObject',\n",
       "    '/Width': 1507},\n",
       "   '/Image24': {'/BitsPerComponent': 8,\n",
       "    '/ColorSpace': '/DeviceRGB',\n",
       "    '/Filter': '/FlateDecode',\n",
       "    '/Height': 67,\n",
       "    '/Interpolate': <PyPDF2.generic.BooleanObject at 0x25141025dd0>,\n",
       "    '/SMask': {'/BitsPerComponent': 8,\n",
       "     '/ColorSpace': '/DeviceGray',\n",
       "     '/Filter': '/FlateDecode',\n",
       "     '/Height': 67,\n",
       "     '/Interpolate': <PyPDF2.generic.BooleanObject at 0x251410262d0>,\n",
       "     '/Matte': [0, 0, 0],\n",
       "     '/Subtype': '/Image',\n",
       "     '/Type': '/XObject',\n",
       "     '/Width': 579},\n",
       "    '/Subtype': '/Image',\n",
       "    '/Type': '/XObject',\n",
       "    '/Width': 579},\n",
       "   '/Image36': {'/BitsPerComponent': 8,\n",
       "    '/ColorSpace': '/DeviceRGB',\n",
       "    '/Filter': '/FlateDecode',\n",
       "    '/Height': 118,\n",
       "    '/Interpolate': <PyPDF2.generic.BooleanObject at 0x25141026e10>,\n",
       "    '/SMask': {'/BitsPerComponent': 8,\n",
       "     '/ColorSpace': '/DeviceGray',\n",
       "     '/Filter': '/FlateDecode',\n",
       "     '/Height': 118,\n",
       "     '/Interpolate': <PyPDF2.generic.BooleanObject at 0x25141027310>,\n",
       "     '/Matte': [0, 0, 0],\n",
       "     '/Subtype': '/Image',\n",
       "     '/Type': '/XObject',\n",
       "     '/Width': 360},\n",
       "    '/Subtype': '/Image',\n",
       "    '/Type': '/XObject',\n",
       "    '/Width': 360}}},\n",
       " '/Rotate': 0,\n",
       " '/StructParents': 0,\n",
       " '/Tabs': '/S',\n",
       " '/Type': '/Page'}"
      ]
     },
     "execution_count": 5,
     "metadata": {},
     "output_type": "execute_result"
    }
   ],
   "source": [
    "reader.getPage(0)"
   ]
  },
  {
   "cell_type": "code",
   "execution_count": 13,
   "id": "75a0dbcd",
   "metadata": {},
   "outputs": [],
   "source": [
    "import PyPDF2\n",
    "\n",
    "file=open(\"コロナ対策.pdf\",\"rb\")\n",
    "reader=PyPDF2.PdfFileReader(file)\n",
    "\n",
    "for i in range(1,reader.numPages+1):\n",
    "    new_file=open(\"{}ページ目.pdf\".format(i),\"wb\")\n",
    "    writer=PyPDF2.PdfFileWriter()\n",
    "    writer.addPage(reader.getPage(i-1))\n",
    "    writer.write(new_file)\n",
    "    new_file.close()\n",
    "    \n",
    "file.close()"
   ]
  },
  {
   "cell_type": "code",
   "execution_count": 26,
   "id": "f3d0ae28",
   "metadata": {},
   "outputs": [],
   "source": [
    "from glob import glob\n",
    "import natsort\n",
    "import PyPDF2\n",
    "\n",
    "merger=PyPDF2.PdfFileMerger()\n",
    "\n",
    "files=glob(\"*ページ目.pdf\")\n",
    "files=natsort.natsorted(files)\n",
    "\n",
    "for i in files:\n",
    "    merger.append(i)\n",
    "    \n",
    "merge_file=open(\"マージ.pdf\",\"wb\")\n",
    "merger.write(merge_file)\n",
    "merge_file.close()\n"
   ]
  },
  {
   "cell_type": "code",
   "execution_count": 22,
   "id": "509dbe2f",
   "metadata": {},
   "outputs": [
    {
     "name": "stdout",
     "output_type": "stream",
     "text": [
      "Collecting natsort\n",
      "  Downloading natsort-8.3.1-py3-none-any.whl (38 kB)\n",
      "Installing collected packages: natsort\n",
      "Successfully installed natsort-8.3.1\n"
     ]
    },
    {
     "name": "stderr",
     "output_type": "stream",
     "text": [
      "\n",
      "[notice] A new release of pip available: 22.3 -> 23.1.2\n",
      "[notice] To update, run: python.exe -m pip install --upgrade pip\n"
     ]
    }
   ],
   "source": [
    "!pip install natsort"
   ]
  },
  {
   "cell_type": "code",
   "execution_count": 28,
   "id": "55bca2ec",
   "metadata": {},
   "outputs": [],
   "source": [
    "import PyPDF2\n",
    "\n",
    "file=open(\"コロナ対策.pdf\",\"rb\")\n",
    "reader=PyPDF2.PdfFileReader(file)\n",
    "\n",
    "new_file=open(\"1ページ目_回転.pdf\",\"wb\")\n",
    "writer=PyPDF2.PdfFileWriter()\n",
    "writer.addPage(reader.getPage(0).rotateClockwise(90))\n",
    "writer.write(new_file)\n",
    "new_file.close()\n",
    "    \n",
    "file.close()"
   ]
  },
  {
   "cell_type": "code",
   "execution_count": 29,
   "id": "3deecd07",
   "metadata": {},
   "outputs": [
    {
     "name": "stdout",
     "output_type": "stream",
     "text": [
      "Collecting pdfminer.six"
     ]
    },
    {
     "name": "stderr",
     "output_type": "stream",
     "text": [
      "\n",
      "[notice] A new release of pip available: 22.3 -> 23.1.2\n",
      "[notice] To update, run: python.exe -m pip install --upgrade pip\n"
     ]
    },
    {
     "name": "stdout",
     "output_type": "stream",
     "text": [
      "\n",
      "  Downloading pdfminer.six-20221105-py3-none-any.whl (5.6 MB)\n",
      "     ---------------------------------------- 5.6/5.6 MB 5.5 MB/s eta 0:00:00\n",
      "Requirement already satisfied: charset-normalizer>=2.0.0 in c:\\users\\mkuno5808\\appdata\\local\\programs\\python\\python311\\lib\\site-packages (from pdfminer.six) (3.1.0)\n",
      "Collecting cryptography>=36.0.0\n",
      "  Downloading cryptography-40.0.2-cp36-abi3-win_amd64.whl (2.6 MB)\n",
      "     ---------------------------------------- 2.6/2.6 MB 5.6 MB/s eta 0:00:00\n",
      "Requirement already satisfied: cffi>=1.12 in c:\\users\\mkuno5808\\appdata\\local\\programs\\python\\python311\\lib\\site-packages (from cryptography>=36.0.0->pdfminer.six) (1.15.1)\n",
      "Requirement already satisfied: pycparser in c:\\users\\mkuno5808\\appdata\\local\\programs\\python\\python311\\lib\\site-packages (from cffi>=1.12->cryptography>=36.0.0->pdfminer.six) (2.21)\n",
      "Installing collected packages: cryptography, pdfminer.six\n",
      "Successfully installed cryptography-40.0.2 pdfminer.six-20221105\n"
     ]
    }
   ],
   "source": [
    "!pip install pdfminer.six"
   ]
  },
  {
   "cell_type": "code",
   "execution_count": 30,
   "id": "53942d7f",
   "metadata": {},
   "outputs": [],
   "source": [
    "from pdfminer.high_level import extract_text"
   ]
  },
  {
   "cell_type": "code",
   "execution_count": 36,
   "id": "a0f0b3f6",
   "metadata": {},
   "outputs": [
    {
     "name": "stdout",
     "output_type": "stream",
     "text": [
      "５月８日以降も感染拡大に備え\n",
      "\n",
      "体調に異変を感じたら\n",
      "\n",
      "～自分で検査、すばやく療養、医療機関のかかり方は？～\n",
      "\n",
      "「新型コロナに感染したかも・・？」と思ったら？\n",
      "\n",
      "医療機関に行く前に\n",
      "\n",
      "・あわてずに、症状や常備薬をチェック\n",
      "・国が承認したキットを用いてチェック\n",
      "\n",
      "【陽性だった場合】\n",
      "\n",
      "症状が軽い場合は、自宅等で療養を開始しましょう\n",
      "\n",
      "【陰性だった場合】\n",
      "\n",
      "症状がある場合のマスク着用や、手洗い等の基本的な感染予防対策を継続しましょう\n",
      "\n",
      "• 重症化リスクの高い方（高齢者、基礎疾患を有する方、妊婦など）や、\n",
      "症状が重いなど受診を希望される方は、医療機関に連絡しましょう\n",
      "\n",
      "受診する際に、医療機関に連絡しましょう\n",
      "\n",
      "医療機関、薬局、高齢者施設等に行く時は、感染対策を行いましょう\n",
      "\n",
      "新型コロナウイルスは感染力が強いため\n",
      "高齢の方や、基礎疾患をお持ちの方を守るためにも\n",
      "マスクを着用しましょう\n",
      "\n",
      "発熱などの体調不良時にそなえて、準備しておきましょう\n",
      "\n",
      "・新型コロナ抗原定性キット※\n",
      "・解熱鎮痛薬\n",
      "\n",
      "かかりつけ薬剤師・薬局にお気軽にご相談ください\n",
      "\n",
      "※ 国が承認した「体外診断用医薬品」を選んでください\n",
      "\n",
      "市販の解熱鎮痛薬\n",
      "\n",
      "「研究用」は国が承認したものではありません\n",
      "\n",
      "・電話相談窓口などの連絡先\n",
      "\n",
      "受診・相談センターなどお住まいの地域の相談窓口、「救急車利用マニュアル」\n",
      "\n",
      "＃７１１９（救急要請相談）\n",
      "＃８０００（こども医療相談）など\n",
      "\n",
      "生活必需品なども用意しておきましょう\n",
      "（体温計・日持ちする食料など）\n",
      "\n",
      "受診・\n",
      "相談センター\n",
      "\n",
      "救急車利用\n",
      "マニュアル\n",
      "\n",
      "\f",
      "\n"
     ]
    }
   ],
   "source": [
    "text=extract_text(\"6ページ目.pdf\")\n",
    "print(text)"
   ]
  },
  {
   "cell_type": "code",
   "execution_count": 49,
   "id": "fdde6158",
   "metadata": {},
   "outputs": [],
   "source": [
    "start=text.find(\"国が承認した「\")+len(\"国が承認した「\")"
   ]
  },
  {
   "cell_type": "code",
   "execution_count": 50,
   "id": "4e72dc28",
   "metadata": {},
   "outputs": [
    {
     "data": {
      "text/plain": [
       "'体外診断用医薬品'"
      ]
     },
     "execution_count": 50,
     "metadata": {},
     "output_type": "execute_result"
    }
   ],
   "source": [
    "text[start:start+8]"
   ]
  },
  {
   "cell_type": "code",
   "execution_count": 61,
   "id": "cb9d8943",
   "metadata": {},
   "outputs": [
    {
     "data": {
      "text/plain": [
       "479"
      ]
     },
     "execution_count": 61,
     "metadata": {},
     "output_type": "execute_result"
    }
   ],
   "source": [
    "tgt=text.find(\"国が承認した\",150,500)+len(\"国が承認した\")\n",
    "tgt"
   ]
  },
  {
   "cell_type": "code",
   "execution_count": null,
   "id": "f38248c0",
   "metadata": {},
   "outputs": [],
   "source": []
  }
 ],
 "metadata": {
  "kernelspec": {
   "display_name": "Python 3 (ipykernel)",
   "language": "python",
   "name": "python3"
  },
  "language_info": {
   "codemirror_mode": {
    "name": "ipython",
    "version": 3
   },
   "file_extension": ".py",
   "mimetype": "text/x-python",
   "name": "python",
   "nbconvert_exporter": "python",
   "pygments_lexer": "ipython3",
   "version": "3.11.0"
  }
 },
 "nbformat": 4,
 "nbformat_minor": 5
}
