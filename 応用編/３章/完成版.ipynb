{
 "cells": [
  {
   "cell_type": "code",
   "execution_count": 8,
   "id": "574d9141",
   "metadata": {},
   "outputs": [
    {
     "name": "stdout",
     "output_type": "stream",
     "text": [
      "処理は終了しました。\n"
     ]
    }
   ],
   "source": [
    "import pyautogui\n",
    "import time\n",
    "import pyperclip\n",
    "pyautogui.hotkey(\"win\",\"d\")\n",
    "time.sleep(1)\n",
    "pyautogui.doubleClick(1502,1006)\n",
    "X,Y=pyautogui.locateCenterOnScreen(r\"C:\\Users\\mkuno5808\\Desktop\\MS\\icon.png\")\n",
    "pyautogui.doubleClick(X,Y)\n",
    "time.sleep(2)\n",
    "pyautogui.click(187,393)\n",
    "pyperclip.copy(\"テスト\")\n",
    "pyautogui.hotkey(\"ctrl\",\"v\")\n",
    "pyautogui.hotkey(\"ctrl\",\"s\")\n",
    "pyautogui.click(1896,30)\n",
    "print(\"処理は終了しました。\")"
   ]
  },
  {
   "cell_type": "code",
   "execution_count": null,
   "id": "cdff54d2",
   "metadata": {},
   "outputs": [],
   "source": []
  },
  {
   "cell_type": "code",
   "execution_count": null,
   "id": "2a0feefd",
   "metadata": {},
   "outputs": [],
   "source": []
  }
 ],
 "metadata": {
  "kernelspec": {
   "display_name": "Python 3 (ipykernel)",
   "language": "python",
   "name": "python3"
  },
  "language_info": {
   "codemirror_mode": {
    "name": "ipython",
    "version": 3
   },
   "file_extension": ".py",
   "mimetype": "text/x-python",
   "name": "python",
   "nbconvert_exporter": "python",
   "pygments_lexer": "ipython3",
   "version": "3.11.0"
  }
 },
 "nbformat": 4,
 "nbformat_minor": 5
}
