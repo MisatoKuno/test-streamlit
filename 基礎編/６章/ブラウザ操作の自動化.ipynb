{
 "cells": [
  {
   "cell_type": "code",
   "execution_count": 2,
   "id": "55af7bc8",
   "metadata": {},
   "outputs": [
    {
     "name": "stdout",
     "output_type": "stream",
     "text": [
      "Collecting selenium\n",
      "  Downloading selenium-4.9.1-py3-none-any.whl (6.6 MB)\n",
      "     ---------------------------------------- 6.6/6.6 MB 5.4 MB/s eta 0:00:00\n",
      "Collecting urllib3[socks]<3,>=1.26\n",
      "  Downloading urllib3-2.0.2-py3-none-any.whl (123 kB)\n",
      "     -------------------------------------- 123.2/123.2 kB 7.1 MB/s eta 0:00:00\n",
      "Collecting trio~=0.17\n",
      "  Downloading trio-0.22.0-py3-none-any.whl (384 kB)\n",
      "     -------------------------------------- 384.9/384.9 kB 5.9 MB/s eta 0:00:00\n",
      "Collecting trio-websocket~=0.9\n",
      "  Downloading trio_websocket-0.10.2-py3-none-any.whl (17 kB)\n",
      "Collecting certifi>=2021.10.8\n",
      "  Downloading certifi-2023.5.7-py3-none-any.whl (156 kB)\n",
      "     -------------------------------------- 157.0/157.0 kB 4.7 MB/s eta 0:00:00\n",
      "Requirement already satisfied: attrs>=19.2.0 in c:\\users\\mkuno5808\\appdata\\local\\programs\\python\\python311\\lib\\site-packages (from trio~=0.17->selenium) (23.1.0)\n",
      "Collecting sortedcontainers\n",
      "  Downloading sortedcontainers-2.4.0-py2.py3-none-any.whl (29 kB)\n",
      "Collecting async-generator>=1.9\n",
      "  Downloading async_generator-1.10-py3-none-any.whl (18 kB)\n",
      "Requirement already satisfied: idna in c:\\users\\mkuno5808\\appdata\\local\\programs\\python\\python311\\lib\\site-packages (from trio~=0.17->selenium) (3.4)\n",
      "Collecting outcome\n",
      "  Downloading outcome-1.2.0-py2.py3-none-any.whl (9.7 kB)\n",
      "Requirement already satisfied: sniffio in c:\\users\\mkuno5808\\appdata\\local\\programs\\python\\python311\\lib\\site-packages (from trio~=0.17->selenium) (1.3.0)\n",
      "Requirement already satisfied: cffi>=1.14 in c:\\users\\mkuno5808\\appdata\\local\\programs\\python\\python311\\lib\\site-packages (from trio~=0.17->selenium) (1.15.1)\n",
      "Collecting exceptiongroup\n",
      "  Downloading exceptiongroup-1.1.1-py3-none-any.whl (14 kB)\n",
      "Collecting wsproto>=0.14\n",
      "  Downloading wsproto-1.2.0-py3-none-any.whl (24 kB)\n",
      "Collecting pysocks!=1.5.7,<2.0,>=1.5.6\n",
      "  Downloading PySocks-1.7.1-py3-none-any.whl (16 kB)\n",
      "Requirement already satisfied: pycparser in c:\\users\\mkuno5808\\appdata\\local\\programs\\python\\python311\\lib\\site-packages (from cffi>=1.14->trio~=0.17->selenium) (2.21)\n",
      "Collecting h11<1,>=0.9.0\n",
      "  Using cached h11-0.14.0-py3-none-any.whl (58 kB)\n",
      "Installing collected packages: sortedcontainers, urllib3, pysocks, outcome, h11, exceptiongroup, certifi, async-generator, wsproto, trio, trio-websocket, selenium\n",
      "Successfully installed async-generator-1.10 certifi-2023.5.7 exceptiongroup-1.1.1 h11-0.14.0 outcome-1.2.0 pysocks-1.7.1 selenium-4.9.1 sortedcontainers-2.4.0 trio-0.22.0 trio-websocket-0.10.2 urllib3-2.0.2 wsproto-1.2.0\n"
     ]
    },
    {
     "name": "stderr",
     "output_type": "stream",
     "text": [
      "\n",
      "[notice] A new release of pip available: 22.3 -> 23.1.2\n",
      "[notice] To update, run: python.exe -m pip install --upgrade pip\n"
     ]
    }
   ],
   "source": [
    "!pip install selenium"
   ]
  },
  {
   "cell_type": "code",
   "execution_count": 5,
   "id": "b9abdfd7",
   "metadata": {},
   "outputs": [
    {
     "name": "stdout",
     "output_type": "stream",
     "text": [
      "Collecting webdriver_manager\n",
      "  Downloading webdriver_manager-3.8.6-py2.py3-none-any.whl (27 kB)\n",
      "Collecting requests\n",
      "  Downloading requests-2.30.0-py3-none-any.whl (62 kB)\n",
      "     ---------------------------------------- 62.5/62.5 kB 3.3 MB/s eta 0:00:00\n",
      "Collecting python-dotenv\n",
      "  Downloading python_dotenv-1.0.0-py3-none-any.whl (19 kB)\n",
      "Collecting tqdm\n",
      "  Downloading tqdm-4.65.0-py3-none-any.whl (77 kB)\n",
      "     ---------------------------------------- 77.1/77.1 kB 4.2 MB/s eta 0:00:00\n",
      "Requirement already satisfied: packaging in c:\\users\\mkuno5808\\appdata\\local\\programs\\python\\python311\\lib\\site-packages (from webdriver_manager) (23.1)\n",
      "Collecting charset-normalizer<4,>=2\n",
      "  Downloading charset_normalizer-3.1.0-cp311-cp311-win_amd64.whl (96 kB)\n",
      "     ---------------------------------------- 96.7/96.7 kB 5.8 MB/s eta 0:00:00\n",
      "Requirement already satisfied: idna<4,>=2.5 in c:\\users\\mkuno5808\\appdata\\local\\programs\\python\\python311\\lib\\site-packages (from requests->webdriver_manager) (3.4)\n",
      "Requirement already satisfied: urllib3<3,>=1.21.1 in c:\\users\\mkuno5808\\appdata\\local\\programs\\python\\python311\\lib\\site-packages (from requests->webdriver_manager) (2.0.2)\n",
      "Requirement already satisfied: certifi>=2017.4.17 in c:\\users\\mkuno5808\\appdata\\local\\programs\\python\\python311\\lib\\site-packages (from requests->webdriver_manager) (2023.5.7)\n",
      "Requirement already satisfied: colorama in c:\\users\\mkuno5808\\appdata\\local\\programs\\python\\python311\\lib\\site-packages (from tqdm->webdriver_manager) (0.4.6)\n",
      "Installing collected packages: tqdm, python-dotenv, charset-normalizer, requests, webdriver_manager\n",
      "Successfully installed charset-normalizer-3.1.0 python-dotenv-1.0.0 requests-2.30.0 tqdm-4.65.0 webdriver_manager-3.8.6\n"
     ]
    },
    {
     "name": "stderr",
     "output_type": "stream",
     "text": [
      "\n",
      "[notice] A new release of pip available: 22.3 -> 23.1.2\n",
      "[notice] To update, run: python.exe -m pip install --upgrade pip\n"
     ]
    }
   ],
   "source": [
    "!pip install webdriver_manager"
   ]
  },
  {
   "cell_type": "code",
   "execution_count": 9,
   "id": "16c1d323",
   "metadata": {},
   "outputs": [],
   "source": [
    "from selenium import webdriver"
   ]
  },
  {
   "cell_type": "code",
   "execution_count": 10,
   "id": "fc52caa3",
   "metadata": {},
   "outputs": [],
   "source": [
    "from webdriver_manager.chrome import ChromeDriverManager"
   ]
  },
  {
   "cell_type": "code",
   "execution_count": 4,
   "id": "c0f867b8",
   "metadata": {},
   "outputs": [
    {
     "name": "stderr",
     "output_type": "stream",
     "text": [
      "C:\\Users\\mkuno5808\\AppData\\Local\\Temp\\ipykernel_12232\\2439427479.py:1: DeprecationWarning: executable_path has been deprecated, please pass in a Service object\n",
      "  browser=webdriver.Chrome(\"chromedriver.exe\")\n"
     ]
    }
   ],
   "source": [
    "browser=webdriver.Chrome(\"chromedriver.exe\")"
   ]
  },
  {
   "cell_type": "code",
   "execution_count": 5,
   "id": "06871288",
   "metadata": {},
   "outputs": [],
   "source": [
    "browser.get(\"https://www.yahoo.co.jp/\")"
   ]
  },
  {
   "cell_type": "code",
   "execution_count": 15,
   "id": "4a376f00",
   "metadata": {},
   "outputs": [],
   "source": [
    "from selenium.webdriver.common.by import By"
   ]
  },
  {
   "cell_type": "code",
   "execution_count": 16,
   "id": "53cd3d74",
   "metadata": {},
   "outputs": [],
   "source": [
    "box=browser.find_element(By.NAME,\"p\")"
   ]
  },
  {
   "cell_type": "code",
   "execution_count": 17,
   "id": "a1e8c224",
   "metadata": {},
   "outputs": [],
   "source": [
    "box.send_keys(\"python\")"
   ]
  },
  {
   "cell_type": "code",
   "execution_count": 18,
   "id": "e390076d",
   "metadata": {},
   "outputs": [],
   "source": [
    "search=browser.find_element(By.XPATH,\"/html/body/div/div/header/section[1]/div/form/fieldset/span/button/span/span\")"
   ]
  },
  {
   "cell_type": "code",
   "execution_count": 19,
   "id": "97f8bf11",
   "metadata": {},
   "outputs": [],
   "source": [
    "search.click()"
   ]
  },
  {
   "cell_type": "code",
   "execution_count": 20,
   "id": "81ac20a4",
   "metadata": {},
   "outputs": [],
   "source": [
    "browser.close()"
   ]
  },
  {
   "cell_type": "code",
   "execution_count": 23,
   "id": "1a115bef",
   "metadata": {},
   "outputs": [
    {
     "name": "stderr",
     "output_type": "stream",
     "text": [
      "C:\\Users\\mkuno5808\\AppData\\Local\\Temp\\ipykernel_12232\\1066799868.py:4: DeprecationWarning: executable_path has been deprecated, please pass in a Service object\n",
      "  browser=webdriver.Chrome(\"chromedriver.exe\")\n"
     ]
    }
   ],
   "source": [
    "from selenium import webdriver\n",
    "from webdriver_manager.chrome import ChromeDriverManager\n",
    "\n",
    "browser=webdriver.Chrome(\"chromedriver.exe\")\n",
    "browser.get(\"https://www.mhlw.go.jp/stf/covid-19/open-data.html\")\n",
    "\n",
    "yousei=browser.find_element(By.XPATH,\"/html/body/div[1]/main/div[2]/div/div/div[2]/div/strong/span/a[1]\")\n",
    "yousei.click()\n",
    "\n",
    "browser.close()\n"
   ]
  },
  {
   "cell_type": "code",
   "execution_count": 38,
   "id": "13d6e068",
   "metadata": {},
   "outputs": [],
   "source": [
    "from glob import glob"
   ]
  },
  {
   "cell_type": "code",
   "execution_count": 47,
   "id": "9f950ef5",
   "metadata": {},
   "outputs": [
    {
     "data": {
      "text/plain": [
       "['C:\\\\Users\\\\mkuno5808\\\\Downloads\\\\gaiyoFigure8_4.csv',\n",
       " 'C:\\\\Users\\\\mkuno5808\\\\Downloads\\\\newly_confirmed_cases_daily (.csv',\n",
       " 'C:\\\\Users\\\\mkuno5808\\\\Downloads\\\\newly_confirmed_cases_daily (1).csv']"
      ]
     },
     "execution_count": 47,
     "metadata": {},
     "output_type": "execute_result"
    }
   ],
   "source": [
    "files=glob(r\"C:\\Users\\mkuno5808\\Downloads\\*.csv\")\n",
    "files"
   ]
  },
  {
   "cell_type": "code",
   "execution_count": 43,
   "id": "404110a0",
   "metadata": {},
   "outputs": [],
   "source": [
    "import os"
   ]
  },
  {
   "cell_type": "code",
   "execution_count": 48,
   "id": "6b2c1e70",
   "metadata": {},
   "outputs": [
    {
     "data": {
      "text/plain": [
       "['C:\\\\Users\\\\mkuno5808\\\\Downloads\\\\gaiyoFigure8_4.csv',\n",
       " 'C:\\\\Users\\\\mkuno5808\\\\Downloads\\\\newly_confirmed_cases_daily (1).csv',\n",
       " 'C:\\\\Users\\\\mkuno5808\\\\Downloads\\\\newly_confirmed_cases_daily (.csv']"
      ]
     },
     "execution_count": 48,
     "metadata": {},
     "output_type": "execute_result"
    }
   ],
   "source": [
    "sortedfiles=sorted(files,key=os.path.getmtime)\n",
    "sortedfiles"
   ]
  },
  {
   "cell_type": "code",
   "execution_count": 50,
   "id": "4f9a81bf",
   "metadata": {},
   "outputs": [
    {
     "data": {
      "text/plain": [
       "'C:\\\\Users\\\\mkuno5808\\\\Desktop\\\\基礎\\\\Udemy\\\\Python\\\\６章\\\\newly_confirmed_cases_daily (.csv'"
      ]
     },
     "execution_count": 50,
     "metadata": {},
     "output_type": "execute_result"
    }
   ],
   "source": [
    "import shutil\n",
    "shutil.move(sortedfiles[-1],r\"C:\\Users\\mkuno5808\\Desktop\\基礎\\Udemy\\Python\\６章\")"
   ]
  },
  {
   "cell_type": "code",
   "execution_count": 52,
   "id": "fea9efc0",
   "metadata": {},
   "outputs": [
    {
     "name": "stdout",
     "output_type": "stream",
     "text": [
      "Collecting pandas\n",
      "  Downloading pandas-2.0.1-cp311-cp311-win_amd64.whl (10.6 MB)\n",
      "     ---------------------------------------- 10.6/10.6 MB 5.5 MB/s eta 0:00:00\n",
      "Requirement already satisfied: python-dateutil>=2.8.2 in c:\\users\\mkuno5808\\appdata\\local\\programs\\python\\python311\\lib\\site-packages (from pandas) (2.8.2)\n",
      "Collecting pytz>=2020.1\n",
      "  Downloading pytz-2023.3-py2.py3-none-any.whl (502 kB)\n",
      "     -------------------------------------- 502.3/502.3 kB 6.3 MB/s eta 0:00:00\n",
      "Collecting tzdata>=2022.1\n",
      "  Downloading tzdata-2023.3-py2.py3-none-any.whl (341 kB)\n",
      "     -------------------------------------- 341.8/341.8 kB 5.3 MB/s eta 0:00:00\n",
      "Requirement already satisfied: numpy>=1.21.0 in c:\\users\\mkuno5808\\appdata\\local\\programs\\python\\python311\\lib\\site-packages (from pandas) (1.24.3)\n",
      "Requirement already satisfied: six>=1.5 in c:\\users\\mkuno5808\\appdata\\local\\programs\\python\\python311\\lib\\site-packages (from python-dateutil>=2.8.2->pandas) (1.16.0)\n",
      "Installing collected packages: pytz, tzdata, pandas\n",
      "Successfully installed pandas-2.0.1 pytz-2023.3 tzdata-2023.3\n"
     ]
    },
    {
     "name": "stderr",
     "output_type": "stream",
     "text": [
      "\n",
      "[notice] A new release of pip available: 22.3 -> 23.1.2\n",
      "[notice] To update, run: python.exe -m pip install --upgrade pip\n"
     ]
    }
   ],
   "source": [
    "!pip install pandas"
   ]
  },
  {
   "cell_type": "code",
   "execution_count": 53,
   "id": "4f5dddc4",
   "metadata": {},
   "outputs": [],
   "source": [
    "import pandas as pd"
   ]
  },
  {
   "cell_type": "code",
   "execution_count": 57,
   "id": "cbba90ab",
   "metadata": {
    "scrolled": true
   },
   "outputs": [
    {
     "data": {
      "text/html": [
       "<div>\n",
       "<style scoped>\n",
       "    .dataframe tbody tr th:only-of-type {\n",
       "        vertical-align: middle;\n",
       "    }\n",
       "\n",
       "    .dataframe tbody tr th {\n",
       "        vertical-align: top;\n",
       "    }\n",
       "\n",
       "    .dataframe thead th {\n",
       "        text-align: right;\n",
       "    }\n",
       "</style>\n",
       "<table border=\"1\" class=\"dataframe\">\n",
       "  <thead>\n",
       "    <tr style=\"text-align: right;\">\n",
       "      <th></th>\n",
       "      <th>Date</th>\n",
       "      <th>ALL</th>\n",
       "      <th>Hokkaido</th>\n",
       "      <th>Aomori</th>\n",
       "      <th>Iwate</th>\n",
       "      <th>Miyagi</th>\n",
       "      <th>Akita</th>\n",
       "      <th>Yamagata</th>\n",
       "      <th>Fukushima</th>\n",
       "      <th>Ibaraki</th>\n",
       "      <th>...</th>\n",
       "      <th>Ehime</th>\n",
       "      <th>Kochi</th>\n",
       "      <th>Fukuoka</th>\n",
       "      <th>Saga</th>\n",
       "      <th>Nagasaki</th>\n",
       "      <th>Kumamoto</th>\n",
       "      <th>Oita</th>\n",
       "      <th>Miyazaki</th>\n",
       "      <th>Kagoshima</th>\n",
       "      <th>Okinawa</th>\n",
       "    </tr>\n",
       "  </thead>\n",
       "  <tbody>\n",
       "    <tr>\n",
       "      <th>0</th>\n",
       "      <td>2020/1/16</td>\n",
       "      <td>1</td>\n",
       "      <td>0</td>\n",
       "      <td>0</td>\n",
       "      <td>0</td>\n",
       "      <td>0</td>\n",
       "      <td>0</td>\n",
       "      <td>0</td>\n",
       "      <td>0</td>\n",
       "      <td>0</td>\n",
       "      <td>...</td>\n",
       "      <td>0</td>\n",
       "      <td>0</td>\n",
       "      <td>0</td>\n",
       "      <td>0</td>\n",
       "      <td>0</td>\n",
       "      <td>0</td>\n",
       "      <td>0</td>\n",
       "      <td>0</td>\n",
       "      <td>0</td>\n",
       "      <td>0</td>\n",
       "    </tr>\n",
       "    <tr>\n",
       "      <th>1</th>\n",
       "      <td>2020/1/17</td>\n",
       "      <td>0</td>\n",
       "      <td>0</td>\n",
       "      <td>0</td>\n",
       "      <td>0</td>\n",
       "      <td>0</td>\n",
       "      <td>0</td>\n",
       "      <td>0</td>\n",
       "      <td>0</td>\n",
       "      <td>0</td>\n",
       "      <td>...</td>\n",
       "      <td>0</td>\n",
       "      <td>0</td>\n",
       "      <td>0</td>\n",
       "      <td>0</td>\n",
       "      <td>0</td>\n",
       "      <td>0</td>\n",
       "      <td>0</td>\n",
       "      <td>0</td>\n",
       "      <td>0</td>\n",
       "      <td>0</td>\n",
       "    </tr>\n",
       "    <tr>\n",
       "      <th>2</th>\n",
       "      <td>2020/1/18</td>\n",
       "      <td>0</td>\n",
       "      <td>0</td>\n",
       "      <td>0</td>\n",
       "      <td>0</td>\n",
       "      <td>0</td>\n",
       "      <td>0</td>\n",
       "      <td>0</td>\n",
       "      <td>0</td>\n",
       "      <td>0</td>\n",
       "      <td>...</td>\n",
       "      <td>0</td>\n",
       "      <td>0</td>\n",
       "      <td>0</td>\n",
       "      <td>0</td>\n",
       "      <td>0</td>\n",
       "      <td>0</td>\n",
       "      <td>0</td>\n",
       "      <td>0</td>\n",
       "      <td>0</td>\n",
       "      <td>0</td>\n",
       "    </tr>\n",
       "    <tr>\n",
       "      <th>3</th>\n",
       "      <td>2020/1/19</td>\n",
       "      <td>0</td>\n",
       "      <td>0</td>\n",
       "      <td>0</td>\n",
       "      <td>0</td>\n",
       "      <td>0</td>\n",
       "      <td>0</td>\n",
       "      <td>0</td>\n",
       "      <td>0</td>\n",
       "      <td>0</td>\n",
       "      <td>...</td>\n",
       "      <td>0</td>\n",
       "      <td>0</td>\n",
       "      <td>0</td>\n",
       "      <td>0</td>\n",
       "      <td>0</td>\n",
       "      <td>0</td>\n",
       "      <td>0</td>\n",
       "      <td>0</td>\n",
       "      <td>0</td>\n",
       "      <td>0</td>\n",
       "    </tr>\n",
       "    <tr>\n",
       "      <th>4</th>\n",
       "      <td>2020/1/20</td>\n",
       "      <td>0</td>\n",
       "      <td>0</td>\n",
       "      <td>0</td>\n",
       "      <td>0</td>\n",
       "      <td>0</td>\n",
       "      <td>0</td>\n",
       "      <td>0</td>\n",
       "      <td>0</td>\n",
       "      <td>0</td>\n",
       "      <td>...</td>\n",
       "      <td>0</td>\n",
       "      <td>0</td>\n",
       "      <td>0</td>\n",
       "      <td>0</td>\n",
       "      <td>0</td>\n",
       "      <td>0</td>\n",
       "      <td>0</td>\n",
       "      <td>0</td>\n",
       "      <td>0</td>\n",
       "      <td>0</td>\n",
       "    </tr>\n",
       "    <tr>\n",
       "      <th>...</th>\n",
       "      <td>...</td>\n",
       "      <td>...</td>\n",
       "      <td>...</td>\n",
       "      <td>...</td>\n",
       "      <td>...</td>\n",
       "      <td>...</td>\n",
       "      <td>...</td>\n",
       "      <td>...</td>\n",
       "      <td>...</td>\n",
       "      <td>...</td>\n",
       "      <td>...</td>\n",
       "      <td>...</td>\n",
       "      <td>...</td>\n",
       "      <td>...</td>\n",
       "      <td>...</td>\n",
       "      <td>...</td>\n",
       "      <td>...</td>\n",
       "      <td>...</td>\n",
       "      <td>...</td>\n",
       "      <td>...</td>\n",
       "      <td>...</td>\n",
       "    </tr>\n",
       "    <tr>\n",
       "      <th>1204</th>\n",
       "      <td>2023/5/4</td>\n",
       "      <td>7343</td>\n",
       "      <td>474</td>\n",
       "      <td>48</td>\n",
       "      <td>67</td>\n",
       "      <td>192</td>\n",
       "      <td>35</td>\n",
       "      <td>63</td>\n",
       "      <td>107</td>\n",
       "      <td>249</td>\n",
       "      <td>...</td>\n",
       "      <td>21</td>\n",
       "      <td>10</td>\n",
       "      <td>189</td>\n",
       "      <td>28</td>\n",
       "      <td>38</td>\n",
       "      <td>56</td>\n",
       "      <td>80</td>\n",
       "      <td>54</td>\n",
       "      <td>63</td>\n",
       "      <td>150</td>\n",
       "    </tr>\n",
       "    <tr>\n",
       "      <th>1205</th>\n",
       "      <td>2023/5/5</td>\n",
       "      <td>5807</td>\n",
       "      <td>354</td>\n",
       "      <td>74</td>\n",
       "      <td>89</td>\n",
       "      <td>105</td>\n",
       "      <td>36</td>\n",
       "      <td>56</td>\n",
       "      <td>74</td>\n",
       "      <td>76</td>\n",
       "      <td>...</td>\n",
       "      <td>65</td>\n",
       "      <td>18</td>\n",
       "      <td>207</td>\n",
       "      <td>19</td>\n",
       "      <td>48</td>\n",
       "      <td>70</td>\n",
       "      <td>60</td>\n",
       "      <td>26</td>\n",
       "      <td>68</td>\n",
       "      <td>169</td>\n",
       "    </tr>\n",
       "    <tr>\n",
       "      <th>1206</th>\n",
       "      <td>2023/5/6</td>\n",
       "      <td>6229</td>\n",
       "      <td>446</td>\n",
       "      <td>61</td>\n",
       "      <td>99</td>\n",
       "      <td>154</td>\n",
       "      <td>38</td>\n",
       "      <td>79</td>\n",
       "      <td>116</td>\n",
       "      <td>69</td>\n",
       "      <td>...</td>\n",
       "      <td>24</td>\n",
       "      <td>9</td>\n",
       "      <td>202</td>\n",
       "      <td>33</td>\n",
       "      <td>48</td>\n",
       "      <td>68</td>\n",
       "      <td>70</td>\n",
       "      <td>38</td>\n",
       "      <td>29</td>\n",
       "      <td>120</td>\n",
       "    </tr>\n",
       "    <tr>\n",
       "      <th>1207</th>\n",
       "      <td>2023/5/7</td>\n",
       "      <td>14436</td>\n",
       "      <td>658</td>\n",
       "      <td>127</td>\n",
       "      <td>148</td>\n",
       "      <td>293</td>\n",
       "      <td>133</td>\n",
       "      <td>117</td>\n",
       "      <td>188</td>\n",
       "      <td>106</td>\n",
       "      <td>...</td>\n",
       "      <td>105</td>\n",
       "      <td>40</td>\n",
       "      <td>687</td>\n",
       "      <td>87</td>\n",
       "      <td>114</td>\n",
       "      <td>133</td>\n",
       "      <td>121</td>\n",
       "      <td>95</td>\n",
       "      <td>168</td>\n",
       "      <td>249</td>\n",
       "    </tr>\n",
       "    <tr>\n",
       "      <th>1208</th>\n",
       "      <td>2023/5/8</td>\n",
       "      <td>9310</td>\n",
       "      <td>554</td>\n",
       "      <td>87</td>\n",
       "      <td>91</td>\n",
       "      <td>208</td>\n",
       "      <td>57</td>\n",
       "      <td>107</td>\n",
       "      <td>143</td>\n",
       "      <td>236</td>\n",
       "      <td>...</td>\n",
       "      <td>44</td>\n",
       "      <td>15</td>\n",
       "      <td>289</td>\n",
       "      <td>30</td>\n",
       "      <td>27</td>\n",
       "      <td>72</td>\n",
       "      <td>107</td>\n",
       "      <td>47</td>\n",
       "      <td>86</td>\n",
       "      <td>147</td>\n",
       "    </tr>\n",
       "  </tbody>\n",
       "</table>\n",
       "<p>1209 rows × 49 columns</p>\n",
       "</div>"
      ],
      "text/plain": [
       "           Date    ALL  Hokkaido  Aomori  Iwate  Miyagi  Akita  Yamagata   \n",
       "0     2020/1/16      1         0       0      0       0      0         0  \\\n",
       "1     2020/1/17      0         0       0      0       0      0         0   \n",
       "2     2020/1/18      0         0       0      0       0      0         0   \n",
       "3     2020/1/19      0         0       0      0       0      0         0   \n",
       "4     2020/1/20      0         0       0      0       0      0         0   \n",
       "...         ...    ...       ...     ...    ...     ...    ...       ...   \n",
       "1204   2023/5/4   7343       474      48     67     192     35        63   \n",
       "1205   2023/5/5   5807       354      74     89     105     36        56   \n",
       "1206   2023/5/6   6229       446      61     99     154     38        79   \n",
       "1207   2023/5/7  14436       658     127    148     293    133       117   \n",
       "1208   2023/5/8   9310       554      87     91     208     57       107   \n",
       "\n",
       "      Fukushima  Ibaraki  ...  Ehime  Kochi  Fukuoka  Saga  Nagasaki   \n",
       "0             0        0  ...      0      0        0     0         0  \\\n",
       "1             0        0  ...      0      0        0     0         0   \n",
       "2             0        0  ...      0      0        0     0         0   \n",
       "3             0        0  ...      0      0        0     0         0   \n",
       "4             0        0  ...      0      0        0     0         0   \n",
       "...         ...      ...  ...    ...    ...      ...   ...       ...   \n",
       "1204        107      249  ...     21     10      189    28        38   \n",
       "1205         74       76  ...     65     18      207    19        48   \n",
       "1206        116       69  ...     24      9      202    33        48   \n",
       "1207        188      106  ...    105     40      687    87       114   \n",
       "1208        143      236  ...     44     15      289    30        27   \n",
       "\n",
       "      Kumamoto  Oita  Miyazaki  Kagoshima  Okinawa  \n",
       "0            0     0         0          0        0  \n",
       "1            0     0         0          0        0  \n",
       "2            0     0         0          0        0  \n",
       "3            0     0         0          0        0  \n",
       "4            0     0         0          0        0  \n",
       "...        ...   ...       ...        ...      ...  \n",
       "1204        56    80        54         63      150  \n",
       "1205        70    60        26         68      169  \n",
       "1206        68    70        38         29      120  \n",
       "1207       133   121        95        168      249  \n",
       "1208        72   107        47         86      147  \n",
       "\n",
       "[1209 rows x 49 columns]"
      ]
     },
     "execution_count": 57,
     "metadata": {},
     "output_type": "execute_result"
    }
   ],
   "source": [
    "df=pd.read_csv(r\"C:\\Users\\mkuno5808\\Desktop\\基礎\\Udemy\\Python\\６章\\newly_confirmed_cases_daily.csv\")\n",
    "df"
   ]
  },
  {
   "cell_type": "code",
   "execution_count": 59,
   "id": "126a7bdc",
   "metadata": {},
   "outputs": [
    {
     "data": {
      "text/plain": [
       "33537123"
      ]
     },
     "execution_count": 59,
     "metadata": {},
     "output_type": "execute_result"
    }
   ],
   "source": [
    "df[\"ALL\"].sum()"
   ]
  },
  {
   "cell_type": "code",
   "execution_count": 60,
   "id": "f4b57cd0",
   "metadata": {},
   "outputs": [
    {
     "data": {
      "text/plain": [
       "27739.55583126551"
      ]
     },
     "execution_count": 60,
     "metadata": {},
     "output_type": "execute_result"
    }
   ],
   "source": [
    "df[\"ALL\"].mean()"
   ]
  },
  {
   "cell_type": "code",
   "execution_count": 61,
   "id": "4459cec0",
   "metadata": {},
   "outputs": [
    {
     "data": {
      "text/plain": [
       "261004"
      ]
     },
     "execution_count": 61,
     "metadata": {},
     "output_type": "execute_result"
    }
   ],
   "source": [
    "df[\"ALL\"].max()"
   ]
  },
  {
   "cell_type": "code",
   "execution_count": 62,
   "id": "d89fa5c7",
   "metadata": {},
   "outputs": [
    {
     "data": {
      "text/plain": [
       "946"
      ]
     },
     "execution_count": 62,
     "metadata": {},
     "output_type": "execute_result"
    }
   ],
   "source": [
    "df[\"ALL\"].idxmax()"
   ]
  },
  {
   "cell_type": "code",
   "execution_count": 63,
   "id": "36f25102",
   "metadata": {},
   "outputs": [
    {
     "data": {
      "text/plain": [
       "'2022/8/19'"
      ]
     },
     "execution_count": 63,
     "metadata": {},
     "output_type": "execute_result"
    }
   ],
   "source": [
    "df.iloc[946,0]"
   ]
  },
  {
   "cell_type": "code",
   "execution_count": 65,
   "id": "ee5ceed2",
   "metadata": {
    "scrolled": true
   },
   "outputs": [
    {
     "data": {
      "text/plain": [
       "<BarContainer object of 1209 artists>"
      ]
     },
     "execution_count": 65,
     "metadata": {},
     "output_type": "execute_result"
    },
    {
     "data": {
      "image/png": "[encoded data removed]",
      "text/plain": [
       "<Figure size 640x480 with 1 Axes>"
      ]
     },
     "metadata": {},
     "output_type": "display_data"
    }
   ],
   "source": [
    "import matplotlib.pyplot as plt\n",
    "%matplotlib inline\n",
    "\n",
    "plt.bar(df.index,df[\"ALL\"])"
   ]
  },
  {
   "cell_type": "code",
   "execution_count": 8,
   "id": "da537635",
   "metadata": {},
   "outputs": [
    {
     "name": "stderr",
     "output_type": "stream",
     "text": [
      "C:\\Users\\mkuno5808\\AppData\\Local\\Temp\\ipykernel_15124\\3604287477.py:5: DeprecationWarning: executable_path has been deprecated, please pass in a Service object\n",
      "  brws=webdriver.Chrome(\"chromedriver.exe\")\n"
     ]
    },
    {
     "ename": "NoSuchElementException",
     "evalue": "Message: no such element: Unable to locate element: {\"method\":\"xpath\",\"selector\":\"/html/body/div[1]/div[1]/div/div/main/div/div[2]/div/div/section/div/div[3]/div/div/div/div/div[4]/div[2]/div/ul/li[14]/div/div[2]/div[2]/div[2]/div/button\"}\n  (Session info: chrome=113.0.5672.127)\nStacktrace:\nBacktrace:\n\tGetHandleVerifier [0x00FC8893+48451]\n\t(No symbol) [0x00F5B8A1]\n\t(No symbol) [0x00E65058]\n\t(No symbol) [0x00E90467]\n\t(No symbol) [0x00E9069B]\n\t(No symbol) [0x00EBDD92]\n\t(No symbol) [0x00EAA304]\n\t(No symbol) [0x00EBC482]\n\t(No symbol) [0x00EAA0B6]\n\t(No symbol) [0x00E87E08]\n\t(No symbol) [0x00E88F2D]\n\tGetHandleVerifier [0x01228E3A+2540266]\n\tGetHandleVerifier [0x01268959+2801161]\n\tGetHandleVerifier [0x0126295C+2776588]\n\tGetHandleVerifier [0x01052280+612144]\n\t(No symbol) [0x00F64F6C]\n\t(No symbol) [0x00F611D8]\n\t(No symbol) [0x00F612BB]\n\t(No symbol) [0x00F54857]\n\tBaseThreadInitThunk [0x760C7D59+25]\n\tRtlInitializeExceptionChain [0x7733B74B+107]\n\tRtlClearBits [0x7733B6CF+191]\n",
     "output_type": "error",
     "traceback": [
      "\u001b[1;31m---------------------------------------------------------------------------\u001b[0m",
      "\u001b[1;31mNoSuchElementException\u001b[0m                    Traceback (most recent call last)",
      "Cell \u001b[1;32mIn[8], line 8\u001b[0m\n\u001b[0;32m      5\u001b[0m brws\u001b[38;5;241m=\u001b[39mwebdriver\u001b[38;5;241m.\u001b[39mChrome(\u001b[38;5;124m\"\u001b[39m\u001b[38;5;124mchromedriver.exe\u001b[39m\u001b[38;5;124m\"\u001b[39m)\n\u001b[0;32m      6\u001b[0m brws\u001b[38;5;241m.\u001b[39mget(\u001b[38;5;124m\"\u001b[39m\u001b[38;5;124mhttps://baycurrentjp.udemy.com/course/python-kaizen/learn/lecture/27510962#overview\u001b[39m\u001b[38;5;124m\"\u001b[39m)\n\u001b[1;32m----> 8\u001b[0m ensyu2\u001b[38;5;241m=\u001b[39m\u001b[43mbrws\u001b[49m\u001b[38;5;241;43m.\u001b[39;49m\u001b[43mfind_element\u001b[49m\u001b[43m(\u001b[49m\u001b[43mBy\u001b[49m\u001b[38;5;241;43m.\u001b[39;49m\u001b[43mXPATH\u001b[49m\u001b[43m,\u001b[49m\u001b[38;5;124;43m\"\u001b[39;49m\u001b[38;5;124;43m/html/body/div[1]/div[1]/div/div/main/div/div[2]/div/div/section/div/div[3]/div/div/div/div/div[4]/div[2]/div/ul/li[14]/div/div[2]/div[2]/div[2]/div/button\u001b[39;49m\u001b[38;5;124;43m\"\u001b[39;49m\u001b[43m)\u001b[49m\n\u001b[0;32m      9\u001b[0m ensyu\u001b[38;5;241m.\u001b[39mclick()\n\u001b[0;32m     11\u001b[0m brws\u001b[38;5;241m.\u001b[39mclose()\n",
      "File \u001b[1;32m~\\AppData\\Local\\Programs\\Python\\Python311\\Lib\\site-packages\\selenium\\webdriver\\remote\\webdriver.py:831\u001b[0m, in \u001b[0;36mWebDriver.find_element\u001b[1;34m(self, by, value)\u001b[0m\n\u001b[0;32m    828\u001b[0m     by \u001b[38;5;241m=\u001b[39m By\u001b[38;5;241m.\u001b[39mCSS_SELECTOR\n\u001b[0;32m    829\u001b[0m     value \u001b[38;5;241m=\u001b[39m \u001b[38;5;124mf\u001b[39m\u001b[38;5;124m'\u001b[39m\u001b[38;5;124m[name=\u001b[39m\u001b[38;5;124m\"\u001b[39m\u001b[38;5;132;01m{\u001b[39;00mvalue\u001b[38;5;132;01m}\u001b[39;00m\u001b[38;5;124m\"\u001b[39m\u001b[38;5;124m]\u001b[39m\u001b[38;5;124m'\u001b[39m\n\u001b[1;32m--> 831\u001b[0m \u001b[38;5;28;01mreturn\u001b[39;00m \u001b[38;5;28;43mself\u001b[39;49m\u001b[38;5;241;43m.\u001b[39;49m\u001b[43mexecute\u001b[49m\u001b[43m(\u001b[49m\u001b[43mCommand\u001b[49m\u001b[38;5;241;43m.\u001b[39;49m\u001b[43mFIND_ELEMENT\u001b[49m\u001b[43m,\u001b[49m\u001b[43m \u001b[49m\u001b[43m{\u001b[49m\u001b[38;5;124;43m\"\u001b[39;49m\u001b[38;5;124;43musing\u001b[39;49m\u001b[38;5;124;43m\"\u001b[39;49m\u001b[43m:\u001b[49m\u001b[43m \u001b[49m\u001b[43mby\u001b[49m\u001b[43m,\u001b[49m\u001b[43m \u001b[49m\u001b[38;5;124;43m\"\u001b[39;49m\u001b[38;5;124;43mvalue\u001b[39;49m\u001b[38;5;124;43m\"\u001b[39;49m\u001b[43m:\u001b[49m\u001b[43m \u001b[49m\u001b[43mvalue\u001b[49m\u001b[43m}\u001b[49m\u001b[43m)\u001b[49m[\u001b[38;5;124m\"\u001b[39m\u001b[38;5;124mvalue\u001b[39m\u001b[38;5;124m\"\u001b[39m]\n",
      "File \u001b[1;32m~\\AppData\\Local\\Programs\\Python\\Python311\\Lib\\site-packages\\selenium\\webdriver\\remote\\webdriver.py:440\u001b[0m, in \u001b[0;36mWebDriver.execute\u001b[1;34m(self, driver_command, params)\u001b[0m\n\u001b[0;32m    438\u001b[0m response \u001b[38;5;241m=\u001b[39m \u001b[38;5;28mself\u001b[39m\u001b[38;5;241m.\u001b[39mcommand_executor\u001b[38;5;241m.\u001b[39mexecute(driver_command, params)\n\u001b[0;32m    439\u001b[0m \u001b[38;5;28;01mif\u001b[39;00m response:\n\u001b[1;32m--> 440\u001b[0m     \u001b[38;5;28;43mself\u001b[39;49m\u001b[38;5;241;43m.\u001b[39;49m\u001b[43merror_handler\u001b[49m\u001b[38;5;241;43m.\u001b[39;49m\u001b[43mcheck_response\u001b[49m\u001b[43m(\u001b[49m\u001b[43mresponse\u001b[49m\u001b[43m)\u001b[49m\n\u001b[0;32m    441\u001b[0m     response[\u001b[38;5;124m\"\u001b[39m\u001b[38;5;124mvalue\u001b[39m\u001b[38;5;124m\"\u001b[39m] \u001b[38;5;241m=\u001b[39m \u001b[38;5;28mself\u001b[39m\u001b[38;5;241m.\u001b[39m_unwrap_value(response\u001b[38;5;241m.\u001b[39mget(\u001b[38;5;124m\"\u001b[39m\u001b[38;5;124mvalue\u001b[39m\u001b[38;5;124m\"\u001b[39m, \u001b[38;5;28;01mNone\u001b[39;00m))\n\u001b[0;32m    442\u001b[0m     \u001b[38;5;28;01mreturn\u001b[39;00m response\n",
      "File \u001b[1;32m~\\AppData\\Local\\Programs\\Python\\Python311\\Lib\\site-packages\\selenium\\webdriver\\remote\\errorhandler.py:245\u001b[0m, in \u001b[0;36mErrorHandler.check_response\u001b[1;34m(self, response)\u001b[0m\n\u001b[0;32m    243\u001b[0m         alert_text \u001b[38;5;241m=\u001b[39m value[\u001b[38;5;124m\"\u001b[39m\u001b[38;5;124malert\u001b[39m\u001b[38;5;124m\"\u001b[39m]\u001b[38;5;241m.\u001b[39mget(\u001b[38;5;124m\"\u001b[39m\u001b[38;5;124mtext\u001b[39m\u001b[38;5;124m\"\u001b[39m)\n\u001b[0;32m    244\u001b[0m     \u001b[38;5;28;01mraise\u001b[39;00m exception_class(message, screen, stacktrace, alert_text)  \u001b[38;5;66;03m# type: ignore[call-arg]  # mypy is not smart enough here\u001b[39;00m\n\u001b[1;32m--> 245\u001b[0m \u001b[38;5;28;01mraise\u001b[39;00m exception_class(message, screen, stacktrace)\n",
      "\u001b[1;31mNoSuchElementException\u001b[0m: Message: no such element: Unable to locate element: {\"method\":\"xpath\",\"selector\":\"/html/body/div[1]/div[1]/div/div/main/div/div[2]/div/div/section/div/div[3]/div/div/div/div/div[4]/div[2]/div/ul/li[14]/div/div[2]/div[2]/div[2]/div/button\"}\n  (Session info: chrome=113.0.5672.127)\nStacktrace:\nBacktrace:\n\tGetHandleVerifier [0x00FC8893+48451]\n\t(No symbol) [0x00F5B8A1]\n\t(No symbol) [0x00E65058]\n\t(No symbol) [0x00E90467]\n\t(No symbol) [0x00E9069B]\n\t(No symbol) [0x00EBDD92]\n\t(No symbol) [0x00EAA304]\n\t(No symbol) [0x00EBC482]\n\t(No symbol) [0x00EAA0B6]\n\t(No symbol) [0x00E87E08]\n\t(No symbol) [0x00E88F2D]\n\tGetHandleVerifier [0x01228E3A+2540266]\n\tGetHandleVerifier [0x01268959+2801161]\n\tGetHandleVerifier [0x0126295C+2776588]\n\tGetHandleVerifier [0x01052280+612144]\n\t(No symbol) [0x00F64F6C]\n\t(No symbol) [0x00F611D8]\n\t(No symbol) [0x00F612BB]\n\t(No symbol) [0x00F54857]\n\tBaseThreadInitThunk [0x760C7D59+25]\n\tRtlInitializeExceptionChain [0x7733B74B+107]\n\tRtlClearBits [0x7733B6CF+191]\n"
     ]
    }
   ],
   "source": [
    "from selenium import webdriver\n",
    "from webdriver_manager.chrome import ChromeDriverManager\n",
    "from selenium.webdriver.common.by import By\n",
    "\n",
    "brws=webdriver.Chrome(\"chromedriver.exe\")\n",
    "brws.get(\"https://baycurrentjp.udemy.com/course/python-kaizen/learn/lecture/27510962#overview\")\n",
    "\n",
    "ensyu2=brws.find_element(By.XPATH,\"/html/body/div[1]/div[1]/div/div/main/div/div[2]/div/div/section/div/div[3]/div/div/div/div/div[4]/div[2]/div/ul/li[14]/div/div[2]/div[2]/div[2]/div/button\")\n",
    "ensyu.click()\n",
    "\n",
    "brws.close()"
   ]
  },
  {
   "cell_type": "code",
   "execution_count": 4,
   "id": "c65f99c0",
   "metadata": {},
   "outputs": [
    {
     "data": {
      "text/plain": [
       "['C:\\\\Users\\\\mkuno5808\\\\Downloads\\\\演習問題その２ (1).ipynb',\n",
       " 'C:\\\\Users\\\\mkuno5808\\\\Downloads\\\\演習問題その２.ipynb']"
      ]
     },
     "execution_count": 4,
     "metadata": {},
     "output_type": "execute_result"
    }
   ],
   "source": [
    "from glob import glob\n",
    "f=glob(r\"C:\\Users\\mkuno5808\\Downloads\\*.ipynb\")\n",
    "f"
   ]
  },
  {
   "cell_type": "code",
   "execution_count": 6,
   "id": "f5e5a089",
   "metadata": {},
   "outputs": [
    {
     "data": {
      "text/plain": [
       "'C:\\\\Users\\\\mkuno5808\\\\Downloads\\\\演習問題その２.ipynb'"
      ]
     },
     "execution_count": 6,
     "metadata": {},
     "output_type": "execute_result"
    }
   ],
   "source": [
    "import os\n",
    "stdfs=sorted(f,key=os.path.getmtime)\n",
    "stdfs[0]"
   ]
  },
  {
   "cell_type": "code",
   "execution_count": 9,
   "id": "ab8e8e13",
   "metadata": {},
   "outputs": [
    {
     "data": {
      "text/plain": [
       "'C:\\\\Users\\\\mkuno5808\\\\Desktop\\\\基礎\\\\Udemy\\\\Python\\\\４章\\\\演習問題その２.ipynb'"
      ]
     },
     "execution_count": 9,
     "metadata": {},
     "output_type": "execute_result"
    }
   ],
   "source": [
    "import shutil\n",
    "shutil.move(stdfs[0],r\"C:\\Users\\mkuno5808\\Desktop\\基礎\\Udemy\\Python\\４章\")"
   ]
  },
  {
   "cell_type": "code",
   "execution_count": null,
   "id": "87f19b1c",
   "metadata": {},
   "outputs": [],
   "source": []
  }
 ],
 "metadata": {
  "kernelspec": {
   "display_name": "Python 3 (ipykernel)",
   "language": "python",
   "name": "python3"
  },
  "language_info": {
   "codemirror_mode": {
    "name": "ipython",
    "version": 3
   },
   "file_extension": ".py",
   "mimetype": "text/x-python",
   "name": "python",
   "nbconvert_exporter": "python",
   "pygments_lexer": "ipython3",
   "version": "3.11.0"
  }
 },
 "nbformat": 4,
 "nbformat_minor": 5
}
