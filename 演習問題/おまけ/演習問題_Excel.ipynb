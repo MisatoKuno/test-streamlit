{
 "cells": [
  {
   "cell_type": "markdown",
   "id": "18278768",
   "metadata": {},
   "source": [
    "**問１．  \n",
    "「名簿.xlsx」のSheet1のA列に記載されている氏名を、名字と名前に分割してそれぞれB列とC列に転記するプログラムを作成してください。**"
   ]
  },
  {
   "cell_type": "code",
   "execution_count": 28,
   "id": "3b44fdc0",
   "metadata": {
    "scrolled": true
   },
   "outputs": [],
   "source": [
    "# 回答欄\n",
    "import openpyxl as pxl\n",
    "wb=pxl.load_workbook(\"名簿.xlsx\")\n",
    "ws=wb[\"Sheet1\"]\n",
    "\n",
    "for i in range(2,ws.max_row+1):\n",
    "    if ws.cell(row=i,column=1).value==None:\n",
    "        continue\n",
    "    else:\n",
    "        sp_nm=ws.cell(row=i,column=1).value.split()\n",
    "        ws.cell(row=i,column=2).value=sp_nm[0]\n",
    "        ws.cell(row=i,column=3).value=sp_nm[1]\n",
    "\n",
    "wb.save(\"名簿.xlsx\")"
   ]
  },
  {
   "cell_type": "markdown",
   "id": "d17900ad",
   "metadata": {},
   "source": [
    "**問２．  \n",
    "「議事録.xlsx」のSheet1に記載されているToDoを過不足無く、Sheet2にフォーマット通りに転記するプログラムを作成してください。ただし、議事は増減し得るため、Sheet1に記載のToDo欄は必ずしも\"20行目から始まり、かつToDoの数は3つ\"とは限らないことに注意してください。**"
   ]
  },
  {
   "cell_type": "code",
   "execution_count": 68,
   "id": "d609a0a6",
   "metadata": {},
   "outputs": [],
   "source": [
    "# 回答欄\n",
    "from datetime import datetime\n",
    "import openpyxl as pyxl\n",
    "wb=pyxl.load_workbook(\"議事録.xlsx\")\n",
    "ws1=wb[\"Sheet1\"]\n",
    "ws2=wb[\"Sheet2\"]\n",
    "\n",
    "#記入列の取得\n",
    "tgt_row=0\n",
    "for i in range(1,1000):\n",
    "    if ws2.cell(row=i,column=5).value!=None:\n",
    "        continue\n",
    "    else:\n",
    "        tgt_row=i+1\n",
    "        break\n",
    "\n",
    "#転記対象列の範囲の取得\n",
    "start_row=0\n",
    "end_row=0\n",
    "for j in range(1,1000):\n",
    "    if ws1.cell(row=j,column=2).value==\"ToDo\":\n",
    "        start_row=j+2\n",
    "        break\n",
    "for k in range(start_row,start_row+100):\n",
    "    if ws1.cell(row=k,column=2).value==None:\n",
    "        end_row=k-1\n",
    "        break\n",
    "\n",
    "#転記\n",
    "count=0\n",
    "for l in range(start_row,end_row+1):\n",
    "    ws2.cell(row=tgt_row+count,column=1).value=int(ws1.cell(row=l,column=8).value.strftime(\"%Y\"))\n",
    "    ws2.cell(row=tgt_row+count,column=2).value=int(ws1.cell(row=l,column=8).value.strftime(\"%m\"))\n",
    "    ws2.cell(row=tgt_row+count,column=3).value=int(ws1.cell(row=l,column=8).value.strftime(\"%d\"))\n",
    "    ws2.cell(row=tgt_row+count,column=4).value=ws1.cell(row=l,column=7).value\n",
    "    ws2.cell(row=tgt_row+count,column=5).value=ws1.cell(row=l,column=2).value\n",
    "    count+=1\n",
    "\n",
    "now=datetime.now()\n",
    "day_str=now.strftime(\"%y%m%d\")\n",
    "\n",
    "wb.save(\"議事録_{}.xlsx\".format(day_str))"
   ]
  },
  {
   "cell_type": "markdown",
   "id": "543055dd",
   "metadata": {},
   "source": [
    "**問３．  \n",
    "「アンケート.xlsx」の「回答」シートは、『りんご・みかん・ぶどう・いちご・メロンの5つのうち好きな果物を選んでください（複数回答可）』というアンケートの結果です。この結果を「集計」シートに転記してまとめてください。具体的には、「集計」シートのB〜F各列の3行目以降に、その果物を選んだ人のユーザーIDを昇順で全て入力してください。**"
   ]
  },
  {
   "cell_type": "code",
   "execution_count": 80,
   "id": "fdc93998",
   "metadata": {},
   "outputs": [],
   "source": [
    "# 回答欄\n",
    "import openpyxl as px\n",
    "wb=px.load_workbook(\"アンケート.xlsx\")\n",
    "ws_ans=wb[\"回答\"]\n",
    "ws_syu=wb[\"集計\"]\n",
    "tgt_row=0\n",
    "\n",
    "def tgtrow(c):\n",
    "    for i in range(3,201):\n",
    "        if ws_syu.cell(row=i,column=c).value==None:\n",
    "            tgt_row=i\n",
    "            break\n",
    "    return tgt_row\n",
    "\n",
    "for ans_r in range(2,ws_ans.max_row+1):\n",
    "    for ans_col in range(2,7):\n",
    "        if ws_ans.cell(row=ans_r,column=ans_col).value!=None:\n",
    "            for j in range(2,ws_syu.max_column+1):\n",
    "                if ws_ans.cell(row=ans_r,column=ans_col).value==ws_syu.cell(row=1,column=j).value:\n",
    "                    tgt_row=tgtrow(j)\n",
    "                    ws_syu.cell(row=tgt_row,column=j).value=ws_ans.cell(row=ans_r,column=1).value\n",
    "        else:\n",
    "            break\n",
    "\n",
    "wb.save(\"アンケート_集計.xlsx\")"
   ]
  }
 ],
 "metadata": {
  "kernelspec": {
   "display_name": "Python 3 (ipykernel)",
   "language": "python",
   "name": "python3"
  },
  "language_info": {
   "codemirror_mode": {
    "name": "ipython",
    "version": 3
   },
   "file_extension": ".py",
   "mimetype": "text/x-python",
   "name": "python",
   "nbconvert_exporter": "python",
   "pygments_lexer": "ipython3",
   "version": "3.11.0"
  }
 },
 "nbformat": 4,
 "nbformat_minor": 5
}
