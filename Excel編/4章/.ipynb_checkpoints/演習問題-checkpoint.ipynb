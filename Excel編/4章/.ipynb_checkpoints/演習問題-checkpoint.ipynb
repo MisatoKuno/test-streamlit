{
 "cells": [
  {
   "cell_type": "markdown",
   "id": "1be43ef3",
   "metadata": {},
   "source": [
    "<完成物要件>  \n",
    "・担当者ごとのテーブルは新シートに追加  \n",
    "　- 担当者シートのシート名は「名前_売上金額合計」  \n",
    "・空白セルがあるデータは無効として除外"
   ]
  },
  {
   "cell_type": "code",
   "execution_count": 22,
   "id": "9e3581c6",
   "metadata": {},
   "outputs": [],
   "source": [
    "import pandas as pd\n",
    "import openpyxl as px\n",
    "\n",
    "#親テーブル作成\n",
    "col_list=[]\n",
    "wb=px.load_workbook(\"売上一覧(改).xlsx\")\n",
    "ws=wb.worksheets[0]\n",
    "\n",
    "for col in range(2,10):\n",
    "    col_list.append(ws.cell(3,col).value) #項目名リスト\n",
    "\n",
    "df=pd.read_excel(\"売上一覧(改).xlsx\",sheet_name=0)\n",
    "df=df.iloc[2:102,1:9]\n",
    "df=df.set_axis(col_list,axis=1) #項目名を設定\n",
    "\n",
    "df.isnull()\n",
    "nul_list=[]\n",
    "for i in range(df.shape[0]):\n",
    "    if df.isnull().any(axis=1).iloc[i]==True:\n",
    "        nul_list.append(i)\n",
    "df=df.drop(df.index[nul_list]) #空白セルの削除\n",
    "\n",
    "df_oya=df.reset_index(drop=True) #インデックスをリセット\n",
    "\n",
    "#子シート作成\n",
    "name=df_oya[\"担当者\"].unique()\n",
    "with pd.ExcelWriter(r\"C:\\Users\\mkuno5808\\Desktop\\基礎\\Udemy\\Python\\Excel編\\4章\\売上一覧(改) - コピー.xlsx\",mode=\"a\") as writer:\n",
    "    for nm in name:\n",
    "        df_ko=df_oya[df_oya[\"担当者\"]==nm]\n",
    "        SUM=df_ko[\"売上金額\"].sum()\n",
    "        df_ko.to_excel(writer,sheet_name=nm+\"_\"+str(SUM),index=False)\n",
    "    \n"
   ]
  },
  {
   "cell_type": "code",
   "execution_count": null,
   "id": "e3ba7dbb",
   "metadata": {},
   "outputs": [],
   "source": [
    "#バラバラにExcelファイルを作成してから統合\n",
    "#pxで新規シートを作成してそこにdfを落とし込み"
   ]
  }
 ],
 "metadata": {
  "kernelspec": {
   "display_name": "Python 3 (ipykernel)",
   "language": "python",
   "name": "python3"
  },
  "language_info": {
   "codemirror_mode": {
    "name": "ipython",
    "version": 3
   },
   "file_extension": ".py",
   "mimetype": "text/x-python",
   "name": "python",
   "nbconvert_exporter": "python",
   "pygments_lexer": "ipython3",
   "version": "3.11.0"
  }
 },
 "nbformat": 4,
 "nbformat_minor": 5
}
